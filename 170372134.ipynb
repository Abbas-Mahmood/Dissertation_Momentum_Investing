{
 "cells": [
  {
   "cell_type": "code",
   "execution_count": 1,
   "id": "3bc65c54",
   "metadata": {},
   "outputs": [],
   "source": [
    "import numpy as np\n",
    "import pandas as pd\n",
    "import matplotlib.pyplot as plt\n",
    "from scipy import stats as st\n",
    "from sklearn.linear_model import LinearRegression\n",
    "import seaborn as sns"
   ]
  },
  {
   "cell_type": "code",
   "execution_count": 301,
   "id": "6068baef",
   "metadata": {},
   "outputs": [],
   "source": [
    "Spot = pd.read_excel('BDHData.xlsx',index_col=0,sheet_name = 'Spot')\n",
    "Bid = pd.read_excel('BDHData.xlsx',index_col=0,sheet_name = 'Bid')\n",
    "Ask = pd.read_excel('BDHData.xlsx',index_col=0,sheet_name = 'Ask')\n",
    "Spread = abs(Bid-Ask)\n",
    "Spread_pct = (Spread/Spot)*100\n",
    "RollingVolatility_1M = pd.read_excel('BDHData.xlsx',index_col=0,sheet_name = 'Vol30D').iloc[1:,:]\n",
    "RollingVolatility_3M = pd.read_excel('BDHData.xlsx',index_col=0,sheet_name = 'Vol90D').iloc[3:,:]\n",
    "RollingVolatility_6M = pd.read_excel('BDHData.xlsx',index_col=0,sheet_name = 'Vol180D').iloc[6:,:]\n",
    "RollingVolatility_9M = pd.read_excel('BDHData.xlsx',index_col=0,sheet_name = 'Vol260D').iloc[9:,:]\n",
    "RollingVolatility_12M = pd.read_excel('BDHData.xlsx',index_col=0,sheet_name = 'Vol360D').iloc[12:,:]\n",
    "RollingVolatility_12MRAW = pd.read_excel('BDHData.xlsx',index_col=0,sheet_name = 'Vol360D')\n",
    "\n",
    "AnnualInterestRates = pd.read_excel('Interest_Rates.xlsx',index_col=0,sheet_name = 'IR_EMs')\n",
    "AnnualInterestRates = AnnualInterestRates.apply(lambda row: row.fillna(row.mean()), axis=1)\n",
    "\n",
    "Unique_Countries = ['Poland','South Africa', 'Chile', 'Nigeria', 'Korea, Rep.', 'Portugal', \\\n",
    "                    'Kazakhstan', 'China', 'Philippines', 'New Zealand', 'India', 'Bangladesh', \\\n",
    "                    'Malaysia', 'Indonesia', 'Colombia', 'Mexico', 'Algeria', \\\n",
    "                    'Greece', 'Argentina', 'Brazil', 'Hungary', 'Vietnam', 'Israel', \\\n",
    "                    'Czech Republic', 'Russian Federation', 'Thailand', 'Romania','Ukraine','Turkey',\\\n",
    "                    'Peru','Pakistan']\n",
    "Country_Ticker = zip(Unique_Countries,list(Spot.columns))\n",
    "CountryToTickers = dict(Country_Ticker)\n",
    "Ticker_Country = zip(list(Spot.columns),Unique_Countries)\n",
    "TickersToCountries = dict(Ticker_Country)"
   ]
  },
  {
   "cell_type": "markdown",
   "id": "0a2f0098",
   "metadata": {},
   "source": [
    "# Spot, Excess, TC Returns  & Interest-Rate-Differentials"
   ]
  },
  {
   "cell_type": "code",
   "execution_count": 3,
   "id": "090d8704",
   "metadata": {},
   "outputs": [],
   "source": [
    "def Returns_IRs_nM(n):\n",
    "    Returns_nM = -1*(((Spot.pct_change()+1).rolling(n).apply(lambda x: (np.product(x)))-1)*100).dropna(how = 'all')\n",
    "    InterestRates_n = AnnualInterestRates.apply(lambda x: (((x/100)+1)**(n/12)-1)*100)\n",
    "    IRDs = []\n",
    "    for year in AnnualInterestRates.columns:\n",
    "        IRDi = []\n",
    "        for country in InterestRates_n.index[:-1]:\n",
    "            IRDi.append(InterestRates_n[year].loc[country]-InterestRates_n[year].loc['United States'])\n",
    "        IRDs.append(IRDi)\n",
    "    IRD_n = pd.DataFrame(IRDs, columns = InterestRates_n.index[:-1], index = InterestRates_n.columns).T\n",
    "    \n",
    "    ExReturns_nM = []\n",
    "    for date in Returns_nM.index:\n",
    "        year = str(date.year)\n",
    "        exreturns_countryi = []\n",
    "    \n",
    "        for ticker in Returns_nM.columns:\n",
    "            exreturns_countryi.append(IRD_n[year].loc[TickersToCountries[ticker]]+Returns_nM[ticker].loc[date])\n",
    "        ExReturns_nM.append(exreturns_countryi)\n",
    "    Excess_Returns_nM = pd.DataFrame(ExReturns_nM,columns=Returns_nM.columns,index = Returns_nM.index)\n",
    "    \n",
    "    Spread_pct = (Spread/Spot)*100\n",
    "    Spread_pct.iloc[n:]\n",
    "    TC_LongExcessReturns_nM = pd.DataFrame(0.,columns=Returns_nM.columns,index = Returns_nM.index)\n",
    "    TC_ShortExcessReturns_nM = pd.DataFrame(0.,columns=Returns_nM.columns,index = Returns_nM.index)\n",
    "    for date in Excess_Returns_nM.index:\n",
    "        for ticker in Excess_Returns_nM.columns:\n",
    "            value = Excess_Returns_nM[ticker].loc[date]\n",
    "            TC_LongExcessReturns_nM[ticker].loc[date] = value - Spread_pct[ticker].loc[date]\n",
    "            TC_ShortExcessReturns_nM[ticker].loc[date] = (-1*value) - Spread_pct[ticker].loc[date]\n",
    "                \n",
    "    return Returns_nM,Excess_Returns_nM,TC_LongExcessReturns_nM,TC_ShortExcessReturns_nM,InterestRates_n,IRD_n"
   ]
  },
  {
   "cell_type": "code",
   "execution_count": 4,
   "id": "50132ca9",
   "metadata": {},
   "outputs": [],
   "source": [
    "Returns_1M,Excess_Returns_1M,TCLongExcessReturns_1M,TCShortExcessReturns_1M,InterestRates_1M,IRD_1M = Returns_IRs_nM(1)\n",
    "Returns_3M,Excess_Returns_3M,TCLongExcessReturns_3M,TCShortExcessReturns_3M,InterestRates_3M,IRD_3M = Returns_IRs_nM(3)\n",
    "Returns_6M,Excess_Returns_6M,TCLongExcessReturns_6M,TCShortExcessReturns_6M,InterestRates_6M,IRD_6M = Returns_IRs_nM(6)\n",
    "Returns_9M,Excess_Returns_9M,TCLongExcessReturns_9M,TCShortExcessReturns_9M,InterestRates_9M,IRD_9M = Returns_IRs_nM(9)\n",
    "Returns_12M,Excess_Returns_12M,TCLongExcessReturns_12M,TCShortExcessReturns_12M,InterestRates_12M,IRD_12M = Returns_IRs_nM(12)"
   ]
  },
  {
   "cell_type": "markdown",
   "id": "ab0c2bcb",
   "metadata": {},
   "source": [
    "# Emerging Country Criteria & Selection"
   ]
  },
  {
   "cell_type": "code",
   "execution_count": 267,
   "id": "3c9c68a5",
   "metadata": {},
   "outputs": [
    {
     "data": {
      "text/plain": [
       "Index([1998, 1999, 2000, 2001, 2002, 2003, 2004, 2005, 2006, 2007, 2008, 2009,\n",
       "       2010, 2011, 2012, 2013, 2014, 2015, 2016, 2017, 2018, 2019],\n",
       "      dtype='object')"
      ]
     },
     "execution_count": 267,
     "metadata": {},
     "output_type": "execute_result"
    }
   ],
   "source": [
    "GDPgrowth.columns[28:-1]"
   ]
  },
  {
   "cell_type": "code",
   "execution_count": 250,
   "id": "5b958fda",
   "metadata": {},
   "outputs": [],
   "source": [
    "a = pd.read_excel('Data_Extract_From_World_Development_Indicators.xlsx',index_col=0,sheet_name = 'GDP')\n",
    "GDP = a.drop(a.columns[0], axis=1)/1000000000\n",
    "\n",
    "GDPgrowth = (GDP.pct_change(axis='columns')+1).T.rolling(10).apply(lambda x: np.product(x)).T.dropna(how='all',axis=1).dropna(how='all')\n",
    "\n",
    "c = pd.read_excel('Income&business.xlsx',index_col=0,sheet_name = 'GNI')\n",
    "GNI = c.drop(c.columns[0],axis=1).dropna(how='all',axis=1)\n",
    "\n",
    "#Function to be used to select interesction of criteria.\n",
    "def IntersectionOfCriteria(A,B): \n",
    "    overlap =[]\n",
    "    for k in range(len(A)):\n",
    "        overlapi =[]\n",
    "        for i in range(len(A[k])):\n",
    "            for j in range(len(B[k])):\n",
    "                if A[k][i]==B[k][j]:\n",
    "                    overlapi.append(A[k][i])\n",
    "        overlap.append(overlapi)\n",
    "    return overlap"
   ]
  },
  {
   "cell_type": "code",
   "execution_count": 251,
   "id": "76bedfff",
   "metadata": {},
   "outputs": [],
   "source": [
    "#Criteria1: GDP SIZE > WORLD GDP x 0.2%\n",
    "TopGDP =[]\n",
    "for i in GDP.columns[38:-1]: # so that it coincides with GDPgrowthindex years\n",
    "    TopGDPi = []\n",
    "    for j in GDP.index[:-1]:\n",
    "        if GDP[i].loc[j] > GDP[i].loc['World']*0.002:\n",
    "            TopGDPi.append(j)\n",
    "    #print(len(TopGDPi))\n",
    "    TopGDP.append(TopGDPi)"
   ]
  },
  {
   "cell_type": "code",
   "execution_count": 280,
   "id": "b6d11cb2",
   "metadata": {},
   "outputs": [],
   "source": [
    "#Criteria2: SUSTAINED(10YRS) GDP GROWTH > WORLD GDP GROWTH + 20%\n",
    "TopGrowth = []\n",
    "for year in GDPgrowth.columns[29:]: #looping through each year\n",
    "    TopGrowthi = [] #new array for each year top growth countries\n",
    "    for country in GDPgrowth.index[:-1]: #looping through each country\n",
    "        if GDPgrowth[year].loc[country]>GDPgrowth[year].loc['World']+0.2:\n",
    "            TopGrowthi.append(country)\n",
    "    #print(len(TopGrowthi))\n",
    "    TopGrowth.append(TopGrowthi)"
   ]
  },
  {
   "cell_type": "code",
   "execution_count": 281,
   "id": "924d75a4",
   "metadata": {},
   "outputs": [],
   "source": [
    "#Criteria3: GNI PER CAPITA < WORLD GNI PER CAPITA x 2.5\n",
    "GNIcriteria = []\n",
    "for year in GNI.columns[8:-1]:\n",
    "    GNIcriteriai = []\n",
    "    for country in GNI.index[:-1]:\n",
    "        if GNI[year].loc[country]< 2.5*GNI[year].loc['World']:\n",
    "            GNIcriteriai.append(country)\n",
    "    #print(len(GNIcriteriai))\n",
    "    GNIcriteria.append(GNIcriteriai)"
   ]
  },
  {
   "cell_type": "code",
   "execution_count": 282,
   "id": "429a1427",
   "metadata": {},
   "outputs": [],
   "source": [
    "YearlyCriteria = []\n",
    "for i in range(len(GDPgrowth.columns[29:])):\n",
    "    YearlyCriteria.append([GDPgrowth.columns[29:][i],IntersectionOfCriteria(IntersectionOfCriteria(TopGDP,TopGrowth),GNIcriteria)[i]])\n",
    "UniqueCountries = list(set(np.concatenate(IntersectionOfCriteria(IntersectionOfCriteria(TopGDP,TopGrowth),GNIcriteria),axis=0)))\n",
    "Yearly_Criteria = pd.DataFrame(YearlyCriteria,columns= ['Year','EmergingCountries']).set_index('Year')"
   ]
  },
  {
   "cell_type": "code",
   "execution_count": 283,
   "id": "e21eee65",
   "metadata": {},
   "outputs": [
    {
     "data": {
      "text/plain": [
       "36"
      ]
     },
     "execution_count": 283,
     "metadata": {},
     "output_type": "execute_result"
    }
   ],
   "source": []
  },
  {
   "cell_type": "markdown",
   "id": "94fec1eb",
   "metadata": {},
   "source": [
    "## Here we remove countries that are pegged or have other major risks / economic issues"
   ]
  },
  {
   "cell_type": "code",
   "execution_count": 11,
   "id": "d103bd62",
   "metadata": {},
   "outputs": [],
   "source": [
    "YearlyEmergingCountries = [] #Removing excluded countries\n",
    "YearlyEmergingTickers = []\n",
    "for i in range(len(YearlyCriteria)):\n",
    "    emergingcountriesi = []\n",
    "    emergingtickersi = []\n",
    "    #print(GDPgrowth.columns[29:][13])\n",
    "    #print(GDPgrowth.columns[29:][17])\n",
    "    for country in YearlyCriteria[i][1]:\n",
    "        if country != 'Iran, Islamic Rep.' and country != 'Venezuela, RB' and country != 'Iraq'\\\n",
    "        and country != 'Egypt, Arab Rep.' and country != 'Myanmar':\n",
    "        #and ([i,country]!=[12,'Myanmar']) and ([i,country]!=[13,'Myanmar'])\\\n",
    "        #and ([i,country]!=[17,'Egypt, Arab Rep.']):\n",
    "            emergingcountriesi.append(country)\n",
    "            emergingtickersi.append(CountryToTickers[country])\n",
    "    YearlyEmergingCountries.append([GDPgrowth.columns[29:][i],emergingcountriesi])\n",
    "    YearlyEmergingTickers.append([GDPgrowth.columns[29:][i],emergingtickersi])\n",
    "Yearly_EmergingCountries = pd.DataFrame(YearlyEmergingCountries,columns = ['Year','EmergingCountries']).set_index('Year')\n",
    "Yearly_EmergingTickers = pd.DataFrame(YearlyEmergingTickers,columns = ['Year','EmergingCountries']).set_index('Year')"
   ]
  },
  {
   "cell_type": "code",
   "execution_count": 12,
   "id": "9300dd9e",
   "metadata": {},
   "outputs": [],
   "source": [
    "ERC = pd.read_excel('CountriesAndPegs.xlsx',index_col=0,sheet_name = 'ERClassifications')#IMF Exchange rate classifications.\n",
    "YearlyUnpeggedCountries = []\n",
    "YearlyUnpeggedTickers = []\n",
    "for i in range(len(ERC.index)):\n",
    "    unpeggedcountriesi = []\n",
    "    unpeggedtickersi = []\n",
    "    for country in YearlyEmergingCountries[i][1]:\n",
    "        if (ERC[country].loc[ERC.index[i]]) !=1:\n",
    "            unpeggedcountriesi.append(country)\n",
    "            unpeggedtickersi.append(CountryToTickers[country])\n",
    "    YearlyUnpeggedCountries.append([ERC.index[i],unpeggedcountriesi])\n",
    "    YearlyUnpeggedTickers.append([ERC.index[i],unpeggedtickersi])\n",
    "Yearly_UnpeggedCountries = pd.DataFrame(YearlyUnpeggedCountries,columns = ['Year','EmergingCountries']).set_index('Year')\n",
    "Yearly_UnpeggedTickers = pd.DataFrame(YearlyUnpeggedTickers,columns = ['Year','EmergingCountries']).set_index('Year')"
   ]
  },
  {
   "cell_type": "code",
   "execution_count": 13,
   "id": "f6411c52",
   "metadata": {},
   "outputs": [],
   "source": [
    "YearlyUnpegged1and2Countries = []\n",
    "YearlyUnpegged1and2Tickers = []\n",
    "for i in range(len(ERC.index)):\n",
    "    unpeggedcountriesi = []\n",
    "    unpeggedtickersi = []\n",
    "    for country in YearlyEmergingCountries[i][1]:\n",
    "        if (ERC[country].loc[ERC.index[i]]) != 1 and (ERC[country].loc[ERC.index[i]])!=2 :\n",
    "            unpeggedcountriesi.append(country)\n",
    "            unpeggedtickersi.append(CountryToTickers[country])\n",
    "    YearlyUnpegged1and2Countries.append([ERC.index[i],unpeggedcountriesi])\n",
    "    YearlyUnpegged1and2Tickers.append([ERC.index[i],unpeggedtickersi])\n",
    "Yearly_Unpegged1and2Countries = pd.DataFrame(YearlyUnpegged1and2Countries,columns = ['Year','EmergingCountries']).set_index('Year')\n",
    "Yearly_Unpegged1and2Tickers = pd.DataFrame(YearlyUnpegged1and2Tickers,columns = ['Year','EmergingCountries']).set_index('Year')"
   ]
  },
  {
   "cell_type": "markdown",
   "id": "4ec804a3",
   "metadata": {},
   "source": [
    "# Portfolio formation - Excess Returns"
   ]
  },
  {
   "cell_type": "code",
   "execution_count": 190,
   "id": "2bc2d31e",
   "metadata": {
    "scrolled": true
   },
   "outputs": [],
   "source": [
    "def CurrencyMomentumPortfolios(Yearly_EmergingTickers,Returns_fM,Returns_hM,f,h,split,\\\n",
    "                               RollingVolatility_fM, ranking_system, weighting_system,\\\n",
    "                               TCLongExcessReturns_hM='a',TCShortExcessReturns_hM='b',TC = 'no'):\n",
    "    \n",
    "    LongPortfolioReturns_f_h = pd.DataFrame(0.,columns = Returns_fM.columns,index=Returns_fM.index[1:])\n",
    "    ShortPortfolioReturns_f_h = pd.DataFrame(0.,columns = Returns_fM.columns,index=Returns_fM.index[1:])\n",
    "\n",
    "    for i in np.arange(0,len(Returns_fM)-h,h):\n",
    "        if i+h<len(Returns_hM):\n",
    "            year_i = Returns_fM.index[i].year\n",
    "            \n",
    "        #RANKING\n",
    "            if ranking_system == 'returns':\n",
    "                ECReturnsi = Returns_fM.iloc[i][Yearly_EmergingTickers.loc[year_i][0]]\n",
    "                winners = ECReturnsi.nlargest(int(np.round(len(ECReturnsi)/split))) \n",
    "                losers = ECReturnsi.nsmallest(int(np.round(len(ECReturnsi)/split)))\n",
    "            elif ranking_system == 'sharpe':\n",
    "                ECReturnsi = Returns_fM.iloc[i][Yearly_EmergingTickers.loc[year_i][0]]\\\n",
    "                                   /RollingVolatility_fM.iloc[i][Yearly_EmergingTickers.loc[year_i][0]]\n",
    "                winners = ECReturnsi.nlargest(int(np.round(len(ECReturnsi)/split))) \n",
    "                losers = ECReturnsi.nsmallest(int(np.round(len(ECReturnsi)/split)))\n",
    "                \n",
    "        #WEIGHTING\n",
    "            if weighting_system == 'equal':\n",
    "                Weights = pd.DataFrame([list(winners.index)+list(losers.index),[1/len(winners+losers)]*len(winners+losers)]\\\n",
    "                                   ,index = ['Tickers','Weights']).T.set_index('Tickers')\n",
    "\n",
    "            elif weighting_system == 'returns':\n",
    "                weight = []\n",
    "                totalweights = abs(Returns_fM[list(winners.index)+list(losers.index)].iloc[i]).sum()\n",
    "                for ticker in (list(winners.index)+list(losers.index)):\n",
    "                    weight.append([ticker,abs(Returns_fM[ticker].iloc[i])/totalweights])\n",
    "                Weights = pd.DataFrame(weight,columns=['Tickers','Weights']).set_index('Tickers')\n",
    "                \n",
    "            elif weighting_system == 'sharpe':\n",
    "                Weights = pd.DataFrame(columns = ['Tickers','Weights'])\n",
    "                counter = 0\n",
    "                for ticker in (list(winners.index)+list(losers.index)):\n",
    "                    weight = RollingVolatility_fM[ticker].iloc[i]\\\n",
    "                    /RollingVolatility_fM[list(winners.index)+list(losers.index)].iloc[i].sum()\n",
    "                    Weights.loc[counter] = [ticker,weight]\n",
    "                    counter+=1\n",
    "                Weights = Weights.set_index('Tickers')\n",
    "    \n",
    "            #RETURNS\n",
    "            if TC == 'no':\n",
    "                for ticker in winners.index:\n",
    "                    LongPortfolioReturns_f_h.iloc[i][ticker] = Weights.loc[ticker][0]*Returns_hM.iloc[i+h][ticker]\n",
    "                for ticker in losers.index:\n",
    "                    ShortPortfolioReturns_f_h.iloc[i][ticker] = Weights.loc[ticker][0]*-Returns_hM.iloc[i+h][ticker]\n",
    "            elif TC == 'yes':\n",
    "                for ticker in winners.index:\n",
    "                    LongPortfolioReturns_f_h.iloc[i][ticker] = Weights.loc[ticker][0]*TCLongExcessReturns_hM.iloc[i+h][ticker]\n",
    "                for ticker in losers.index:\n",
    "                    ShortPortfolioReturns_f_h.iloc[i][ticker] = Weights.loc[ticker][0]*TCShortExcessReturns_hM.iloc[i+h][ticker]\n",
    "\n",
    "    LongPortfolioReturns_f_h = LongPortfolioReturns_f_h.replace(0,np.nan).dropna(how='all',axis=0)\n",
    "    ShortPortfolioReturns_f_h = ShortPortfolioReturns_f_h.replace(0,np.nan).dropna(how='all',axis=0)\n",
    "    \n",
    "    LongPortfolioReturns_f_h = LongPortfolioReturns_f_h.replace(np.nan,0)\n",
    "    ShortPortfolioReturns_f_h = ShortPortfolioReturns_f_h.replace(np.nan,0)\n",
    "    TotalPortfolioReturns_f_h = LongPortfolioReturns_f_h + ShortPortfolioReturns_f_h\n",
    "    \n",
    "    return TotalPortfolioReturns_f_h, LongPortfolioReturns_f_h, ShortPortfolioReturns_f_h\n"
   ]
  },
  {
   "cell_type": "markdown",
   "id": "73586934",
   "metadata": {},
   "source": [
    "# Portfolio results"
   ]
  },
  {
   "cell_type": "code",
   "execution_count": 322,
   "id": "83cb27df",
   "metadata": {},
   "outputs": [],
   "source": [
    "#Benchmark Excess Returns Results 1 holding period \n",
    "BenchmarkTotal_1_1,BenchmarkLong_1_1,BenchmarkShort_1_1 = CurrencyMomentumPortfolios(Yearly_EmergingTickers,Excess_Returns_1M,Excess_Returns_1M,1,1,3,RollingVolatility_1M,'returns','equal')\n",
    "BenchmarkTotal_3_1,BenchmarkLong_3_1,BenchmarkShort_3_1 = CurrencyMomentumPortfolios(Yearly_EmergingTickers,Excess_Returns_3M,Excess_Returns_1M,3,1,3,RollingVolatility_3M,'returns','equal')\n",
    "BenchmarkTotal_6_1,BenchmarkLong_6_1,BenchmarkShort_6_1 = CurrencyMomentumPortfolios(Yearly_EmergingTickers,Excess_Returns_6M,Excess_Returns_1M,6,1,3,RollingVolatility_6M,'returns','equal')\n",
    "BenchmarkTotal_9_1,BenchmarkLong_9_1,BenchmarkShort_9_1 = CurrencyMomentumPortfolios(Yearly_EmergingTickers,Excess_Returns_9M,Excess_Returns_1M,9,1,3,RollingVolatility_9M,'returns','equal')\n",
    "BenchmarkTotal_12_1,BenchmarkLong_12_1,BenchmarkShort_12_1 = CurrencyMomentumPortfolios(Yearly_EmergingTickers,Excess_Returns_12M,Excess_Returns_1M,12,1,3,RollingVolatility_12M,'returns','equal')"
   ]
  },
  {
   "cell_type": "code",
   "execution_count": 343,
   "id": "32ba2e4c",
   "metadata": {},
   "outputs": [
    {
     "name": "stdout",
     "output_type": "stream",
     "text": [
      "5.089474070082833\n",
      "3.434377926732786\n",
      "6.989213616758843\n"
     ]
    }
   ],
   "source": [
    "print(BenchmarkTotal_6_1.T.sum().max())\n",
    "print(BenchmarkLong_6_1.T.sum().max())\n",
    "print(BenchmarkShort_6_1.T.sum().max())"
   ]
  },
  {
   "cell_type": "code",
   "execution_count": 335,
   "id": "650cd5aa",
   "metadata": {},
   "outputs": [],
   "source": [
    "#Benchmark Spot Returns Results 1 holding period \n",
    "BenchmarkSpotTotal_1_1,BenchmarkSpotLong_1_1,BenchmarkSpotShort_1_1 = CurrencyMomentumPortfolios(Yearly_EmergingTickers,Returns_1M,Returns_1M,1,1,3,RollingVolatility_1M,'returns','equal')\n",
    "BenchmarkSpotTotal_3_1,BenchmarkSpotLong_3_1,BenchmarkSpotShort_3_1 = CurrencyMomentumPortfolios(Yearly_EmergingTickers,Returns_3M,Returns_1M,3,1,3,RollingVolatility_3M,'returns','equal')\n",
    "BenchmarkSpotTotal_6_1,BenchmarkSpotLong_6_1,BenchmarkSpotShort_6_1 = CurrencyMomentumPortfolios(Yearly_EmergingTickers,Returns_6M,Returns_1M,6,1,3,RollingVolatility_6M,'returns','equal')\n",
    "BenchmarkSpotTotal_9_1,BenchmarkSpotLong_9_1,BenchmarkSpotShort_9_1 = CurrencyMomentumPortfolios(Yearly_EmergingTickers,Returns_9M,Returns_1M,9,1,3,RollingVolatility_9M,'returns','equal')\n",
    "BenchmarkSpotTotal_12_1,BenchmarkSpotLong_12_1,BenchmarkSpotShort_12_1 = CurrencyMomentumPortfolios(Yearly_EmergingTickers,Returns_12M,Returns_1M,12,1,3,RollingVolatility_12M,'returns','equal')"
   ]
  },
  {
   "cell_type": "code",
   "execution_count": 347,
   "id": "1f316f87",
   "metadata": {},
   "outputs": [
    {
     "name": "stdout",
     "output_type": "stream",
     "text": [
      "6.560073451947203\n",
      "3.2403126419788317\n",
      "7.795140145887114\n"
     ]
    }
   ],
   "source": [
    "print(BenchmarkSpotTotal_3_1.T.sum().max())\n",
    "print(BenchmarkSpotLong_3_1.T.sum().max())\n",
    "print(BenchmarkSpotShort_3_1.T.sum().max())"
   ]
  },
  {
   "cell_type": "code",
   "execution_count": 713,
   "id": "d1cb6bd7",
   "metadata": {},
   "outputs": [],
   "source": [
    "#BenchmarkSpotTotal_6_1.T.sum().to_excel('Portfolios/total.xlsx')\n",
    "#BenchmarkSpotLong_6_1.T.sum().to_excel('Portfolios/long.xlsx')\n",
    "#BenchmarkSpotShort_6_1.T.sum().to_excel('Portfolios/short.xlsx')"
   ]
  },
  {
   "cell_type": "code",
   "execution_count": 16,
   "id": "83df54c6",
   "metadata": {},
   "outputs": [
    {
     "data": {
      "image/png": "[encoded data removed]",
      "text/plain": [
       "<Figure size 432x288 with 1 Axes>"
      ]
     },
     "metadata": {
      "needs_background": "light"
     },
     "output_type": "display_data"
    }
   ],
   "source": [
    "plt.plot(BenchmarkTotal_1_1.T.sum().cumsum(),label = 'Total');\n",
    "plt.plot(BenchmarkLong_1_1.T.sum().cumsum(),label = 'Long');\n",
    "plt.plot(BenchmarkShort_1_1.T.sum().cumsum(),label = 'Short');\n",
    "plt.legend();"
   ]
  },
  {
   "cell_type": "code",
   "execution_count": 704,
   "id": "1f22bea6",
   "metadata": {},
   "outputs": [
    {
     "data": {
      "image/png": "[encoded data removed]",
      "text/plain": [
       "<Figure size 432x288 with 1 Axes>"
      ]
     },
     "metadata": {
      "needs_background": "light"
     },
     "output_type": "display_data"
    }
   ],
   "source": [
    "plt.plot(BenchmarkTotal_3_1.T.sum().cumsum(),label = 'Total');\n",
    "plt.plot(BenchmarkLong_3_1.T.sum().cumsum(),label = 'Long');\n",
    "plt.plot(BenchmarkShort_3_1.T.sum().cumsum(),label = 'Short');\n",
    "plt.legend();"
   ]
  },
  {
   "cell_type": "code",
   "execution_count": 700,
   "id": "9ce42e0f",
   "metadata": {},
   "outputs": [
    {
     "data": {
      "image/png": "[encoded data removed]",
      "text/plain": [
       "<Figure size 432x288 with 1 Axes>"
      ]
     },
     "metadata": {
      "needs_background": "light"
     },
     "output_type": "display_data"
    }
   ],
   "source": [
    "plt.plot(BenchmarkTotal_6_1.T.sum().cumsum(),label = 'Total');\n",
    "plt.plot(BenchmarkLong_6_1.T.sum().cumsum(),label = 'Long');\n",
    "plt.plot(BenchmarkShort_6_1.T.sum().cumsum(),label = 'Short');\n",
    "plt.legend();"
   ]
  },
  {
   "cell_type": "code",
   "execution_count": 701,
   "id": "09ce96a3",
   "metadata": {},
   "outputs": [
    {
     "data": {
      "image/png": "[encoded data removed]",
      "text/plain": [
       "<Figure size 432x288 with 1 Axes>"
      ]
     },
     "metadata": {
      "needs_background": "light"
     },
     "output_type": "display_data"
    }
   ],
   "source": [
    "plt.plot(BenchmarkTotal_9_1.T.sum().cumsum(),label = 'Total');\n",
    "plt.plot(BenchmarkLong_9_1.T.sum().cumsum(),label = 'Long');\n",
    "plt.plot(BenchmarkShort_9_1.T.sum().cumsum(),label = 'Short');\n",
    "plt.legend();"
   ]
  },
  {
   "cell_type": "code",
   "execution_count": 323,
   "id": "c98e050e",
   "metadata": {},
   "outputs": [],
   "source": [
    "#print out all results and combinations. Selecting spot or excess, then weight within loop\n",
    "#Rets = [[1,Returns_1M,RollingVolatility_1M],[3,Returns_3M,RollingVolatility_3M],\\\n",
    "#        [6,Returns_6M,RollingVolatility_6M],[9,Returns_9M,RollingVolatility_9M],\\\n",
    "#        [12,Returns_12M,RollingVolatility_12M]]\n",
    "Rets = [[1,Excess_Returns_1M,RollingVolatility_1M],[3,Excess_Returns_3M,RollingVolatility_3M],\\\n",
    "        [6,Excess_Returns_6M,RollingVolatility_6M],[9,Excess_Returns_9M,RollingVolatility_9M],\\\n",
    "        [12,Excess_Returns_12M,RollingVolatility_12M]]\n",
    "\n",
    "TotalAverageReturns_df = pd.DataFrame(0.,columns = [1,3,6,9,12],index=[1,3,6,9,12])\n",
    "LongAverageReturns_df = pd.DataFrame(0.,columns = [1,3,6,9,12],index=[1,3,6,9,12])\n",
    "ShortAverageReturns_df = pd.DataFrame(0.,columns = [1,3,6,9,12],index=[1,3,6,9,12])\n",
    "AnnualizedSharpeRatiosTotal_df = pd.DataFrame(0.,columns = [1,3,6,9,12],index=[1,3,6,9,12])\n",
    "AnnualizedSharpeRatiosLong_df = pd.DataFrame(0.,columns = [1,3,6,9,12],index=[1,3,6,9,12])\n",
    "AnnualizedSharpeRatiosShort_df = pd.DataFrame(0.,columns = [1,3,6,9,12],index=[1,3,6,9,12])\n",
    "SharpeTotalpval = pd.DataFrame(columns = [1,3,6,9,12],index=[1,3,6,9,12])\n",
    "SharpeLongpval = pd.DataFrame(columns = [1,3,6,9,12],index=[1,3,6,9,12])\n",
    "SharpeShortpval = pd.DataFrame(columns = [1,3,6,9,12],index=[1,3,6,9,12])\n",
    "\n",
    "StdTotal_df = pd.DataFrame(0.,columns = [1,3,6,9,12],index=[1,3,6,9,12])\n",
    "StdLong_df = pd.DataFrame(0.,columns = [1,3,6,9,12],index=[1,3,6,9,12])\n",
    "StdShort_df = pd.DataFrame(0.,columns = [1,3,6,9,12],index=[1,3,6,9,12])\n",
    "TotalTtest = pd.DataFrame(columns = [1,3,6,9,12],index=[1,3,6,9,12])\n",
    "LongTtest = pd.DataFrame(columns = [1,3,6,9,12],index=[1,3,6,9,12])\n",
    "ShortTtest = pd.DataFrame(columns = [1,3,6,9,12],index=[1,3,6,9,12])\n",
    "TotalPval = pd.DataFrame(columns = [1,3,6,9,12],index=[1,3,6,9,12])\n",
    "LongPval = pd.DataFrame(columns = [1,3,6,9,12],index=[1,3,6,9,12])\n",
    "ShortPval = pd.DataFrame(columns = [1,3,6,9,12],index=[1,3,6,9,12])\n",
    "\n",
    "for i in range(5): #f\n",
    "    for j in range(5): #h\n",
    "        total,long,short = CurrencyMomentumPortfolios(Yearly_EmergingTickers,Rets[i][1],\\\n",
    "                            Rets[j][1],Rets[i][0],Rets[j][0],3,Rets[i][2],'returns','equal')\n",
    "        #TotalTtest.iat[i,j] = st.ttest_1samp(total.T.sum(),0)[0]\n",
    "        #LongTtest.iat[i,j] = st.ttest_1samp(long.T.sum(),0)[0]\n",
    "        #ShortTtest.iat[i,j] = st.ttest_1samp(short.T.sum(),0)[0]\n",
    "        TotalPval.iat[i,j] = st.ttest_1samp(total.T.sum(),0)[1]\n",
    "        LongPval.iat[i,j] = st.ttest_1samp(long.T.sum(),0)[1]\n",
    "        ShortPval.iat[i,j] = st.ttest_1samp(short.T.sum(),0)[1]\n",
    "        #AnnualizedSharpeRatiosTotal_df.iloc[i,j] = ((((total.T.sum().mean()/100)+1)**(12/Rets[j][0])-1)*100)/(total.T.sum().std()*np.sqrt(12/Rets[j][0]))\n",
    "        #AnnualizedSharpeRatiosLong_df.iloc[i,j] = ((((long.T.sum().mean()/100)+1)**(12/Rets[j][0])-1)*100)/(long.T.sum().std()*np.sqrt(12/Rets[j][0]))\n",
    "        #AnnualizedSharpeRatiosShort_df.iloc[i,j] = ((((short.T.sum().mean()/100)+1)**(12/Rets[j][0])-1)*100)/(short.T.sum().std()*np.sqrt(12/Rets[j][0]))\n",
    "        #SharpeTotalpval.iloc[i,j] = st.ttest_1samp(total.T.sum()/total.T.std(),0)[1]\n",
    "        #SharpeLongpval.iloc[i,j] = st.ttest_1samp(long.T.sum()/long.T.std(),0)[1]\n",
    "        #SharpeShortpval.iloc[i,j] = st.ttest_1samp(short.T.sum()/short.T.std(),0)[1]\n",
    "                \n",
    "        #StdTotal_df.iloc[i,j] = total.T.sum().std()\n",
    "        #StdLong_df.iloc[i,j] = long.T.sum().std()\n",
    "        #StdShort_df.iloc[i,j] = short.T.sum().std()\n",
    "        TotalAverageReturns_df.iloc[i,j] = ((((total.T.sum().mean()/100)+1)**(12/Rets[j][0])-1)*100)\n",
    "        LongAverageReturns_df.iloc[i,j] = ((((long.T.sum().mean()/100)+1)**(12/Rets[j][0])-1)*100)\n",
    "        ShortAverageReturns_df.iloc[i,j] = ((((short.T.sum().mean()/100)+1)**(12/Rets[j][0])-1)*100)"
   ]
  },
  {
   "cell_type": "code",
   "execution_count": 325,
   "id": "10812bb0",
   "metadata": {},
   "outputs": [
    {
     "data": {
      "text/html": [
       "<div>\n",
       "<style scoped>\n",
       "    .dataframe tbody tr th:only-of-type {\n",
       "        vertical-align: middle;\n",
       "    }\n",
       "\n",
       "    .dataframe tbody tr th {\n",
       "        vertical-align: top;\n",
       "    }\n",
       "\n",
       "    .dataframe thead th {\n",
       "        text-align: right;\n",
       "    }\n",
       "</style>\n",
       "<table border=\"1\" class=\"dataframe\">\n",
       "  <thead>\n",
       "    <tr style=\"text-align: right;\">\n",
       "      <th></th>\n",
       "      <th>1</th>\n",
       "      <th>3</th>\n",
       "      <th>6</th>\n",
       "      <th>9</th>\n",
       "      <th>12</th>\n",
       "    </tr>\n",
       "  </thead>\n",
       "  <tbody>\n",
       "    <tr>\n",
       "      <th>1</th>\n",
       "      <td>0.004051</td>\n",
       "      <td>0.359419</td>\n",
       "      <td>0.193519</td>\n",
       "      <td>0.435367</td>\n",
       "      <td>0.903284</td>\n",
       "    </tr>\n",
       "    <tr>\n",
       "      <th>3</th>\n",
       "      <td>0.0</td>\n",
       "      <td>0.551842</td>\n",
       "      <td>0.824095</td>\n",
       "      <td>0.133389</td>\n",
       "      <td>0.616181</td>\n",
       "    </tr>\n",
       "    <tr>\n",
       "      <th>6</th>\n",
       "      <td>0.0</td>\n",
       "      <td>0.0</td>\n",
       "      <td>0.791213</td>\n",
       "      <td>0.376989</td>\n",
       "      <td>0.77229</td>\n",
       "    </tr>\n",
       "    <tr>\n",
       "      <th>9</th>\n",
       "      <td>0.0</td>\n",
       "      <td>0.0</td>\n",
       "      <td>0.000062</td>\n",
       "      <td>0.711883</td>\n",
       "      <td>0.665598</td>\n",
       "    </tr>\n",
       "    <tr>\n",
       "      <th>12</th>\n",
       "      <td>0.0</td>\n",
       "      <td>0.0</td>\n",
       "      <td>0.0</td>\n",
       "      <td>0.000356</td>\n",
       "      <td>0.917508</td>\n",
       "    </tr>\n",
       "  </tbody>\n",
       "</table>\n",
       "</div>"
      ],
      "text/plain": [
       "          1         3         6         9         12\n",
       "1   0.004051  0.359419  0.193519  0.435367  0.903284\n",
       "3        0.0  0.551842  0.824095  0.133389  0.616181\n",
       "6        0.0       0.0  0.791213  0.376989   0.77229\n",
       "9        0.0       0.0  0.000062  0.711883  0.665598\n",
       "12       0.0       0.0       0.0  0.000356  0.917508"
      ]
     },
     "execution_count": 325,
     "metadata": {},
     "output_type": "execute_result"
    }
   ],
   "source": [
    "TotalPval"
   ]
  },
  {
   "cell_type": "code",
   "execution_count": 326,
   "id": "7e059249",
   "metadata": {},
   "outputs": [],
   "source": [
    "#TotalAverageReturns_df.to_excel('Portfolios/TotalReturnsSWeight.xlsx',sheet_name='Total')\n",
    "#ShortAverageReturns_df.to_excel('Portfolios/Short.xlsx',sheet_name='Short')\n",
    "#LongAverageReturns_df.to_excel('Portfolios/Long.xlsx',sheet_name='Long')\n",
    "#AnnualizedSharpeRatiosTotal_df.to_excel('Portfolios/TotalSharpe.xlsx',sheet_name='Long')\n",
    "#AnnualizedSharpeRatiosLong_df.to_excel('Portfolios/LongSharpe.xlsx',sheet_name='Long')\n",
    "#AnnualizedSharpeRatiosShort_df.to_excel('Portfolios/ShortSharpe.xlsx',sheet_name='Long')\n",
    "#SharpeTotalpval.to_excel('Portfolios/TotalSharpePVAL.xlsx',sheet_name='Long')\n",
    "#SharpeLongpval.to_excel('Portfolios/LongSharpePVAL.xlsx',sheet_name='Long')\n",
    "#SharpeShortpval.to_excel('Portfolios/ShortSharpePVAL.xlsx',sheet_name='Long')\n",
    "#StdShort_df.to_excel('Portfolios/TotalStd.xlsx',sheet_name='Long')\n",
    "#StdLong_df.to_excel('Portfolios/LongStd.xlsx',sheet_name='Long')\n",
    "#StdShort_df.to_excel('Portfolios/ShortStd.xlsx',sheet_name='Long')      \n",
    "\n",
    "#TotalTtest.to_excel('Portfolios/TotalT.xlsx',sheet_name='Long')\n",
    "#LongTtest.to_excel('Portfolios/LongT.xlsx',sheet_name='Long')\n",
    "#ShortTtest.to_excel('Portfolios/ShortT.xlsx',sheet_name='Long')\n",
    "TotalPval.to_excel('Portfolios/TotalP.xlsx',sheet_name='Long')\n",
    "LongPval.to_excel('Portfolios/LongP.xlsx',sheet_name='Long')\n",
    "ShortPval.to_excel('Portfolios/ShortP.xlsx',sheet_name='Long')"
   ]
  },
  {
   "cell_type": "code",
   "execution_count": 447,
   "id": "8e01ab5e",
   "metadata": {
    "collapsed": true
   },
   "outputs": [
    {
     "name": "stdout",
     "output_type": "stream",
     "text": [
      "[1, 1, 'ranking = ', 'returns', 'weighting =', 'equal']\n",
      "(2.7548863363671576, 0.006282885258926379)\n",
      "[2.293831591124329, -0.9419257104630319, 3.2639123122004676] \n",
      "\n",
      "[1, 1, 'ranking = ', 'returns', 'weighting =', 'returns']\n"
     ]
    },
    {
     "ename": "KeyboardInterrupt",
     "evalue": "",
     "output_type": "error",
     "traceback": [
      "\u001b[0;31m---------------------------------------------------------------------------\u001b[0m",
      "\u001b[0;31mKeyboardInterrupt\u001b[0m                         Traceback (most recent call last)",
      "\u001b[0;32m<ipython-input-447-b9dc9b7e41c6>\u001b[0m in \u001b[0;36m<module>\u001b[0;34m\u001b[0m\n\u001b[1;32m     13\u001b[0m                 \u001b[0mprint\u001b[0m\u001b[0;34m(\u001b[0m\u001b[0;34m[\u001b[0m\u001b[0mRets\u001b[0m\u001b[0;34m[\u001b[0m\u001b[0mi\u001b[0m\u001b[0;34m]\u001b[0m\u001b[0;34m[\u001b[0m\u001b[0;36m0\u001b[0m\u001b[0;34m]\u001b[0m\u001b[0;34m,\u001b[0m\u001b[0mRets\u001b[0m\u001b[0;34m[\u001b[0m\u001b[0mj\u001b[0m\u001b[0;34m]\u001b[0m\u001b[0;34m[\u001b[0m\u001b[0;36m0\u001b[0m\u001b[0;34m]\u001b[0m\u001b[0;34m,\u001b[0m\u001b[0;34m'ranking = '\u001b[0m\u001b[0;34m,\u001b[0m\u001b[0mk\u001b[0m\u001b[0;34m,\u001b[0m\u001b[0;34m'weighting ='\u001b[0m\u001b[0;34m,\u001b[0m\u001b[0ml\u001b[0m\u001b[0;34m]\u001b[0m\u001b[0;34m)\u001b[0m\u001b[0;34m\u001b[0m\u001b[0;34m\u001b[0m\u001b[0m\n\u001b[1;32m     14\u001b[0m                 total,long,short = CurrencyMomentumPortfolios(Yearly_EmergingTickers,Rets[i][1],\\\n\u001b[0;32m---> 15\u001b[0;31m                                         Rets[j][1],Rets[i][0],Rets[j][0],3,Rets[i][2],k,l)\n\u001b[0m\u001b[1;32m     16\u001b[0m                 \u001b[0mTotalAverageReturns_df\u001b[0m\u001b[0;34m.\u001b[0m\u001b[0miloc\u001b[0m\u001b[0;34m[\u001b[0m\u001b[0mi\u001b[0m\u001b[0;34m,\u001b[0m\u001b[0mj\u001b[0m\u001b[0;34m]\u001b[0m \u001b[0;34m=\u001b[0m \u001b[0;34m(\u001b[0m\u001b[0;34m(\u001b[0m\u001b[0;34m(\u001b[0m\u001b[0;34m(\u001b[0m\u001b[0mtotal\u001b[0m\u001b[0;34m.\u001b[0m\u001b[0mT\u001b[0m\u001b[0;34m.\u001b[0m\u001b[0msum\u001b[0m\u001b[0;34m(\u001b[0m\u001b[0;34m)\u001b[0m\u001b[0;34m.\u001b[0m\u001b[0mmean\u001b[0m\u001b[0;34m(\u001b[0m\u001b[0;34m)\u001b[0m\u001b[0;34m/\u001b[0m\u001b[0;36m100\u001b[0m\u001b[0;34m)\u001b[0m\u001b[0;34m+\u001b[0m\u001b[0;36m1\u001b[0m\u001b[0;34m)\u001b[0m\u001b[0;34m**\u001b[0m\u001b[0;34m(\u001b[0m\u001b[0;36m12\u001b[0m\u001b[0;34m/\u001b[0m\u001b[0mRets\u001b[0m\u001b[0;34m[\u001b[0m\u001b[0mj\u001b[0m\u001b[0;34m]\u001b[0m\u001b[0;34m[\u001b[0m\u001b[0;36m0\u001b[0m\u001b[0;34m]\u001b[0m\u001b[0;34m)\u001b[0m\u001b[0;34m-\u001b[0m\u001b[0;36m1\u001b[0m\u001b[0;34m)\u001b[0m\u001b[0;34m*\u001b[0m\u001b[0;36m100\u001b[0m\u001b[0;34m)\u001b[0m\u001b[0;34m\u001b[0m\u001b[0;34m\u001b[0m\u001b[0m\n\u001b[1;32m     17\u001b[0m                 \u001b[0mLongAverageReturns_df\u001b[0m\u001b[0;34m.\u001b[0m\u001b[0miloc\u001b[0m\u001b[0;34m[\u001b[0m\u001b[0mi\u001b[0m\u001b[0;34m,\u001b[0m\u001b[0mj\u001b[0m\u001b[0;34m]\u001b[0m \u001b[0;34m=\u001b[0m \u001b[0;34m(\u001b[0m\u001b[0;34m(\u001b[0m\u001b[0;34m(\u001b[0m\u001b[0;34m(\u001b[0m\u001b[0mlong\u001b[0m\u001b[0;34m.\u001b[0m\u001b[0mT\u001b[0m\u001b[0;34m.\u001b[0m\u001b[0msum\u001b[0m\u001b[0;34m(\u001b[0m\u001b[0;34m)\u001b[0m\u001b[0;34m.\u001b[0m\u001b[0mmean\u001b[0m\u001b[0;34m(\u001b[0m\u001b[0;34m)\u001b[0m\u001b[0;34m/\u001b[0m\u001b[0;36m100\u001b[0m\u001b[0;34m)\u001b[0m\u001b[0;34m+\u001b[0m\u001b[0;36m1\u001b[0m\u001b[0;34m)\u001b[0m\u001b[0;34m**\u001b[0m\u001b[0;34m(\u001b[0m\u001b[0;36m12\u001b[0m\u001b[0;34m/\u001b[0m\u001b[0mRets\u001b[0m\u001b[0;34m[\u001b[0m\u001b[0mj\u001b[0m\u001b[0;34m]\u001b[0m\u001b[0;34m[\u001b[0m\u001b[0;36m0\u001b[0m\u001b[0;34m]\u001b[0m\u001b[0;34m)\u001b[0m\u001b[0;34m-\u001b[0m\u001b[0;36m1\u001b[0m\u001b[0;34m)\u001b[0m\u001b[0;34m*\u001b[0m\u001b[0;36m100\u001b[0m\u001b[0;34m)\u001b[0m\u001b[0;34m\u001b[0m\u001b[0;34m\u001b[0m\u001b[0m\n",
      "\u001b[0;32m<ipython-input-409-ee51f284ba05>\u001b[0m in \u001b[0;36mCurrencyMomentumPortfolios\u001b[0;34m(Yearly_EmergingTickers, Returns_fM, Returns_hM, f, h, split, RollingVolatility_fM, ranking_system, weighting_system, TCLongExcessReturns_hM, TCShortExcessReturns_hM, TC)\u001b[0m\n\u001b[1;32m     32\u001b[0m                 \u001b[0;32mfor\u001b[0m \u001b[0mticker\u001b[0m \u001b[0;32min\u001b[0m \u001b[0;34m(\u001b[0m\u001b[0mlist\u001b[0m\u001b[0;34m(\u001b[0m\u001b[0mwinners\u001b[0m\u001b[0;34m.\u001b[0m\u001b[0mindex\u001b[0m\u001b[0;34m)\u001b[0m\u001b[0;34m+\u001b[0m\u001b[0mlist\u001b[0m\u001b[0;34m(\u001b[0m\u001b[0mlosers\u001b[0m\u001b[0;34m.\u001b[0m\u001b[0mindex\u001b[0m\u001b[0;34m)\u001b[0m\u001b[0;34m)\u001b[0m\u001b[0;34m:\u001b[0m\u001b[0;34m\u001b[0m\u001b[0;34m\u001b[0m\u001b[0m\n\u001b[1;32m     33\u001b[0m                     \u001b[0mweight\u001b[0m\u001b[0;34m.\u001b[0m\u001b[0mappend\u001b[0m\u001b[0;34m(\u001b[0m\u001b[0;34m[\u001b[0m\u001b[0mticker\u001b[0m\u001b[0;34m,\u001b[0m\u001b[0mabs\u001b[0m\u001b[0;34m(\u001b[0m\u001b[0mReturns_fM\u001b[0m\u001b[0;34m[\u001b[0m\u001b[0mticker\u001b[0m\u001b[0;34m]\u001b[0m\u001b[0;34m.\u001b[0m\u001b[0miloc\u001b[0m\u001b[0;34m[\u001b[0m\u001b[0mi\u001b[0m\u001b[0;34m]\u001b[0m\u001b[0;34m)\u001b[0m\u001b[0;34m/\u001b[0m\u001b[0mtotalweights\u001b[0m\u001b[0;34m]\u001b[0m\u001b[0;34m)\u001b[0m\u001b[0;34m\u001b[0m\u001b[0;34m\u001b[0m\u001b[0m\n\u001b[0;32m---> 34\u001b[0;31m                 \u001b[0mWeights\u001b[0m \u001b[0;34m=\u001b[0m \u001b[0mpd\u001b[0m\u001b[0;34m.\u001b[0m\u001b[0mDataFrame\u001b[0m\u001b[0;34m(\u001b[0m\u001b[0mweight\u001b[0m\u001b[0;34m,\u001b[0m\u001b[0mcolumns\u001b[0m\u001b[0;34m=\u001b[0m\u001b[0;34m[\u001b[0m\u001b[0;34m'Tickers'\u001b[0m\u001b[0;34m,\u001b[0m\u001b[0;34m'Weights'\u001b[0m\u001b[0;34m]\u001b[0m\u001b[0;34m)\u001b[0m\u001b[0;34m.\u001b[0m\u001b[0mset_index\u001b[0m\u001b[0;34m(\u001b[0m\u001b[0;34m'Tickers'\u001b[0m\u001b[0;34m)\u001b[0m\u001b[0;34m\u001b[0m\u001b[0;34m\u001b[0m\u001b[0m\n\u001b[0m\u001b[1;32m     35\u001b[0m \u001b[0;34m\u001b[0m\u001b[0m\n\u001b[1;32m     36\u001b[0m             \u001b[0;32melif\u001b[0m \u001b[0mweighting_system\u001b[0m \u001b[0;34m==\u001b[0m \u001b[0;34m'sharpe'\u001b[0m\u001b[0;34m:\u001b[0m\u001b[0;34m\u001b[0m\u001b[0;34m\u001b[0m\u001b[0m\n",
      "\u001b[0;32m~/anaconda3/lib/python3.7/site-packages/pandas/core/frame.py\u001b[0m in \u001b[0;36m__init__\u001b[0;34m(self, data, index, columns, dtype, copy)\u001b[0m\n\u001b[1;32m    580\u001b[0m                             \u001b[0mindex\u001b[0m \u001b[0;34m=\u001b[0m \u001b[0mibase\u001b[0m\u001b[0;34m.\u001b[0m\u001b[0mdefault_index\u001b[0m\u001b[0;34m(\u001b[0m\u001b[0mlen\u001b[0m\u001b[0;34m(\u001b[0m\u001b[0mdata\u001b[0m\u001b[0;34m)\u001b[0m\u001b[0;34m)\u001b[0m\u001b[0;34m\u001b[0m\u001b[0;34m\u001b[0m\u001b[0m\n\u001b[1;32m    581\u001b[0m \u001b[0;34m\u001b[0m\u001b[0m\n\u001b[0;32m--> 582\u001b[0;31m                     \u001b[0mmgr\u001b[0m \u001b[0;34m=\u001b[0m \u001b[0marrays_to_mgr\u001b[0m\u001b[0;34m(\u001b[0m\u001b[0marrays\u001b[0m\u001b[0;34m,\u001b[0m \u001b[0mcolumns\u001b[0m\u001b[0;34m,\u001b[0m \u001b[0mindex\u001b[0m\u001b[0;34m,\u001b[0m \u001b[0mcolumns\u001b[0m\u001b[0;34m,\u001b[0m \u001b[0mdtype\u001b[0m\u001b[0;34m=\u001b[0m\u001b[0mdtype\u001b[0m\u001b[0;34m)\u001b[0m\u001b[0;34m\u001b[0m\u001b[0;34m\u001b[0m\u001b[0m\n\u001b[0m\u001b[1;32m    583\u001b[0m                 \u001b[0;32melse\u001b[0m\u001b[0;34m:\u001b[0m\u001b[0;34m\u001b[0m\u001b[0;34m\u001b[0m\u001b[0m\n\u001b[1;32m    584\u001b[0m                     \u001b[0mmgr\u001b[0m \u001b[0;34m=\u001b[0m \u001b[0minit_ndarray\u001b[0m\u001b[0;34m(\u001b[0m\u001b[0mdata\u001b[0m\u001b[0;34m,\u001b[0m \u001b[0mindex\u001b[0m\u001b[0;34m,\u001b[0m \u001b[0mcolumns\u001b[0m\u001b[0;34m,\u001b[0m \u001b[0mdtype\u001b[0m\u001b[0;34m=\u001b[0m\u001b[0mdtype\u001b[0m\u001b[0;34m,\u001b[0m \u001b[0mcopy\u001b[0m\u001b[0;34m=\u001b[0m\u001b[0mcopy\u001b[0m\u001b[0;34m)\u001b[0m\u001b[0;34m\u001b[0m\u001b[0;34m\u001b[0m\u001b[0m\n",
      "\u001b[0;32m~/anaconda3/lib/python3.7/site-packages/pandas/core/internals/construction.py\u001b[0m in \u001b[0;36marrays_to_mgr\u001b[0;34m(arrays, arr_names, index, columns, dtype, verify_integrity)\u001b[0m\n\u001b[1;32m     93\u001b[0m     \u001b[0maxes\u001b[0m \u001b[0;34m=\u001b[0m \u001b[0;34m[\u001b[0m\u001b[0mcolumns\u001b[0m\u001b[0;34m,\u001b[0m \u001b[0mindex\u001b[0m\u001b[0;34m]\u001b[0m\u001b[0;34m\u001b[0m\u001b[0;34m\u001b[0m\u001b[0m\n\u001b[1;32m     94\u001b[0m \u001b[0;34m\u001b[0m\u001b[0m\n\u001b[0;32m---> 95\u001b[0;31m     \u001b[0;32mreturn\u001b[0m \u001b[0mcreate_block_manager_from_arrays\u001b[0m\u001b[0;34m(\u001b[0m\u001b[0marrays\u001b[0m\u001b[0;34m,\u001b[0m \u001b[0marr_names\u001b[0m\u001b[0;34m,\u001b[0m \u001b[0maxes\u001b[0m\u001b[0;34m)\u001b[0m\u001b[0;34m\u001b[0m\u001b[0;34m\u001b[0m\u001b[0m\n\u001b[0m\u001b[1;32m     96\u001b[0m \u001b[0;34m\u001b[0m\u001b[0m\n\u001b[1;32m     97\u001b[0m \u001b[0;34m\u001b[0m\u001b[0m\n",
      "\u001b[0;32m~/anaconda3/lib/python3.7/site-packages/pandas/core/internals/managers.py\u001b[0m in \u001b[0;36mcreate_block_manager_from_arrays\u001b[0;34m(arrays, names, axes)\u001b[0m\n\u001b[1;32m   1699\u001b[0m     \u001b[0marrays\u001b[0m \u001b[0;34m=\u001b[0m \u001b[0;34m[\u001b[0m\u001b[0mx\u001b[0m \u001b[0;32mif\u001b[0m \u001b[0;32mnot\u001b[0m \u001b[0misinstance\u001b[0m\u001b[0;34m(\u001b[0m\u001b[0mx\u001b[0m\u001b[0;34m,\u001b[0m \u001b[0mABCPandasArray\u001b[0m\u001b[0;34m)\u001b[0m \u001b[0;32melse\u001b[0m \u001b[0mx\u001b[0m\u001b[0;34m.\u001b[0m\u001b[0mto_numpy\u001b[0m\u001b[0;34m(\u001b[0m\u001b[0;34m)\u001b[0m \u001b[0;32mfor\u001b[0m \u001b[0mx\u001b[0m \u001b[0;32min\u001b[0m \u001b[0marrays\u001b[0m\u001b[0;34m]\u001b[0m\u001b[0;34m\u001b[0m\u001b[0;34m\u001b[0m\u001b[0m\n\u001b[1;32m   1700\u001b[0m     \u001b[0;32mtry\u001b[0m\u001b[0;34m:\u001b[0m\u001b[0;34m\u001b[0m\u001b[0;34m\u001b[0m\u001b[0m\n\u001b[0;32m-> 1701\u001b[0;31m         \u001b[0mblocks\u001b[0m \u001b[0;34m=\u001b[0m \u001b[0m_form_blocks\u001b[0m\u001b[0;34m(\u001b[0m\u001b[0marrays\u001b[0m\u001b[0;34m,\u001b[0m \u001b[0mnames\u001b[0m\u001b[0;34m,\u001b[0m \u001b[0maxes\u001b[0m\u001b[0;34m)\u001b[0m\u001b[0;34m\u001b[0m\u001b[0;34m\u001b[0m\u001b[0m\n\u001b[0m\u001b[1;32m   1702\u001b[0m         \u001b[0mmgr\u001b[0m \u001b[0;34m=\u001b[0m \u001b[0mBlockManager\u001b[0m\u001b[0;34m(\u001b[0m\u001b[0mblocks\u001b[0m\u001b[0;34m,\u001b[0m \u001b[0maxes\u001b[0m\u001b[0;34m)\u001b[0m\u001b[0;34m\u001b[0m\u001b[0;34m\u001b[0m\u001b[0m\n\u001b[1;32m   1703\u001b[0m         \u001b[0mmgr\u001b[0m\u001b[0;34m.\u001b[0m\u001b[0m_consolidate_inplace\u001b[0m\u001b[0;34m(\u001b[0m\u001b[0;34m)\u001b[0m\u001b[0;34m\u001b[0m\u001b[0;34m\u001b[0m\u001b[0m\n",
      "\u001b[0;32m~/anaconda3/lib/python3.7/site-packages/pandas/core/internals/managers.py\u001b[0m in \u001b[0;36m_form_blocks\u001b[0;34m(arrays, names, axes)\u001b[0m\n\u001b[1;32m   1757\u001b[0m     \u001b[0mblocks\u001b[0m\u001b[0;34m:\u001b[0m \u001b[0mList\u001b[0m\u001b[0;34m[\u001b[0m\u001b[0mBlock\u001b[0m\u001b[0;34m]\u001b[0m \u001b[0;34m=\u001b[0m \u001b[0;34m[\u001b[0m\u001b[0;34m]\u001b[0m\u001b[0;34m\u001b[0m\u001b[0;34m\u001b[0m\u001b[0m\n\u001b[1;32m   1758\u001b[0m     \u001b[0;32mif\u001b[0m \u001b[0mlen\u001b[0m\u001b[0;34m(\u001b[0m\u001b[0mitems_dict\u001b[0m\u001b[0;34m[\u001b[0m\u001b[0;34m\"FloatBlock\"\u001b[0m\u001b[0;34m]\u001b[0m\u001b[0;34m)\u001b[0m\u001b[0;34m:\u001b[0m\u001b[0;34m\u001b[0m\u001b[0;34m\u001b[0m\u001b[0m\n\u001b[0;32m-> 1759\u001b[0;31m         \u001b[0mfloat_blocks\u001b[0m \u001b[0;34m=\u001b[0m \u001b[0m_multi_blockify\u001b[0m\u001b[0;34m(\u001b[0m\u001b[0mitems_dict\u001b[0m\u001b[0;34m[\u001b[0m\u001b[0;34m\"FloatBlock\"\u001b[0m\u001b[0;34m]\u001b[0m\u001b[0;34m)\u001b[0m\u001b[0;34m\u001b[0m\u001b[0;34m\u001b[0m\u001b[0m\n\u001b[0m\u001b[1;32m   1760\u001b[0m         \u001b[0mblocks\u001b[0m\u001b[0;34m.\u001b[0m\u001b[0mextend\u001b[0m\u001b[0;34m(\u001b[0m\u001b[0mfloat_blocks\u001b[0m\u001b[0;34m)\u001b[0m\u001b[0;34m\u001b[0m\u001b[0;34m\u001b[0m\u001b[0m\n\u001b[1;32m   1761\u001b[0m \u001b[0;34m\u001b[0m\u001b[0m\n",
      "\u001b[0;32m~/anaconda3/lib/python3.7/site-packages/pandas/core/internals/managers.py\u001b[0m in \u001b[0;36m_multi_blockify\u001b[0;34m(tuples, dtype)\u001b[0m\n\u001b[1;32m   1850\u001b[0m     \u001b[0;32mfor\u001b[0m \u001b[0mdtype\u001b[0m\u001b[0;34m,\u001b[0m \u001b[0mtup_block\u001b[0m \u001b[0;32min\u001b[0m \u001b[0mgrouper\u001b[0m\u001b[0;34m:\u001b[0m\u001b[0;34m\u001b[0m\u001b[0;34m\u001b[0m\u001b[0m\n\u001b[1;32m   1851\u001b[0m \u001b[0;34m\u001b[0m\u001b[0m\n\u001b[0;32m-> 1852\u001b[0;31m         \u001b[0mvalues\u001b[0m\u001b[0;34m,\u001b[0m \u001b[0mplacement\u001b[0m \u001b[0;34m=\u001b[0m \u001b[0m_stack_arrays\u001b[0m\u001b[0;34m(\u001b[0m\u001b[0mlist\u001b[0m\u001b[0;34m(\u001b[0m\u001b[0mtup_block\u001b[0m\u001b[0;34m)\u001b[0m\u001b[0;34m,\u001b[0m \u001b[0mdtype\u001b[0m\u001b[0;34m)\u001b[0m\u001b[0;34m\u001b[0m\u001b[0;34m\u001b[0m\u001b[0m\n\u001b[0m\u001b[1;32m   1853\u001b[0m \u001b[0;34m\u001b[0m\u001b[0m\n\u001b[1;32m   1854\u001b[0m         \u001b[0mblock\u001b[0m \u001b[0;34m=\u001b[0m \u001b[0mmake_block\u001b[0m\u001b[0;34m(\u001b[0m\u001b[0mvalues\u001b[0m\u001b[0;34m,\u001b[0m \u001b[0mplacement\u001b[0m\u001b[0;34m=\u001b[0m\u001b[0mplacement\u001b[0m\u001b[0;34m,\u001b[0m \u001b[0mndim\u001b[0m\u001b[0;34m=\u001b[0m\u001b[0;36m2\u001b[0m\u001b[0;34m)\u001b[0m\u001b[0;34m\u001b[0m\u001b[0;34m\u001b[0m\u001b[0m\n",
      "\u001b[0;32m~/anaconda3/lib/python3.7/site-packages/pandas/core/internals/managers.py\u001b[0m in \u001b[0;36m_stack_arrays\u001b[0;34m(tuples, dtype)\u001b[0m\n\u001b[1;32m   1867\u001b[0m             \u001b[0;32mreturn\u001b[0m \u001b[0mnp\u001b[0m\u001b[0;34m.\u001b[0m\u001b[0masarray\u001b[0m\u001b[0;34m(\u001b[0m\u001b[0mx\u001b[0m\u001b[0;34m)\u001b[0m\u001b[0;34m\u001b[0m\u001b[0;34m\u001b[0m\u001b[0m\n\u001b[1;32m   1868\u001b[0m \u001b[0;34m\u001b[0m\u001b[0m\n\u001b[0;32m-> 1869\u001b[0;31m     \u001b[0;32mdef\u001b[0m \u001b[0m_shape_compat\u001b[0m\u001b[0;34m(\u001b[0m\u001b[0mx\u001b[0m\u001b[0;34m)\u001b[0m \u001b[0;34m->\u001b[0m \u001b[0mShape\u001b[0m\u001b[0;34m:\u001b[0m\u001b[0;34m\u001b[0m\u001b[0;34m\u001b[0m\u001b[0m\n\u001b[0m\u001b[1;32m   1870\u001b[0m         \u001b[0;32mif\u001b[0m \u001b[0misinstance\u001b[0m\u001b[0;34m(\u001b[0m\u001b[0mx\u001b[0m\u001b[0;34m,\u001b[0m \u001b[0mABCSeries\u001b[0m\u001b[0;34m)\u001b[0m\u001b[0;34m:\u001b[0m\u001b[0;34m\u001b[0m\u001b[0;34m\u001b[0m\u001b[0m\n\u001b[1;32m   1871\u001b[0m             \u001b[0;32mreturn\u001b[0m \u001b[0;34m(\u001b[0m\u001b[0mlen\u001b[0m\u001b[0;34m(\u001b[0m\u001b[0mx\u001b[0m\u001b[0;34m)\u001b[0m\u001b[0;34m,\u001b[0m\u001b[0;34m)\u001b[0m\u001b[0;34m\u001b[0m\u001b[0;34m\u001b[0m\u001b[0m\n",
      "\u001b[0;31mKeyboardInterrupt\u001b[0m: "
     ]
    }
   ],
   "source": [
    "#print out all results and combinations.\n",
    "Rets = [[1,Returns_1M,RollingVolatility_1M],[3,Returns_3M,RollingVolatility_3M],\\\n",
    "        [6,Returns_6M,RollingVolatility_6M],[9,Returns_9M,RollingVolatility_9M],\\\n",
    "        [12,Returns_12M,RollingVolatility_12M]]\n",
    "Rets = [[1,Excess_Returns_1M,RollingVolatility_1M],[3,Excess_Returns_3M,RollingVolatility_3M],\\\n",
    "        [6,Excess_Returns_6M,RollingVolatility_6M],[9,Excess_Returns_9M,RollingVolatility_9M],\\\n",
    "        [12,Excess_Returns_12M,RollingVolatility_12M]]\n",
    "\n",
    "for i in range(5): #f\n",
    "    for j in range(5): #h\n",
    "        for k in ['returns','sharpe']:\n",
    "            for l in ['equal','returns','sharpe']:\n",
    "                print([Rets[i][0],Rets[j][0],'ranking = ',k,'weighting =',l])\n",
    "                total,long,short = CurrencyMomentumPortfolios(Yearly_EmergingTickers,Rets[i][1],\\\n",
    "                                        Rets[j][1],Rets[i][0],Rets[j][0],3,Rets[i][2],k,l)\n",
    "\n",
    "                print((st.ttest_1samp(total.T.sum(),0)[0],st.ttest_1samp(total.T.sum(),0)[1]))\n",
    "                print([((((total.T.sum().mean()/100)+1)**(12/Rets[j][0])-1)*100),\\\n",
    "                      ((((long.T.sum().mean()/100)+1)**(12/Rets[j][0])-1)*100),\n",
    "                      ((((short.T.sum().mean()/100)+1)**(12/Rets[j][0])-1)*100)],'\\n')"
   ]
  },
  {
   "cell_type": "markdown",
   "id": "46c7d146",
   "metadata": {},
   "source": [
    "# Transaction cost included results"
   ]
  },
  {
   "cell_type": "code",
   "execution_count": 264,
   "id": "6bc98529",
   "metadata": {
    "collapsed": true
   },
   "outputs": [
    {
     "name": "stdout",
     "output_type": "stream",
     "text": [
      "[1, 1, 'ranking = ', 'returns', 'weighting =', 'equal']\n",
      "[-1.1987966551397, 0.20964155786629135, -1.405735435311073] \n",
      "\n",
      "[1, 1, 'ranking = ', 'returns', 'weighting =', 'returns']\n",
      "[1.1376963744595292, 1.4564453812145217, -0.31455148981867076] \n",
      "\n",
      "[1, 1, 'ranking = ', 'returns', 'weighting =', 'sharpe']\n",
      "[-3.9264160266535675, -1.7509947201558407, -2.210967871103331] \n",
      "\n",
      "[1, 1, 'ranking = ', 'sharpe', 'weighting =', 'equal']\n",
      "[-0.743404996155661, 0.8966165379646451, -1.6266479719093008] \n",
      "\n",
      "[1, 1, 'ranking = ', 'sharpe', 'weighting =', 'returns']\n",
      "[1.0564612806003293, 1.9499440387183542, -0.8777994043844051] \n",
      "\n",
      "[1, 1, 'ranking = ', 'sharpe', 'weighting =', 'sharpe']\n",
      "[-4.38661472281181, -1.0173369323130177, -3.40105344299515] \n",
      "\n",
      "[1, 3, 'ranking = ', 'returns', 'weighting =', 'equal']\n",
      "[-0.35533704096037955, 0.14407481970635239, -0.49887255847015366] \n",
      "\n",
      "[1, 3, 'ranking = ', 'returns', 'weighting =', 'returns']\n",
      "[-1.0102614661585907, -0.027189982028341664, -0.983272252063716] \n",
      "\n",
      "[1, 3, 'ranking = ', 'returns', 'weighting =', 'sharpe']\n",
      "[-0.1227896203548795, -0.12305559999841176, 0.00026622538515930216] \n",
      "\n",
      "[1, 3, 'ranking = ', 'sharpe', 'weighting =', 'equal']\n",
      "[-0.4371463876841064, 0.40302506747633693, -0.8376381480970307] \n",
      "\n",
      "[1, 3, 'ranking = ', 'sharpe', 'weighting =', 'returns']\n",
      "[-1.7157951085350343, -0.25597313725289617, -1.4626360008139883] \n",
      "\n",
      "[1, 3, 'ranking = ', 'sharpe', 'weighting =', 'sharpe']\n",
      "[-0.42421957186695725, -0.4079773470164194, -0.01629210239659784] \n",
      "\n",
      "[1, 6, 'ranking = ', 'returns', 'weighting =', 'equal']\n",
      "[0.6320679079983016, 0.9613581380471858, -0.3277174391828619] \n",
      "\n",
      "[1, 6, 'ranking = ', 'returns', 'weighting =', 'returns']\n",
      "[0.7833398367411926, 1.2263948253891988, -0.44035997111073755] \n",
      "\n",
      "[1, 6, 'ranking = ', 'returns', 'weighting =', 'sharpe']\n",
      "[1.0676572463091283, 1.0067549176748125, 0.06059810143690392] \n",
      "\n",
      "[1, 6, 'ranking = ', 'sharpe', 'weighting =', 'equal']\n",
      "[0.8033670086142308, 1.3340046957045493, -0.5271287439265637] \n",
      "\n",
      "[1, 6, 'ranking = ', 'sharpe', 'weighting =', 'returns']\n",
      "[0.602384079850915, 1.3896115192252756, -0.7818035424679404] \n",
      "\n",
      "[1, 6, 'ranking = ', 'sharpe', 'weighting =', 'sharpe']\n",
      "[0.26836994866692443, 1.0417591762016842, -0.769384326760747] \n",
      "\n",
      "[1, 9, 'ranking = ', 'returns', 'weighting =', 'equal']\n",
      "[0.16384868098715533, 0.4507580090402419, -0.28658657285849376] \n",
      "\n",
      "[1, 9, 'ranking = ', 'returns', 'weighting =', 'returns']\n",
      "[-0.10728070821732771, 0.7606902093605816, -0.8663227344208879] \n",
      "\n",
      "[1, 9, 'ranking = ', 'returns', 'weighting =', 'sharpe']\n",
      "[0.05354894851501424, 0.5049590725151321, -0.45084109608212186] \n",
      "\n",
      "[1, 9, 'ranking = ', 'sharpe', 'weighting =', 'equal']\n",
      "[-0.8944837904676817, 0.11811472521028321, -1.012298588928473] \n",
      "\n",
      "[1, 9, 'ranking = ', 'sharpe', 'weighting =', 'returns']\n",
      "[-0.830818999484928, 0.7234169259490386, -1.5514212952911333] \n",
      "\n",
      "[1, 9, 'ranking = ', 'sharpe', 'weighting =', 'sharpe']\n",
      "[-1.6077668262228229, 0.2113905705931396, -1.8181906736407738] \n",
      "\n",
      "[1, 12, 'ranking = ', 'returns', 'weighting =', 'equal']\n",
      "[-0.5106168662948329, -0.10029693440616327, -0.41031993188868077] \n",
      "\n",
      "[1, 12, 'ranking = ', 'returns', 'weighting =', 'returns']\n",
      "[-0.9573337215971867, -0.4711926041451542, -0.4861411174520325] \n",
      "\n",
      "[1, 12, 'ranking = ', 'returns', 'weighting =', 'sharpe']\n",
      "[-1.4097183178259476, -0.3981052226122772, -1.0116130952136704] \n",
      "\n",
      "[1, 12, 'ranking = ', 'sharpe', 'weighting =', 'equal']\n",
      "[0.06674143491085527, 0.4583142478489233, -0.391572812938068] \n",
      "\n",
      "[1, 12, 'ranking = ', 'sharpe', 'weighting =', 'returns']\n",
      "[-1.0909438166839425, -0.2545561069166591, -0.8363877097672834] \n",
      "\n",
      "[1, 12, 'ranking = ', 'sharpe', 'weighting =', 'sharpe']\n",
      "[-1.7930932310227354, -0.7686869981703204, -1.024406232852415] \n",
      "\n",
      "[3, 1, 'ranking = ', 'returns', 'weighting =', 'equal']\n",
      "[13.858643151665095, 7.632973318200187, 5.820659784369542] \n",
      "\n",
      "[3, 1, 'ranking = ', 'returns', 'weighting =', 'returns']\n",
      "[31.872318708759238, 14.019299609627245, 15.84186166369561] \n",
      "\n",
      "[3, 1, 'ranking = ', 'returns', 'weighting =', 'sharpe']\n",
      "[19.283841393660083, 8.871944564052736, 9.634320288252706] \n",
      "\n",
      "[3, 1, 'ranking = ', 'sharpe', 'weighting =', 'equal']\n",
      "[10.066818116750298, 5.709189506054679, 4.141754613898652] \n",
      "\n",
      "[3, 1, 'ranking = ', 'sharpe', 'weighting =', 'returns']\n",
      "[27.196451351289763, 11.810778013110145, 13.896879229607318] \n",
      "\n",
      "[3, 1, 'ranking = ', 'sharpe', 'weighting =', 'sharpe']\n",
      "[12.465864277658255, 5.365588117407216, 6.769010459662361] \n",
      "\n",
      "[3, 3, 'ranking = ', 'returns', 'weighting =', 'equal']\n",
      "[-0.6294407074298736, 0.2807525585923898, -0.9082792431111764] \n",
      "\n",
      "[3, 3, 'ranking = ', 'returns', 'weighting =', 'returns']\n",
      "[0.28258857736280785, 0.8411018289051775, -0.5550133122351864] \n",
      "\n",
      "[3, 3, 'ranking = ', 'returns', 'weighting =', 'sharpe']\n",
      "[-1.0342228068169868, -0.42002727222577585, -0.6161390173214376] \n",
      "\n",
      "[3, 3, 'ranking = ', 'sharpe', 'weighting =', 'equal']\n",
      "[0.07779861530421428, 0.603470197629119, -0.5233033259226416] \n",
      "\n",
      "[3, 3, 'ranking = ', 'sharpe', 'weighting =', 'returns']\n",
      "[0.6448838433569248, 1.2202362226406471, -0.5701387846922534] \n",
      "\n",
      "[3, 3, 'ranking = ', 'sharpe', 'weighting =', 'sharpe']\n",
      "[-2.1789329843270977, -1.3144995157232775, -0.8730644223254647] \n",
      "\n",
      "[3, 6, 'ranking = ', 'returns', 'weighting =', 'equal']\n",
      "[-0.3738681626131668, 0.8510617814192489, -1.2197347019665572] \n",
      "\n",
      "[3, 6, 'ranking = ', 'returns', 'weighting =', 'returns']\n",
      "[-0.3355960846032402, 0.5921480869619078, -0.9250031662877634] \n",
      "\n",
      "[3, 6, 'ranking = ', 'returns', 'weighting =', 'sharpe']\n",
      "[-1.6944323272118367, -0.42428955856289585, -1.2728545905938415] \n",
      "\n",
      "[3, 6, 'ranking = ', 'sharpe', 'weighting =', 'equal']\n",
      "[0.370269007257118, 1.4689771589112333, -1.0907043745429057] \n",
      "\n",
      "[3, 6, 'ranking = ', 'sharpe', 'weighting =', 'returns']\n",
      "[0.20393424136895266, 1.554405348749155, -1.3400612843795123] \n",
      "\n",
      "[3, 6, 'ranking = ', 'sharpe', 'weighting =', 'sharpe']\n",
      "[-0.6103201359869859, 0.8848897962405511, -1.4886135031014769] \n",
      "\n",
      "[3, 9, 'ranking = ', 'returns', 'weighting =', 'equal']\n",
      "[-1.7595267284221783, -0.24834217519058566, -1.51212962206152] \n",
      "\n",
      "[3, 9, 'ranking = ', 'returns', 'weighting =', 'returns']\n",
      "[-0.3119843250614318, 0.07703852853977455, -0.3889478558502746] \n",
      "\n",
      "[3, 9, 'ranking = ', 'returns', 'weighting =', 'sharpe']\n",
      "[-1.5111320540605377, -0.25250214431145057, -1.2594294738581313] \n",
      "\n",
      "[3, 9, 'ranking = ', 'sharpe', 'weighting =', 'equal']\n",
      "[-1.1474414531070676, -0.20490403296956616, -0.9430225845705742] \n",
      "\n",
      "[3, 9, 'ranking = ', 'sharpe', 'weighting =', 'returns']\n",
      "[-0.05139993088054684, -0.012791704744519183, -0.03860946107613339] \n",
      "\n",
      "[3, 9, 'ranking = ', 'sharpe', 'weighting =', 'sharpe']\n",
      "[-1.6616428667959093, -0.4409595509446196, -1.2220389589049474] \n",
      "\n",
      "[3, 12, 'ranking = ', 'returns', 'weighting =', 'equal']\n",
      "[-1.0497130035525437, 0.45850085233514193, -1.5082138558876967] \n",
      "\n",
      "[3, 12, 'ranking = ', 'returns', 'weighting =', 'returns']\n",
      "[-3.0084857578177804, -1.2573151520351544, -1.751170605782626] \n",
      "\n",
      "[3, 12, 'ranking = ', 'returns', 'weighting =', 'sharpe']\n",
      "[-2.433438274670252, -0.32621706612628865, -2.1072212085439634] \n",
      "\n",
      "[3, 12, 'ranking = ', 'sharpe', 'weighting =', 'equal']\n",
      "[-0.2768197031380426, 0.10255561343033293, -0.37937531656838663] \n",
      "\n",
      "[3, 12, 'ranking = ', 'sharpe', 'weighting =', 'returns']\n",
      "[-2.0773580124419544, -1.4901037944840212, -0.5872542179579221] \n",
      "\n",
      "[3, 12, 'ranking = ', 'sharpe', 'weighting =', 'sharpe']\n",
      "[-2.3940538634311115, -1.0944499044741263, -1.2996039589569852] \n",
      "\n",
      "[6, 1, 'ranking = ', 'returns', 'weighting =', 'equal']\n",
      "[8.728492892875185, 5.086040336223663, 3.4807475455786108] \n",
      "\n",
      "[6, 1, 'ranking = ', 'returns', 'weighting =', 'returns']\n",
      "[20.244199792199492, 9.25742541873744, 10.133666461258684] \n",
      "\n",
      "[6, 1, 'ranking = ', 'returns', 'weighting =', 'sharpe']\n",
      "[12.05886228590607, 5.8211340286337565, 5.9231952545953925] \n",
      "\n",
      "[6, 1, 'ranking = ', 'sharpe', 'weighting =', 'equal']\n",
      "[5.734968338198798, 3.7159149280773462, 1.9526957112449672] \n",
      "\n",
      "[6, 1, 'ranking = ', 'sharpe', 'weighting =', 'returns']\n",
      "[16.162731262756978, 7.3698895186117275, 8.239757470832497] \n",
      "\n",
      "[6, 1, 'ranking = ', 'sharpe', 'weighting =', 'sharpe']\n",
      "[7.046058219460805, 3.740497283490174, 3.196281994908845] \n",
      "\n",
      "[6, 3, 'ranking = ', 'returns', 'weighting =', 'equal']\n",
      "[11.036482709915596, 6.468832485169451, 4.358975160549861] \n",
      "\n",
      "[6, 3, 'ranking = ', 'returns', 'weighting =', 'returns']\n",
      "[23.95469793484488, 11.837591195790464, 11.154169331594655] \n",
      "\n",
      "[6, 3, 'ranking = ', 'returns', 'weighting =', 'sharpe']\n"
     ]
    },
    {
     "name": "stdout",
     "output_type": "stream",
     "text": [
      "[14.906753430621556, 7.181268323410106, 7.33729461582906] \n",
      "\n",
      "[6, 3, 'ranking = ', 'sharpe', 'weighting =', 'equal']\n",
      "[8.778773446007659, 5.028156678047635, 3.615714274704196] \n",
      "\n",
      "[6, 3, 'ranking = ', 'sharpe', 'weighting =', 'returns']\n",
      "[21.928107053821066, 10.254984718803373, 10.859169248819045] \n",
      "\n",
      "[6, 3, 'ranking = ', 'sharpe', 'weighting =', 'sharpe']\n",
      "[12.07140673128686, 5.36982202702998, 6.445745758510646] \n",
      "\n",
      "[6, 6, 'ranking = ', 'returns', 'weighting =', 'equal']\n",
      "[-0.42750126276489553, 0.30414098490882946, -0.7305301355067129] \n",
      "\n",
      "[6, 6, 'ranking = ', 'returns', 'weighting =', 'returns']\n",
      "[0.020209217403444057, 0.3874268480758225, -0.36650769131065797] \n",
      "\n",
      "[6, 6, 'ranking = ', 'returns', 'weighting =', 'sharpe']\n",
      "[-1.6937608356100475, -0.6693023916870544, -1.0279130429285188] \n",
      "\n",
      "[6, 6, 'ranking = ', 'sharpe', 'weighting =', 'equal']\n",
      "[-0.2165302493461141, 0.8264558083305173, -1.038691545330206] \n",
      "\n",
      "[6, 6, 'ranking = ', 'sharpe', 'weighting =', 'returns']\n",
      "[0.17131283224127714, 1.0675276000692513, -0.8914584929780256] \n",
      "\n",
      "[6, 6, 'ranking = ', 'sharpe', 'weighting =', 'sharpe']\n",
      "[-1.6512844308428698, 0.36953724465009774, -2.0170792145291716] \n",
      "\n",
      "[6, 9, 'ranking = ', 'returns', 'weighting =', 'equal']\n",
      "[-1.4164237199454255, -0.714617933019368, -0.7030685707946183] \n",
      "\n",
      "[6, 9, 'ranking = ', 'returns', 'weighting =', 'returns']\n",
      "[-0.504327604229371, -0.7978717942641489, 0.29413200348040736] \n",
      "\n",
      "[6, 9, 'ranking = ', 'returns', 'weighting =', 'sharpe']\n",
      "[-1.3819158303019163, -0.7022642354497233, -0.6808531805216345] \n",
      "\n",
      "[6, 9, 'ranking = ', 'sharpe', 'weighting =', 'equal']\n",
      "[-2.1165504635156873, -0.6463197974355683, -1.4726292369425686] \n",
      "\n",
      "[6, 9, 'ranking = ', 'sharpe', 'weighting =', 'returns']\n",
      "[-1.590215942818174, -0.8828281203156596, -0.7089619589576213] \n",
      "\n",
      "[6, 9, 'ranking = ', 'sharpe', 'weighting =', 'sharpe']\n",
      "[-2.9706137632125706, -0.9062658895387599, -2.069088781366224] \n",
      "\n",
      "[6, 12, 'ranking = ', 'returns', 'weighting =', 'equal']\n",
      "[-0.18655490968443322, -0.07432096573226632, -0.1122339439521669] \n",
      "\n",
      "[6, 12, 'ranking = ', 'returns', 'weighting =', 'returns']\n",
      "[-0.5586012165457954, -1.3087544109516402, 0.7501531944058559] \n",
      "\n",
      "[6, 12, 'ranking = ', 'returns', 'weighting =', 'sharpe']\n",
      "[-0.2329478523810824, -0.16298912823424772, -0.06995872414683468] \n",
      "\n",
      "[6, 12, 'ranking = ', 'sharpe', 'weighting =', 'equal']\n",
      "[-0.8132896087952202, -0.10052701868505931, -0.7127625901101609] \n",
      "\n",
      "[6, 12, 'ranking = ', 'sharpe', 'weighting =', 'returns']\n",
      "[-1.201698497484005, -1.1873127720673726, -0.014385725416643513] \n",
      "\n",
      "[6, 12, 'ranking = ', 'sharpe', 'weighting =', 'sharpe']\n",
      "[-2.1666926690795174, -0.7690459847181641, -1.3976466843613533] \n",
      "\n",
      "[9, 1, 'ranking = ', 'returns', 'weighting =', 'equal']\n",
      "[7.011256972393287, 4.31477023256166, 2.5941750501677685] \n",
      "\n",
      "[9, 1, 'ranking = ', 'returns', 'weighting =', 'returns']\n",
      "[14.723482433583502, 7.982643985288385, 6.28372974429916] \n",
      "\n",
      "[9, 1, 'ranking = ', 'returns', 'weighting =', 'sharpe']\n",
      "[9.872372997594958, 5.056784572777873, 4.603069982338814] \n",
      "\n",
      "[9, 1, 'ranking = ', 'sharpe', 'weighting =', 'equal']\n",
      "[4.530458494508038, 3.4484353578243754, 1.0489275278700472] \n",
      "\n",
      "[9, 1, 'ranking = ', 'sharpe', 'weighting =', 'returns']\n",
      "[10.671148388265772, 6.313813055699424, 4.119914686032944] \n",
      "\n",
      "[9, 1, 'ranking = ', 'sharpe', 'weighting =', 'sharpe']\n",
      "[4.4466812097645025, 3.4038209891730675, 1.0113616557176908] \n",
      "\n",
      "[9, 3, 'ranking = ', 'returns', 'weighting =', 'equal']\n",
      "[8.979484498305478, 5.008725389576019, 3.8285034071092294] \n",
      "\n",
      "[9, 3, 'ranking = ', 'returns', 'weighting =', 'returns']\n",
      "[19.24373655241429, 9.15874168731914, 9.450457949832703] \n",
      "\n",
      "[9, 3, 'ranking = ', 'returns', 'weighting =', 'sharpe']\n",
      "[12.054035114322549, 5.654138228853789, 6.143153115222533] \n",
      "\n",
      "[9, 3, 'ranking = ', 'sharpe', 'weighting =', 'equal']\n",
      "[6.893849900688198, 4.1058360267066885, 2.7054046629137574] \n",
      "\n",
      "[9, 3, 'ranking = ', 'sharpe', 'weighting =', 'returns']\n",
      "[17.254284686432086, 8.187609693801745, 8.552183901200227] \n",
      "\n",
      "[9, 3, 'ranking = ', 'sharpe', 'weighting =', 'sharpe']\n",
      "[8.378754348477147, 4.06557194164936, 4.186816840504415] \n",
      "\n",
      "[9, 6, 'ranking = ', 'returns', 'weighting =', 'equal']\n",
      "[4.306651569430153, 3.083650386766812, 1.2046241785255374] \n",
      "\n",
      "[9, 6, 'ranking = ', 'returns', 'weighting =', 'returns']\n",
      "[11.771213871263297, 7.774174512085885, 3.8515173089215704] \n",
      "\n",
      "[9, 6, 'ranking = ', 'returns', 'weighting =', 'sharpe']\n",
      "[5.172440046801174, 3.2210619837871546, 1.9208336027447093] \n",
      "\n",
      "[9, 6, 'ranking = ', 'sharpe', 'weighting =', 'equal']\n",
      "[3.1454363161165455, 2.5404077739438646, 0.5974979302946437] \n",
      "\n",
      "[9, 6, 'ranking = ', 'sharpe', 'weighting =', 'returns']\n",
      "[10.364549171537663, 7.195425270033029, 3.061701928309901] \n",
      "\n",
      "[9, 6, 'ranking = ', 'sharpe', 'weighting =', 'sharpe']\n",
      "[2.091737368280744, 1.7157563692679068, 0.3727993985292777] \n",
      "\n",
      "[9, 9, 'ranking = ', 'returns', 'weighting =', 'equal']\n",
      "[-0.8870864353473507, -0.19991511836288112, -0.6875160776102951] \n",
      "\n",
      "[9, 9, 'ranking = ', 'returns', 'weighting =', 'returns']\n",
      "[-1.6873419711833648, -1.5994887216707054, -0.08820822317712196] \n",
      "\n",
      "[9, 9, 'ranking = ', 'returns', 'weighting =', 'sharpe']\n",
      "[-1.0153396426930916, -0.4772553573357152, -0.538729524401349] \n",
      "\n",
      "[9, 9, 'ranking = ', 'sharpe', 'weighting =', 'equal']\n",
      "[-1.2218833552144814, -0.03051660284372204, -1.1914580699606936] \n",
      "\n",
      "[9, 9, 'ranking = ', 'sharpe', 'weighting =', 'returns']\n",
      "[-2.6432729684240153, -1.8261123047497274, -0.820946183312854] \n",
      "\n",
      "[9, 9, 'ranking = ', 'sharpe', 'weighting =', 'sharpe']\n",
      "[-3.153624570406377, -1.0690429205924112, -2.0902351934795504] \n",
      "\n",
      "[9, 12, 'ranking = ', 'returns', 'weighting =', 'equal']\n",
      "[0.4161275520236929, 0.9924587515914407, -0.5763311995677367] \n",
      "\n",
      "[9, 12, 'ranking = ', 'returns', 'weighting =', 'returns']\n",
      "[-1.9798829635827242, -1.7093776779417813, -0.2705052856409318] \n",
      "\n",
      "[9, 12, 'ranking = ', 'returns', 'weighting =', 'sharpe']\n",
      "[-1.1638928451770947, -0.07221509797772363, -1.0916777471993822] \n",
      "\n",
      "[9, 12, 'ranking = ', 'sharpe', 'weighting =', 'equal']\n",
      "[0.535300783655912, 1.7519063056891993, -1.2166055220332872] \n",
      "\n",
      "[9, 12, 'ranking = ', 'sharpe', 'weighting =', 'returns']\n",
      "[-1.6115574022568913, -0.6460373699407662, -0.965520032316125] \n",
      "\n",
      "[9, 12, 'ranking = ', 'sharpe', 'weighting =', 'sharpe']\n",
      "[-0.7925094071055239, 1.3114754345715296, -2.1039848416770535] \n",
      "\n",
      "[12, 1, 'ranking = ', 'returns', 'weighting =', 'equal']\n",
      "[4.662019567208775, 3.2904458193210973, 1.331489659749674] \n",
      "\n",
      "[12, 1, 'ranking = ', 'returns', 'weighting =', 'returns']\n",
      "[10.770122142586946, 6.345905385290007, 4.182002580242217] \n",
      "\n",
      "[12, 1, 'ranking = ', 'returns', 'weighting =', 'sharpe']\n",
      "[6.379666539169082, 3.745411260975362, 2.5470359450539215] \n",
      "\n",
      "[12, 1, 'ranking = ', 'sharpe', 'weighting =', 'equal']\n",
      "[2.788024569293346, 2.407984121584694, 0.3718421516985426] \n",
      "\n",
      "[12, 1, 'ranking = ', 'sharpe', 'weighting =', 'returns']\n",
      "[6.97308295462431, 4.343700692354058, 2.5289718265776973] \n",
      "\n",
      "[12, 1, 'ranking = ', 'sharpe', 'weighting =', 'sharpe']\n",
      "[1.7889859378713346, 1.9329444057852863, -0.1414539496959577] \n",
      "\n",
      "[12, 3, 'ranking = ', 'returns', 'weighting =', 'equal']\n",
      "[7.664759981566793, 4.691412093100666, 2.873195192518252] \n",
      "\n",
      "[12, 3, 'ranking = ', 'returns', 'weighting =', 'returns']\n",
      "[15.700594332128759, 8.260640861698043, 7.013509442335897] \n",
      "\n",
      "[12, 3, 'ranking = ', 'returns', 'weighting =', 'sharpe']\n",
      "[10.197203735253968, 5.286605699104463, 4.725536652608486] \n",
      "\n",
      "[12, 3, 'ranking = ', 'sharpe', 'weighting =', 'equal']\n",
      "[5.770837016883412, 3.3863356337417105, 2.3258479891274497] \n",
      "\n",
      "[12, 3, 'ranking = ', 'sharpe', 'weighting =', 'returns']\n",
      "[13.641671714321447, 6.8003349324454065, 6.514484504590445] \n",
      "\n",
      "[12, 3, 'ranking = ', 'sharpe', 'weighting =', 'sharpe']\n",
      "[6.939625681496686, 3.292458116678554, 3.560002819826358] \n",
      "\n",
      "[12, 6, 'ranking = ', 'returns', 'weighting =', 'equal']\n",
      "[9.154627104450629, 5.345419604370494, 3.7121756872453116] \n",
      "\n",
      "[12, 6, 'ranking = ', 'returns', 'weighting =', 'returns']\n",
      "[19.145212973695912, 10.797480865718633, 7.938129620043166] \n",
      "\n",
      "[12, 6, 'ranking = ', 'returns', 'weighting =', 'sharpe']\n",
      "[11.492195790766813, 5.784513331247787, 5.551513729993673] \n",
      "\n",
      "[12, 6, 'ranking = ', 'sharpe', 'weighting =', 'equal']\n",
      "[7.056330344757167, 4.151016015547215, 2.8472312044423242] \n",
      "\n",
      "[12, 6, 'ranking = ', 'sharpe', 'weighting =', 'returns']\n",
      "[16.64156297146193, 9.075852787753536, 7.249507132631217] \n",
      "\n",
      "[12, 6, 'ranking = ', 'sharpe', 'weighting =', 'sharpe']\n"
     ]
    },
    {
     "name": "stdout",
     "output_type": "stream",
     "text": [
      "[8.334813367564298, 4.1162783154975235, 4.135139751682293] \n",
      "\n",
      "[12, 9, 'ranking = ', 'returns', 'weighting =', 'equal']\n",
      "[2.706387768828189, 1.58141617953782, 1.1205856577085838] \n",
      "\n",
      "[12, 9, 'ranking = ', 'returns', 'weighting =', 'returns']\n",
      "[4.272002325217561, 1.227072049384792, 3.03576346483152] \n",
      "\n",
      "[12, 9, 'ranking = ', 'returns', 'weighting =', 'sharpe']\n",
      "[4.156930940898906, 1.5531194660457714, 2.5938936309079397] \n",
      "\n",
      "[12, 9, 'ranking = ', 'sharpe', 'weighting =', 'equal']\n",
      "[1.5467672821397604, 1.3284683220312843, 0.2175804944268389] \n",
      "\n",
      "[12, 9, 'ranking = ', 'sharpe', 'weighting =', 'returns']\n",
      "[2.2660049786496828, 0.6145143209872916, 1.648978629177078] \n",
      "\n",
      "[12, 9, 'ranking = ', 'sharpe', 'weighting =', 'sharpe']\n",
      "[0.5599827359480392, 0.33465926223019693, 0.22513550891882783] \n",
      "\n",
      "[12, 12, 'ranking = ', 'returns', 'weighting =', 'equal']\n",
      "[-0.45995743895929087, -0.42365096832175375, -0.036306470637537114] \n",
      "\n",
      "[12, 12, 'ranking = ', 'returns', 'weighting =', 'returns']\n",
      "[-2.066748162359655, -1.8259556061563598, -0.24079255620329532] \n",
      "\n",
      "[12, 12, 'ranking = ', 'returns', 'weighting =', 'sharpe']\n",
      "[-1.2607077528323352, -0.923537592510526, -0.33717016032180913] \n",
      "\n",
      "[12, 12, 'ranking = ', 'sharpe', 'weighting =', 'equal']\n",
      "[-0.13216060725576018, 0.4194424393593854, -0.5516030466151456] \n",
      "\n",
      "[12, 12, 'ranking = ', 'sharpe', 'weighting =', 'returns']\n",
      "[-1.5947593614766942, -0.8044147388516554, -0.7903446226250388] \n",
      "\n",
      "[12, 12, 'ranking = ', 'sharpe', 'weighting =', 'sharpe']\n",
      "[-1.8247935637552337, -0.6712658908753388, -1.1535276728798949] \n",
      "\n"
     ]
    }
   ],
   "source": [
    "#Print out all TC adjusted results\n",
    "Rets = [[1,Excess_Returns_1M,RollingVolatility_1M],[3,Excess_Returns_3M,RollingVolatility_3M],\\\n",
    "        [6,Excess_Returns_6M,RollingVolatility_6M],[9,Excess_Returns_9M,RollingVolatility_9M],\\\n",
    "        [12,Excess_Returns_12M,RollingVolatility_12M]]\n",
    "TCRets = [[TCLongExcessReturns_1M,TCShortExcessReturns_1M],[TCLongExcessReturns_3M,TCShortExcessReturns_3M],\\\n",
    "         [TCLongExcessReturns_6M,TCShortExcessReturns_6M],[TCLongExcessReturns_9M,TCShortExcessReturns_9M],\\\n",
    "         [TCLongExcessReturns_12M,TCShortExcessReturns_12M]]\n",
    "\n",
    "for i in range(5): #f\n",
    "    for j in range(5): #h\n",
    "        for k in ['returns','sharpe']:\n",
    "            for l in ['equal','returns','sharpe']:\n",
    "                print([Rets[i][0],Rets[j][0],'ranking = ',k,'weighting =',l])\n",
    "                \n",
    "                total,long,short = CurrencyMomentumPortfolios(Yearly_EmergingTickers,Rets[i][1],\\\n",
    "                                        Rets[j][1],Rets[i][0],Rets[j][0],3,Rets[i][2],k,l,\\\n",
    "                                    TCRets[j][0],TCRets[j][1],'yes')\n",
    "                \n",
    "                print([((((total.T.sum().mean()/100)+1)**(12/Rets[j][0])-1)*100),\\\n",
    "                      ((((long.T.sum().mean()/100)+1)**(12/Rets[j][0])-1)*100),\n",
    "                      ((((short.T.sum().mean()/100)+1)**(12/Rets[j][0])-1)*100)],'\\n')"
   ]
  },
  {
   "cell_type": "code",
   "execution_count": 282,
   "id": "1413497f",
   "metadata": {},
   "outputs": [],
   "source": [
    "#Store annualized TC adjusted returns. Select Weigthing system inside loop.\n",
    "Rets = [[1,Excess_Returns_1M,RollingVolatility_1M],[3,Excess_Returns_3M,RollingVolatility_3M],\\\n",
    "        [6,Excess_Returns_6M,RollingVolatility_6M],[9,Excess_Returns_9M,RollingVolatility_9M],\\\n",
    "        [12,Excess_Returns_12M,RollingVolatility_12M]]\n",
    "TCRets = [[TCLongExcessReturns_1M,TCShortExcessReturns_1M],[TCLongExcessReturns_3M,TCShortExcessReturns_3M],\\\n",
    "         [TCLongExcessReturns_6M,TCShortExcessReturns_6M],[TCLongExcessReturns_9M,TCShortExcessReturns_9M],\\\n",
    "         [TCLongExcessReturns_12M,TCShortExcessReturns_12M]]\n",
    "\n",
    "TotalTCAverageReturns_df = pd.DataFrame(0.,columns = [1,3,6,9,12],index=[1,3,6,9,12])\n",
    "LongTCAverageReturns_df = pd.DataFrame(0.,columns = [1,3,6,9,12],index=[1,3,6,9,12])\n",
    "ShortTCAverageReturns_df = pd.DataFrame(0.,columns = [1,3,6,9,12],index=[1,3,6,9,12])\n",
    "AnnualizedTCSharpeRatiosTotal_df = pd.DataFrame(0.,columns = [1,3,6,9,12],index=[1,3,6,9,12])\n",
    "AnnualizedTCSharpeRatiosLong_df = pd.DataFrame(0.,columns = [1,3,6,9,12],index=[1,3,6,9,12])\n",
    "AnnualizedTCSharpeRatiosShort_df = pd.DataFrame(0.,columns = [1,3,6,9,12],index=[1,3,6,9,12])\n",
    "SharpeTCTotalpval = pd.DataFrame(columns = [1,3,6,9,12],index=[1,3,6,9,12])\n",
    "SharpeTCLongpval = pd.DataFrame(columns = [1,3,6,9,12],index=[1,3,6,9,12])\n",
    "SharpeTCShortpval = pd.DataFrame(columns = [1,3,6,9,12],index=[1,3,6,9,12])\n",
    "TotalTCPval = pd.DataFrame(columns = [1,3,6,9,12],index=[1,3,6,9,12])\n",
    "LongTCPval = pd.DataFrame(columns = [1,3,6,9,12],index=[1,3,6,9,12])\n",
    "ShortTCPval = pd.DataFrame(columns = [1,3,6,9,12],index=[1,3,6,9,12])\n",
    "\n",
    "for i in range(5): #f\n",
    "    for j in range(5): #h\n",
    "        total,long,short = CurrencyMomentumPortfolios(Yearly_EmergingTickers,Rets[i][1],\\\n",
    "                                Rets[j][1],Rets[i][0],Rets[j][0],3,Rets[i][2],'returns','sharpe',\\\n",
    "                                    TCRets[j][0],TCRets[j][1],'yes')\n",
    "                \n",
    "        TotalTCAverageReturns_df.iloc[i,j] = ((((total.T.sum().mean()/100)+1)**(12/Rets[j][0])-1)*100)\n",
    "        LongTCAverageReturns_df.iloc[i,j] = ((((long.T.sum().mean()/100)+1)**(12/Rets[j][0])-1)*100)\n",
    "        ShortTCAverageReturns_df.iloc[i,j] = ((((short.T.sum().mean()/100)+1)**(12/Rets[j][0])-1)*100)\n",
    "        \n",
    "        TotalTCPval.iat[i,j] = st.ttest_1samp(total.T.sum(),0)[1]\n",
    "        LongTCPval.iat[i,j] = st.ttest_1samp(long.T.sum(),0)[1]\n",
    "        ShortTCPval.iat[i,j] = st.ttest_1samp(short.T.sum(),0)[1]\n",
    "        \n",
    "        AnnualizedTCSharpeRatiosTotal_df.iloc[i,j] = ((((total.T.sum().mean()/100)+1)**(12/Rets[j][0])-1)*100)/(total.T.sum().std()*np.sqrt(12/Rets[j][0]))\n",
    "        AnnualizedTCSharpeRatiosLong_df.iloc[i,j] = ((((long.T.sum().mean()/100)+1)**(12/Rets[j][0])-1)*100)/(long.T.sum().std()*np.sqrt(12/Rets[j][0]))\n",
    "        AnnualizedTCSharpeRatiosShort_df.iloc[i,j] = ((((short.T.sum().mean()/100)+1)**(12/Rets[j][0])-1)*100)/(short.T.sum().std()*np.sqrt(12/Rets[j][0]))\n",
    "        \n",
    "        SharpeTCTotalpval.iloc[i,j] = st.ttest_1samp(total.T.sum()/total.T.std(),0)[1]\n",
    "        SharpeTCLongpval.iloc[i,j] = st.ttest_1samp(long.T.sum()/long.T.std(),0)[1]\n",
    "        SharpeTCShortpval.iloc[i,j] = st.ttest_1samp(short.T.sum()/short.T.std(),0)[1]"
   ]
  },
  {
   "cell_type": "code",
   "execution_count": 283,
   "id": "937acb15",
   "metadata": {},
   "outputs": [],
   "source": [
    "TotalTCAverageReturns_df.to_excel('Portfolios/TotalTCReturns.xlsx',sheet_name='Total')\n",
    "ShortTCAverageReturns_df.to_excel('Portfolios/Short.xlsx',sheet_name='Short')\n",
    "LongTCAverageReturns_df.to_excel('Portfolios/Long.xlsx',sheet_name='Long')\n",
    "TotalTCPval.to_excel('Portfolios/TotalP.xlsx',sheet_name='Long')\n",
    "LongTCPval.to_excel('Portfolios/LongP.xlsx',sheet_name='Long')\n",
    "ShortTCPval.to_excel('Portfolios/ShortP.xlsx',sheet_name='Long')\n",
    "\n",
    "AnnualizedTCSharpeRatiosTotal_df.to_excel('Portfolios/TotalSharpe.xlsx',sheet_name='Long')\n",
    "AnnualizedTCSharpeRatiosLong_df.to_excel('Portfolios/LongSharpe.xlsx',sheet_name='Long')\n",
    "AnnualizedTCSharpeRatiosShort_df.to_excel('Portfolios/ShortSharpe.xlsx',sheet_name='Long')\n",
    "SharpeTCTotalpval.to_excel('Portfolios/TotalSharpePVAL.xlsx',sheet_name='Long')\n",
    "SharpeTCLongpval.to_excel('Portfolios/LongSharpePVAL.xlsx',sheet_name='Long')\n",
    "SharpeTCShortpval.to_excel('Portfolios/ShortSharpePVAL.xlsx',sheet_name='Long')\n"
   ]
  },
  {
   "cell_type": "markdown",
   "id": "f5d90f69",
   "metadata": {},
   "source": [
    "# Universe Plots"
   ]
  },
  {
   "cell_type": "code",
   "execution_count": 20,
   "id": "447ab62b",
   "metadata": {},
   "outputs": [],
   "source": [
    "len_AllEmergingTickers=[]\n",
    "for i in range(len(Yearly_UnpeggedTickers)):\n",
    "    len_AllEmergingTickers.append(len(Yearly_Criteria.iloc[i][0]))"
   ]
  },
  {
   "cell_type": "code",
   "execution_count": 22,
   "id": "02ce4001",
   "metadata": {},
   "outputs": [],
   "source": [
    "len_EmergingTickers=[]\n",
    "for i in range(len(Yearly_EmergingTickers)):\n",
    "    len_EmergingTickers.append(len(Yearly_EmergingTickers.iloc[i][0]))\n"
   ]
  },
  {
   "cell_type": "code",
   "execution_count": 21,
   "id": "c1235b68",
   "metadata": {},
   "outputs": [],
   "source": [
    "len_UnpeggedTickers=[]\n",
    "for i in range(len(Yearly_UnpeggedTickers)):\n",
    "    len_UnpeggedTickers.append(len(Yearly_UnpeggedTickers.iloc[i][0]))"
   ]
  },
  {
   "cell_type": "code",
   "execution_count": 36,
   "id": "0a9b5f13",
   "metadata": {},
   "outputs": [],
   "source": [
    "len_Unpegged1and2Tickers=[]\n",
    "for i in range(len(Yearly_Unpegged1and2Tickers)):\n",
    "    len_Unpegged1and2Tickers.append(len(Yearly_Unpegged1and2Tickers.iloc[i][0]))"
   ]
  },
  {
   "cell_type": "code",
   "execution_count": 672,
   "id": "e09b9dae",
   "metadata": {},
   "outputs": [
    {
     "data": {
      "text/plain": [
       "<matplotlib.legend.Legend at 0x7fdf03569fd0>"
      ]
     },
     "execution_count": 672,
     "metadata": {},
     "output_type": "execute_result"
    },
    {
     "data": {
      "image/png": "[encoded data removed]",
      "text/plain": [
       "<Figure size 432x288 with 1 Axes>"
      ]
     },
     "metadata": {
      "needs_background": "light"
     },
     "output_type": "display_data"
    }
   ],
   "source": [
    "plt.step(Yearly_EmergingTickers.index,len_EmergingTickers,'-b',label = 'All Emerging')\n",
    "plt.step(Yearly_EmergingTickers.index,len_UnpeggedTickers,'--r', label = 'Unpegged(1)')\n",
    "plt.legend()"
   ]
  },
  {
   "cell_type": "code",
   "execution_count": 658,
   "id": "f171d334",
   "metadata": {},
   "outputs": [
    {
     "data": {
      "image/png": "[encoded data removed]",
      "text/plain": [
       "<Figure size 432x288 with 1 Axes>"
      ]
     },
     "metadata": {
      "needs_background": "light"
     },
     "output_type": "display_data"
    }
   ],
   "source": [
    "plt.step(Yearly_EmergingTickers.index,len_EmergingTickers,label = 'All Emerging')\n",
    "plt.step(Yearly_EmergingTickers.index,len_UnpeggedTickers, label = 'Unpegged(1)')\n",
    "plt.step(Yearly_EmergingTickers.index,len_Unpegged1and2Tickers, label = 'Unpegged(1&2)')\n",
    "plt.legend()\n",
    "#plt.savefig('Portfolios/TickerSizes.png')"
   ]
  },
  {
   "cell_type": "markdown",
   "id": "37f53c93",
   "metadata": {},
   "source": [
    "# Correlation Analysis"
   ]
  },
  {
   "cell_type": "code",
   "execution_count": 32,
   "id": "91b1b81a",
   "metadata": {},
   "outputs": [],
   "source": [
    "#Correlation within each weight class. change rets for spot or excess. and \n",
    "                                    #change weight within loop for different weight class\n",
    "\n",
    "#Rets = [[1,Returns_1M,RollingVolatility_1M],[3,Returns_3M,RollingVolatility_3M],\\\n",
    "#        [6,Returns_6M,RollingVolatility_6M],[9,Returns_9M,RollingVolatility_9M],\\\n",
    "#        [12,Returns_12M,RollingVolatility_12M]]\n",
    "Rets = [[1,Excess_Returns_1M,RollingVolatility_1M],[3,Excess_Returns_3M,RollingVolatility_3M],\\\n",
    "        [6,Excess_Returns_6M,RollingVolatility_6M],[9,Excess_Returns_9M,RollingVolatility_9M],\\\n",
    "        [12,Excess_Returns_12M,RollingVolatility_12M]]\n",
    "\n",
    "totalCorr_h1 = pd.DataFrame(0.,columns = [1,3,6,9,12],index = [1,3,6,9,12])\n",
    "totalpval_h1 = pd.DataFrame(0.,columns = [1,3,6,9,12],index = [1,3,6,9,12])\n",
    "\n",
    "longCorr_h1 = pd.DataFrame(0.,columns = [1,3,6,9,12],index = [1,3,6,9,12])\n",
    "longpval_h1 = pd.DataFrame(0.,columns = [1,3,6,9,12],index = [1,3,6,9,12])\n",
    "\n",
    "shortCorr_h1 = pd.DataFrame(0.,columns = [1,3,6,9,12],index = [1,3,6,9,12])\n",
    "shortpval_h1 = pd.DataFrame(0.,columns = [1,3,6,9,12],index = [1,3,6,9,12])\n",
    "\n",
    "\n",
    "for i in range(5):\n",
    "    for j in range(5)[(i+1):]:\n",
    "        total1,long1,short1 = CurrencyMomentumPortfolios(Yearly_EmergingTickers,Rets[i][1],Rets[0][1]\\\n",
    "             ,Rets[i][0],Rets[0][0],3,Rets[i][2],'returns','returns')\n",
    "        total2,long2,short2 = CurrencyMomentumPortfolios(Yearly_EmergingTickers,Rets[j][1],Rets[0][1]\\\n",
    "             ,Rets[j][0],Rets[0][0],3,Rets[j][2],'returns','returns')\n",
    "        diff = Rets[j][0]-Rets[i][0]\n",
    "\n",
    "        totalCorr_h1.iloc[i,j] = st.pearsonr(total1.T.sum()[diff:],total2.T.sum())[0]\n",
    "        totalpval_h1.iloc[i,j] = st.pearsonr(total1.T.sum()[diff:],total2.T.sum())[1]\n",
    "    \n",
    "        longCorr_h1.iloc[i,j] = st.pearsonr(long1.T.sum()[diff:],long2.T.sum())[0]\n",
    "        longpval_h1.iloc[i,j] = st.pearsonr(long1.T.sum()[diff:],long2.T.sum())[1]\n",
    "        #if j==4:#only use for spot returns[diff+1:]\n",
    "        shortCorr_h1.iloc[i,j] = st.pearsonr(short1.T.sum()[diff:],short2.T.sum())[0]\n",
    "        shortpval_h1.iloc[i,j] = st.pearsonr(short1.T.sum()[diff:],short2.T.sum())[1]"
   ]
  },
  {
   "cell_type": "code",
   "execution_count": 785,
   "id": "c771229a",
   "metadata": {},
   "outputs": [],
   "source": [
    "totalCorr_h1.to_excel('Portfolios/totalCORR.xlsx')\n",
    "totalpval_h1.to_excel('Portfolios/totalPVAL.xlsx')\n",
    "longCorr_h1.to_excel('Portfolios/longCORR.xlsx')\n",
    "longpval_h1.to_excel('Portfolios/longPVAL.xlsx')\n",
    "shortCorr_h1.to_excel('Portfolios/shortCORR.xlsx')\n",
    "shortpval_h1.to_excel('Portfolios/shortPVAL.xlsx')"
   ]
  },
  {
   "cell_type": "code",
   "execution_count": 734,
   "id": "8889a36f",
   "metadata": {},
   "outputs": [
    {
     "data": {
      "text/plain": [
       "<matplotlib.collections.PathCollection at 0x7f8d6817af90>"
      ]
     },
     "execution_count": 734,
     "metadata": {},
     "output_type": "execute_result"
    },
    {
     "data": {
      "image/png": "[encoded data removed]",
      "text/plain": [
       "<Figure size 432x288 with 1 Axes>"
      ]
     },
     "metadata": {
      "needs_background": "light"
     },
     "output_type": "display_data"
    }
   ],
   "source": [
    "plt.scatter(a1.T.sum()[3:],b1.T.sum())"
   ]
  },
  {
   "cell_type": "code",
   "execution_count": 921,
   "id": "a835df8b",
   "metadata": {},
   "outputs": [],
   "source": [
    "#Correlations across different factors - with 1 month holding \n",
    "Rets = [[1,Excess_Returns_1M,RollingVolatility_1M],[3,Excess_Returns_3M,RollingVolatility_3M],\\\n",
    "        [6,Excess_Returns_6M,RollingVolatility_6M],[9,Excess_Returns_9M,RollingVolatility_9M],\\\n",
    "        [12,Excess_Returns_12M,RollingVolatility_12M]]\n",
    "#Rets = [[1,Returns_1M,RollingVolatility_1M],[3,Returns_3M,RollingVolatility_3M],\\\n",
    "#        [6,Returns_6M,RollingVolatility_6M],[9,Returns_9M,RollingVolatility_9M],\\\n",
    "#        [12,Returns_12M,RollingVolatility_12M]]\n",
    "Corr_equalTS = pd.DataFrame(0.,columns = [1,3,6,9,12],index = ['h=1','pval'])\n",
    "Corr_returnsTS = pd.DataFrame(0.,columns = [1,3,6,9,12],index = ['h=1','pval'])\n",
    "Corr_sharpeTS = pd.DataFrame(0.,columns = [1,3,6,9,12],index = ['h=1','pval'])\n",
    "\n",
    "Corr_equalCarry = pd.DataFrame(0.,columns = [1,3,6,9,12],index = ['h=1','pval'])\n",
    "Corr_returnsCarry = pd.DataFrame(0.,columns = [1,3,6,9,12],index = ['h=1','pval'])\n",
    "Corr_sharpeCarry = pd.DataFrame(0.,columns = [1,3,6,9,12],index = ['h=f','pval'])\n",
    "\n",
    "Corr_equalValue = pd.DataFrame(0.,columns = [1,3,6,9,12],index = ['h=1','pval'])\n",
    "Corr_returnsValue = pd.DataFrame(0.,columns = [1,3,6,9,12],index = ['h=1','pval'])\n",
    "Corr_sharpeValue = pd.DataFrame(0.,columns = [1,3,6,9,12],index = ['h=1','pval'])\n",
    "\n",
    "#TST = TSCurrencyMomentumPortfolios(Yearly_EmergingTickers,Excess_Returns_1M,Excess_Returns_1M,1,1,\\\n",
    "#                             RollingVolatility_1M,'returns','equal')[2].T.sum()\n",
    "CT = CarryTrade()[0].T.sum()\n",
    "VT = ValueTrade()[0].T.sum()\n",
    "for i in range(5):\n",
    "    diff = Rets[i][0]-1\n",
    "    a1 = CurrencyMomentumPortfolios(Yearly_EmergingTickers,Rets[i][1],Excess_Returns_1M\\\n",
    "             ,Rets[i][0],1,3,Rets[i][2],'returns','equal')[0]\n",
    "   # b1 = CurrencyMomentumPortfolios(Yearly_EmergingTickers,Rets[i][1],Excess_Returns_1M\\\n",
    "   #          ,Rets[i][0],1,3,Rets[i][2],'returns','returns')[0]\n",
    "   # c1 = CurrencyMomentumPortfolios(Yearly_EmergingTickers,Rets[i][1],Excess_Returns_1M\\\n",
    "   #          ,Rets[i][0],1,3,Rets[i][2],'returns','sharpe')[0]   \n",
    "    TST = TSCurrencyMomentumPortfolios(Yearly_EmergingTickers,Rets[i][1],Excess_Returns_1M,Rets[i][0],1,\\\n",
    "                             Rets[i][2],'returns','equal')[0].T.sum()\n",
    "    \n",
    "    Corr_equalTS.iloc[0,i] = st.pearsonr(a1.T.sum(),TST)[0]\n",
    "    Corr_equalTS.iloc[1,i] = st.pearsonr(a1.T.sum(),TST)[1]\n",
    "    #Corr_returnsTS.iloc[0,i] = st.pearsonr(b1.T.sum(),TST)[0]\n",
    "    #Corr_returnsTS.iloc[1,i] = st.pearsonr(b1.T.sum(),TST)[1]   \n",
    "    #Corr_sharpeTS.iloc[0,i] = st.pearsonr(c1.T.sum(),TST)[0]\n",
    "    #Corr_sharpeTS.iloc[1,i] = st.pearsonr(c1.T.sum(),TST)[1]\n",
    "\n",
    "    Corr_equalCarry.iloc[0,i] = st.pearsonr(a1.T.sum(),CT[diff:])[0]\n",
    "    Corr_equalCarry.iloc[1,i] = st.pearsonr(a1.T.sum(),CT[diff:])[1]\n",
    "    #Corr_returnsCarry.iloc[0,i] = st.pearsonr(b1.T.sum(),CT[diff:])[0]\n",
    "    #Corr_returnsCarry.iloc[1,i] = st.pearsonr(b1.T.sum(),CT[diff:])[1]   \n",
    "    #Corr_sharpeCarry.iloc[0,i] = st.pearsonr(c1.T.sum(),CT[diff:])[0]\n",
    "    #Corr_sharpeCarry.iloc[1,i] = st.pearsonr(c1.T.sum(),CT[diff:])[1]\n",
    "    \n",
    "    Corr_equalValue.iloc[0,i] = st.pearsonr(a1.T.sum(),VT[diff:])[0]\n",
    "    Corr_equalValue.iloc[1,i] = st.pearsonr(a1.T.sum(),VT[diff:])[1]\n",
    "    #Corr_returnsValue.iloc[0,i] = st.pearsonr(b1.T.sum(),VT[diff:])[0]\n",
    "    #Corr_returnsValue.iloc[1,i] = st.pearsonr(b1.T.sum(),VT[diff:])[1]   \n",
    "    #Corr_sharpeValue.iloc[0,i] = st.pearsonr(c1.T.sum(),VT[diff:])[0]\n",
    "    #Corr_sharpeValue.iloc[1,i] = st.pearsonr(c1.T.sum(),VT[diff:])[1]"
   ]
  },
  {
   "cell_type": "code",
   "execution_count": 913,
   "id": "391eba1c",
   "metadata": {},
   "outputs": [],
   "source": [
    "Corr_equalTS.to_excel('Portfolios/corrTSequal.xlsx')\n",
    "#Corr_returnsTS.to_excel('Portfolios/corrTSreturns.xlsx')\n",
    "#Corr_sharpeTS.to_excel('Portfolios/corrTSsharpe.xlsx')\n",
    "\n",
    "Corr_equalCarry.to_excel('Portfolios/corrCTequal.xlsx')\n",
    "#Corr_returnsCarry.to_excel('Portfolios/corrCTreturns.xlsx')\n",
    "#Corr_sharpeCarry.to_excel('Portfolios/corrCTsharpe.xlsx')\n",
    "\n",
    "Corr_equalValue.to_excel('Portfolios/corrVTequal.xlsx')\n",
    "#Corr_returnsValue.to_excel('Portfolios/corrVTreturns.xlsx')\n",
    "#Corr_sharpeValue.to_excel('Portfolios/corrVTsharpe.xlsx')"
   ]
  },
  {
   "cell_type": "markdown",
   "id": "48a0ac49",
   "metadata": {},
   "source": [
    "# TS Mom Trend following"
   ]
  },
  {
   "cell_type": "code",
   "execution_count": 184,
   "id": "42e9eac3",
   "metadata": {},
   "outputs": [],
   "source": [
    "def TSCurrencyMomentumPortfolios(Yearly_EmergingTickers,Returns_fM,Returns_hM,f,h,\\\n",
    "                               RollingVolatility_fM, ranking_system, weighting_system):\n",
    "    \n",
    "    TSLongPortfolioReturns_f_h = pd.DataFrame(0.,columns = Returns_fM.columns,index=Returns_fM.index[1:])\n",
    "    TSShortPortfolioReturns_f_h = pd.DataFrame(0.,columns = Returns_fM.columns,index=Returns_fM.index[1:])\n",
    "\n",
    "    for i in np.arange(0,len(Returns_fM)-h,h):\n",
    "        \n",
    "        if i+h<len(Returns_hM):\n",
    "        \n",
    "            year_i = Returns_fM.index[i].year \n",
    "\n",
    "            if ranking_system == 'returns':\n",
    "                ECReturnsi = Returns_fM.iloc[i][Yearly_EmergingTickers.loc[year_i][0]]\n",
    "                winners = ECReturnsi[ECReturnsi>0]\n",
    "                losers = ECReturnsi[ECReturnsi<0]\n",
    "\n",
    "            if weighting_system == 'equal':\n",
    "                Weights = pd.DataFrame([list(winners.index)+list(losers.index),[1/len(winners+losers)]*len(winners+losers)]\\\n",
    "                                   ,index = ['Tickers','Weights']).T.set_index('Tickers')\n",
    "\n",
    "            elif weighting_system == 'sharpe':\n",
    "                Weights = pd.DataFrame(columns = ['Tickers','Weights'])\n",
    "                counter = 0\n",
    "                for ticker in (list(winners.index)+list(losers.index)):\n",
    "                    weight = RollingVolatility_fM[ticker].iloc[i]\\\n",
    "                    /RollingVolatility_fM[list(winners.index)+list(losers.index)].iloc[i].sum()\n",
    "                    Weights.loc[counter] = [ticker,weight]\n",
    "                    counter+=1\n",
    "                Weights = Weights.set_index('Tickers')\n",
    "\n",
    "            elif weighting_system == 'returns':\n",
    "                weight = []\n",
    "                totalweights = abs(Returns_fM[list(winners.index)+list(losers.index)].iloc[i]).sum()\n",
    "                for ticker in (list(winners.index)+list(losers.index)):\n",
    "                    weight.append([ticker,abs(Returns_fM[ticker].iloc[i])/totalweights])\n",
    "                Weights = pd.DataFrame(weight,columns=['Tickers','Weights']).set_index('Tickers')\n",
    "\n",
    "            for ticker in winners.index:\n",
    "                TSLongPortfolioReturns_f_h.iloc[i][ticker] = Weights.loc[ticker]*Returns_hM.iloc[i+h][ticker]\n",
    "            for ticker in losers.index:\n",
    "                TSShortPortfolioReturns_f_h.iloc[i][ticker] = Weights.loc[ticker]*-Returns_hM.iloc[i+h][ticker]\n",
    "\n",
    "    TSLongPortfolioReturns_f_h = TSLongPortfolioReturns_f_h.replace(0,np.nan)#.dropna(how='all',axis=0)\n",
    "    TSShortPortfolioReturns_f_h = TSShortPortfolioReturns_f_h.replace(0,np.nan)#.dropna(how='all',axis=0)\n",
    "\n",
    "    TSLongPortfolioReturns_f_h = TSLongPortfolioReturns_f_h.replace(np.nan,0)\n",
    "    TSShortPortfolioReturns_f_h = TSShortPortfolioReturns_f_h.replace(np.nan,0)\n",
    "    TSTotalPortfolioReturns_f_h = TSLongPortfolioReturns_f_h + TSShortPortfolioReturns_f_h\n",
    "    \n",
    "    return TSTotalPortfolioReturns_f_h, TSLongPortfolioReturns_f_h, TSShortPortfolioReturns_f_h\n"
   ]
  },
  {
   "cell_type": "code",
   "execution_count": 441,
   "id": "e0f4f178",
   "metadata": {},
   "outputs": [],
   "source": [
    "ExcessMarketReturnsREG = TSCurrencyMomentumPortfolios(Yearly_EmergingTickers,Excess_Returns_1M,Excess_Returns_1M,1,1,RollingVolatility_1M,'returns','returns')[0]"
   ]
  },
  {
   "cell_type": "code",
   "execution_count": 442,
   "id": "6f73a8ee",
   "metadata": {},
   "outputs": [],
   "source": [
    "(ExcessMarketReturnsREG.T.sum()).to_excel('Portfolios/Market.xlsx')"
   ]
  },
  {
   "cell_type": "code",
   "execution_count": 381,
   "id": "c41ed900",
   "metadata": {},
   "outputs": [],
   "source": [
    "TSTotal_3_1.T.sum().to_excel('Portfolios/Xehfubeuv.xlsx')"
   ]
  },
  {
   "cell_type": "code",
   "execution_count": 186,
   "id": "a6997238",
   "metadata": {},
   "outputs": [],
   "source": [
    "#TS Benchmark equivalent Excess Returns Results 1 holding period \n",
    "TSTotal_1_1,TSLong_1_1,TSShort_1_1 = TSCurrencyMomentumPortfolios(Yearly_EmergingTickers,Excess_Returns_1M,Excess_Returns_1M,1,1,RollingVolatility_1M,'returns','equal')\n",
    "TSTotal_3_1,TSLong_3_1,TSShort_3_1 = TSCurrencyMomentumPortfolios(Yearly_EmergingTickers,Excess_Returns_3M,Excess_Returns_1M,3,1,RollingVolatility_3M,'returns','equal')\n",
    "TSTotal_6_1,TSLong_6_1,TSShort_6_1 = TSCurrencyMomentumPortfolios(Yearly_EmergingTickers,Excess_Returns_6M,Excess_Returns_1M,6,1,RollingVolatility_6M,'returns','equal')\n",
    "TSTotal_9_1,TSLong_9_1,TSShort_9_1 = TSCurrencyMomentumPortfolios(Yearly_EmergingTickers,Excess_Returns_9M,Excess_Returns_1M,9,1,RollingVolatility_9M,'returns','equal')\n",
    "TSTotal_12_1,TSLong_12_1,TSShort_12_1 = TSCurrencyMomentumPortfolios(Yearly_EmergingTickers,Excess_Returns_12M,Excess_Returns_1M,12,1,RollingVolatility_12M,'returns','equal')"
   ]
  },
  {
   "cell_type": "code",
   "execution_count": 88,
   "id": "37978cb9",
   "metadata": {
    "scrolled": true
   },
   "outputs": [
    {
     "data": {
      "image/png": "[encoded data removed]",
      "text/plain": [
       "<Figure size 432x288 with 1 Axes>"
      ]
     },
     "metadata": {
      "needs_background": "light"
     },
     "output_type": "display_data"
    }
   ],
   "source": [
    "plt.plot(TSTotal_3_1.T.sum().cumsum());"
   ]
  },
  {
   "cell_type": "markdown",
   "id": "d84607f9",
   "metadata": {},
   "source": [
    "# CarryTradeFactor"
   ]
  },
  {
   "cell_type": "code",
   "execution_count": 150,
   "id": "53015a15",
   "metadata": {},
   "outputs": [],
   "source": [
    "def CarryTrade():\n",
    "    LongPortfolioReturns = pd.DataFrame(0.,columns = Returns_1M.columns,index=Returns_1M.index[1:])\n",
    "    ShortPortfolioReturns = pd.DataFrame(0.,columns = Returns_1M.columns,index=Returns_1M.index[1:])\n",
    "    #No_of_countries = len(IRD_1M)\n",
    "    #returnsi = []\n",
    "    tickers_topp = []\n",
    "    tickers_bottomm = []\n",
    "    Weights = []\n",
    "    for year in IRD_1M.columns: \n",
    "        tickerstop = []\n",
    "        tickersbottom = []\n",
    "        size = len(Yearly_EmergingTickers.loc[int(year)][0])\n",
    "        for ticker in Yearly_EmergingTickers.loc[int(year)][0]:\n",
    "            topcarry = IRD_1M[year].nlargest(int(size/3)).index\n",
    "            bottomcarry = IRD_1M[year].nsmallest(int(size/3)).index\n",
    "        for country in topcarry:\n",
    "            tickerstop.append(CountryToTickers[country])\n",
    "        tickers_topp.append([tickerstop])\n",
    "        for country in bottomcarry:\n",
    "            tickersbottom.append(CountryToTickers[country])\n",
    "        tickers_bottomm.append([tickersbottom])\n",
    "        Weights.append([year,1/len(list(topcarry)+list(bottomcarry))])\n",
    "    WEIGHTS = pd.DataFrame(Weights,columns = ['year','weight']).set_index('year')\n",
    "    tickers_top = pd.DataFrame(tickers_topp,columns = ['toptickers'],index = IRD_1M.columns)\n",
    "    tickers_bottom = pd.DataFrame(tickers_bottomm,columns = ['bottomtickers'],index = IRD_1M.columns)\n",
    "    LongReturns = []\n",
    "    ShortReturns = []\n",
    "    for date in Returns_1M.index[1:]:   \n",
    "        for ticker in tickers_top.loc[str(date.year)][0]:\n",
    "\n",
    "            LongPortfolioReturns.loc[date,ticker] = Excess_Returns_1M.loc[date,ticker]*WEIGHTS.loc[str(date.year)][0]\n",
    "            #LongReturns.append(Returns_1M[1:][ticker].loc[date])\n",
    "        for ticker in tickers_bottom.loc[str(date.year)][0]:\n",
    "    \n",
    "            ShortPortfolioReturns.loc[date,ticker] = -1*(Excess_Returns_1M[1:].loc[date,ticker])*WEIGHTS.loc[str(date.year)][0]\n",
    "            #ShortReturns.append(-Returns_1M[1:][ticker].loc[date])\n",
    "    return LongPortfolioReturns+ShortPortfolioReturns, LongPortfolioReturns, ShortPortfolioReturns\n",
    "CarryTradeTotal,CarryTradeLong,CarryTradeShort = CarryTrade()"
   ]
  },
  {
   "cell_type": "code",
   "execution_count": 151,
   "id": "1553c669",
   "metadata": {},
   "outputs": [
    {
     "data": {
      "text/plain": [
       "[<matplotlib.lines.Line2D at 0x7fe5d2c67210>]"
      ]
     },
     "execution_count": 151,
     "metadata": {},
     "output_type": "execute_result"
    },
    {
     "data": {
      "image/png": "[encoded data removed]",
      "text/plain": [
       "<Figure size 432x288 with 1 Axes>"
      ]
     },
     "metadata": {
      "needs_background": "light"
     },
     "output_type": "display_data"
    }
   ],
   "source": [
    "plt.plot(CarryTradeTotal.T.sum().cumsum())"
   ]
  },
  {
   "cell_type": "markdown",
   "id": "48f8daf3",
   "metadata": {},
   "source": [
    "# Value Trade"
   ]
  },
  {
   "cell_type": "code",
   "execution_count": 438,
   "id": "57c8bb9e",
   "metadata": {},
   "outputs": [
    {
     "name": "stdout",
     "output_type": "stream",
     "text": [
      "                     1999      2000      2001      2002      2003      2004  \\\n",
      "Tickers                                                                       \n",
      "USDDZD Curncy    0.204177  0.196863  0.208963  0.198357  0.191722  0.209932   \n",
      "USDARS Curncy    0.693716  0.671284  0.663416  0.642064  0.257986  0.303832   \n",
      "USDBDT Curncy    0.336110  0.324688  0.313972  0.295793  0.284243  0.292894   \n",
      "USDBRL Curncy    0.593185  0.404074  0.413861  0.341251  0.296768  0.315442   \n",
      "USDCLP Curncy    0.605461  0.552268  0.531205  0.458714  0.430294  0.440220   \n",
      "USDCNY Curncy    0.338037  0.329049  0.328489  0.328070  0.324910  0.327290   \n",
      "USDCOP Curncy    0.456602  0.411353  0.376732  0.356484  0.341493  0.311686   \n",
      "USDCZK Curncy    0.433308  0.411619  0.371188  0.376491  0.441629  0.503054   \n",
      "USDEUR Curncy.1  0.747079  0.717324  0.616807  0.598086  0.623910  0.774028   \n",
      "USDHUF Curncy    0.456276  0.440851  0.389960  0.399287  0.458155  0.544514   \n",
      "USDINR Curncy    0.223066  0.219986  0.211540  0.204661  0.205884  0.221158   \n",
      "USDIDR Curncy    0.104324  0.149663  0.164460  0.150969  0.173432  0.194986   \n",
      "USDILS Curncy    0.880715  0.846593  0.844102  0.814949  0.730862  0.796833   \n",
      "USDKZT Curncy    0.224897  0.164528  0.158913  0.165923  0.165441  0.185984   \n",
      "USDKRW Curncy    0.553236  0.634993  0.661133  0.586463  0.615281  0.664392   \n",
      "USDMYR Curncy    0.288728  0.294099  0.313142  0.301574  0.306167  0.310501   \n",
      "USDMXN Curncy    0.538788  0.589271  0.645440  0.677867  0.678718  0.616190   \n",
      "USDNZD Curncy    0.762035  0.744543  0.634043  0.617105  0.724019  0.914541   \n",
      "USDPKR Curncy    0.245536  0.236430  0.216327  0.198104  0.191254  0.203849   \n",
      "USDNGN Curncy    0.197350  0.210302  0.229121  0.225642  0.248164  0.249631   \n",
      "USDPEN Curncy    0.449595  0.394858  0.387762  0.379189  0.372672  0.376598   \n",
      "USDPHP Curncy    0.310680  0.340689  0.311903  0.279368  0.283260  0.273209   \n",
      "USDPLN Curncy    0.476223  0.438017  0.421612  0.448670  0.441126  0.464459   \n",
      "USDEUR Curncy    0.731087  0.703859  0.608834  0.600235  0.632487  0.756758   \n",
      "USDRUB Curncy    0.335744  0.225006  0.259559  0.285321  0.295806  0.321477   \n",
      "USDRON Curncy    0.334133  0.285875  0.283715  0.279872  0.295978  0.354786   \n",
      "USDZAR Curncy    0.442989  0.422363  0.397095  0.337657  0.305529  0.444696   \n",
      "USDTHB Curncy    0.280112  0.294235  0.274923  0.247523  0.256277  0.266154   \n",
      "USDVND Curncy    0.198817  0.197192  0.196293  0.189655  0.188384  0.195159   \n",
      "USDTRY Curncy    0.494350  0.469114  0.450269  0.338522  0.392284  0.491243   \n",
      "USDUAH Curncy    0.218879  0.163017  0.154356  0.168561  0.176146  0.186840   \n",
      "\n",
      "                     2005      2006      2007      2008  ...      2012  \\\n",
      "Tickers                                                  ...             \n",
      "USDDZD Curncy    0.246452  0.272943  0.295406  0.320892  ...  0.404123   \n",
      "USDARS Curncy    0.350210  0.376589  0.395875  0.437263  ...  0.664978   \n",
      "USDBDT Curncy    0.293313  0.284776  0.267990  0.270223  ...  0.328812   \n",
      "USDBRL Curncy    0.348223  0.435934  0.505597  0.585516  ...  0.880674   \n",
      "USDCLP Curncy    0.524426  0.596122  0.600773  0.619907  ...  0.719537   \n",
      "USDCNY Curncy    0.340875  0.346940  0.359668  0.395555  ...  0.545457   \n",
      "USDCOP Curncy    0.356470  0.410158  0.414041  0.481914  ...  0.632118   \n",
      "USDCZK Curncy    0.561798  0.607849  0.638791  0.703475  ...  0.754146   \n",
      "USDEUR Curncy.1  0.863037  0.881701  0.869882  0.984383  ...  0.991392   \n",
      "USDHUF Curncy    0.633742  0.656019  0.625822  0.730996  ...  0.618099   \n",
      "USDINR Curncy    0.232863  0.242071  0.249206  0.291700  ...  0.324480   \n",
      "USDIDR Curncy    0.197769  0.201977  0.236980  0.257278  ...  0.400522   \n",
      "USDILS Curncy    0.789303  0.828250  0.850167  0.906917  ...  1.102465   \n",
      "USDKZT Curncy    0.231260  0.270639  0.336500  0.389499  ...  0.559880   \n",
      "USDKRW Curncy    0.694178  0.770342  0.809058  0.829126  ...  0.771083   \n",
      "USDMYR Curncy    0.320531  0.339550  0.353804  0.385608  ...  0.479129   \n",
      "USDMXN Curncy    0.619281  0.653967  0.656734  0.674782  ...  0.617631   \n",
      "USDNZD Curncy    1.013564  1.080758  0.960708  1.106430  ...  1.173884   \n",
      "USDPKR Curncy    0.216758  0.219863  0.233762  0.241075  ...  0.291714   \n",
      "USDNGN Curncy    0.285377  0.335794  0.411941  0.439358  ...  0.505332   \n",
      "USDPEN Curncy    0.397219  0.412879  0.434346  0.449264  ...  0.560221   \n",
      "USDPHP Curncy    0.272486  0.284724  0.311835  0.348357  ...  0.417833   \n",
      "USDPLN Curncy    0.500755  0.577220  0.597103  0.670613  ...  0.608014   \n",
      "USDEUR Curncy    0.840214  0.826090  0.804181  0.886397  ...  0.866169   \n",
      "USDRUB Curncy    0.401140  0.450288  0.464061  0.546680  ...  0.627716   \n",
      "USDRON Curncy    0.389069  0.480927  0.498863  0.610970  ...  0.508442   \n",
      "USDZAR Curncy    0.537755  0.559393  0.540835  0.547952  ...  0.657838   \n",
      "USDTHB Curncy    0.276850  0.282173  0.305632  0.334720  ...  0.406248   \n",
      "USDVND Curncy    0.202976  0.232206  0.242628  0.257252  ...  0.337173   \n",
      "USDTRY Curncy    0.556177  0.621159  0.590083  0.654190  ...  0.576821   \n",
      "USDUAH Curncy    0.210338  0.262734  0.297226  0.355567  ...  0.400662   \n",
      "\n",
      "                     2013      2014      2015      2016      2017      2018  \\\n",
      "Tickers                                                                       \n",
      "USDDZD Curncy    0.420363  0.421205  0.422437  0.347704  0.339499  0.350137   \n",
      "USDARS Curncy    0.666078  0.649735  0.626648  0.685846  0.629817  0.619272   \n",
      "USDBDT Curncy    0.300622  0.312338  0.332202  0.351132  0.364141  0.375842   \n",
      "USDBRL Curncy    0.822144  0.789057  0.770607  0.597797  0.610968  0.683576   \n",
      "USDCLP Curncy    0.713770  0.706036  0.643842  0.598019  0.586818  0.612930   \n",
      "USDCNY Curncy    0.564132  0.591311  0.611852  0.621549  0.600322  0.619017   \n",
      "USDCOP Curncy    0.669814  0.645702  0.609761  0.465549  0.425046  0.449973   \n",
      "USDCZK Curncy    0.679234  0.653290  0.611982  0.525961  0.514582  0.531520   \n",
      "USDEUR Curncy.1  0.879698  0.838184  0.810813  0.675499  0.651059  0.648008   \n",
      "USDHUF Curncy    0.558069  0.558705  0.556380  0.474537  0.468998  0.495700   \n",
      "USDINR Curncy    0.297024  0.286641  0.300711  0.293805  0.296677  0.320345   \n",
      "USDIDR Curncy    0.380317  0.359964  0.339714  0.325132  0.339495  0.350924   \n",
      "USDILS Curncy    1.025788  1.063368  1.101305  1.009543  0.986446  1.042249   \n",
      "USDKZT Curncy    0.562210  0.566854  0.517957  0.452580  0.323897  0.371942   \n",
      "USDKRW Curncy    0.758908  0.793788  0.828025  0.758058  0.740077  0.771944   \n",
      "USDMYR Curncy    0.470614  0.467251  0.459981  0.401391  0.384316  0.384798   \n",
      "USDMXN Curncy    0.596735  0.617316  0.605252  0.525457  0.452529  0.470956   \n",
      "USDNZD Curncy    1.211733  1.185804  1.195197  1.030711  1.003121  1.016733   \n",
      "USDPKR Curncy    0.298133  0.294597  0.295184  0.310236  0.310300  0.320468   \n",
      "USDNGN Curncy    0.546629  0.566785  0.562718  0.495266  0.415690  0.379274   \n",
      "USDPEN Curncy    0.606349  0.598156  0.579732  0.538276  0.516507  0.536560   \n",
      "USDPHP Curncy    0.427883  0.434099  0.425181  0.417579  0.398981  0.384595   \n",
      "USDPLN Curncy    0.551564  0.557503  0.560197  0.468263  0.439496  0.461165   \n",
      "USDEUR Curncy    0.777853  0.774879  0.768004  0.648745  0.632073  0.648738   \n",
      "USDRUB Curncy    0.634513  0.612669  0.547156  0.386668  0.360779  0.413490   \n",
      "USDRON Curncy    0.450836  0.482654  0.486195  0.415126  0.393410  0.398167   \n",
      "USDZAR Curncy    0.622153  0.548770  0.513804  0.456858  0.418735  0.482742   \n",
      "USDTHB Curncy    0.394095  0.400337  0.384483  0.369101  0.360691  0.378456   \n",
      "USDVND Curncy    0.344107  0.352064  0.353387  0.341672  0.333513  0.330591   \n",
      "USDTRY Curncy    0.567849  0.562188  0.504685  0.427372  0.410931  0.379370   \n",
      "USDUAH Curncy    0.412638  0.376899  0.288976  0.209031  0.196241  0.222445   \n",
      "\n",
      "                     2019      2020  Unnamed: 23  \n",
      "Tickers                                           \n",
      "USDDZD Curncy    0.347779  0.332216     0.292125  \n",
      "USDARS Curncy    0.506373  0.437259     0.413188  \n",
      "USDBDT Curncy    0.373423  0.374537     0.381879  \n",
      "USDBRL Curncy    0.609262  0.578205     0.458321  \n",
      "USDCLP Curncy    0.642192  0.567541     0.527839  \n",
      "USDCNY Curncy    0.639163  0.609117     0.606519  \n",
      "USDCOP Curncy    0.452686  0.411302     0.366127  \n",
      "USDCZK Curncy    0.569351  0.546218     0.545367  \n",
      "USDEUR Curncy.1  0.665949  0.620386     0.621006  \n",
      "USDHUF Curncy    0.515565  0.492782     0.480568  \n",
      "USDINR Curncy    0.299147  0.300199     0.296501  \n",
      "USDIDR Curncy    0.334387  0.335881     0.320642  \n",
      "USDILS Curncy    1.033754  1.039123     1.041945  \n",
      "USDKZT Curncy    0.375134  0.357261     0.341089  \n",
      "USDKRW Curncy    0.786662  0.745325     0.730194  \n",
      "USDMYR Curncy    0.402985  0.385939     0.373025  \n",
      "USDMXN Curncy    0.478162  0.486409     0.443194  \n",
      "USDNZD Curncy    0.985777  0.948573     0.937317  \n",
      "USDPKR Curncy    0.305405  0.263164     0.247108  \n",
      "USDNGN Curncy    0.384133  0.416587     0.404494  \n",
      "USDPEN Curncy    0.531604  0.524555     0.515987  \n",
      "USDPHP Curncy    0.372922  0.375102     0.393339  \n",
      "USDPLN Curncy    0.483715  0.459558     0.456923  \n",
      "USDEUR Curncy    0.674201  0.631499     0.650508  \n",
      "USDRUB Curncy    0.393537  0.393905     0.358932  \n",
      "USDRON Curncy    0.423914  0.399066     0.403687  \n",
      "USDZAR Curncy    0.493001  0.463602     0.423483  \n",
      "USDTHB Curncy    0.393783  0.406419     0.394320  \n",
      "USDVND Curncy    0.330384  0.323971     0.322164  \n",
      "USDTRY Curncy    0.338303  0.334082     0.303639  \n",
      "USDUAH Curncy    0.245114  0.274339     0.285438  \n",
      "\n",
      "[31 rows x 23 columns]\n"
     ]
    }
   ],
   "source": [
    "PPP = pd.read_excel('PPPData-ValFactor.xlsx',sheet_name = 'PPP')\n",
    "PPP = PPP.iloc[:-1]\n",
    "\n",
    "Tickers = []\n",
    "for i in PPP.iloc[:,0]:\n",
    "    Tickers.append(CountryToTickers[i])\n",
    "PPP['Tickers'] = Tickers\n",
    "PPP = PPP.set_index('Tickers')\n",
    "PPP = PPP.iloc[:,1:]\n",
    "print(PPP)\n",
    "PPP = 1/PPP # Ratio compared to USD PPP - 'Real exchange rate'"
   ]
  },
  {
   "cell_type": "code",
   "execution_count": 178,
   "id": "cc962bce",
   "metadata": {},
   "outputs": [],
   "source": [
    "def ValueTrade():    \n",
    "    LongPortfolioReturns = pd.DataFrame(0.,columns = Returns_1M.columns,index=Returns_1M.index[1:])\n",
    "    ShortPortfolioReturns = pd.DataFrame(0.,columns = Returns_1M.columns,index=Returns_1M.index[1:])\n",
    "    \n",
    "    for date in Spot.index[2:]:\n",
    "        valuefactor = []\n",
    "        size = len(Yearly_EmergingTickers.loc[date.year][0])\n",
    "        for ticker in Yearly_EmergingTickers.loc[date.year][0]:\n",
    "            valuefactor.append([ticker,(PPP.loc[ticker,str(date.year)]-Spot.loc[str(date),ticker])\\\n",
    "                                               /Spot.loc[str(date),ticker]])\n",
    "        winners = pd.DataFrame(valuefactor,columns = ['Tickers','Value']).set_index('Tickers')['Value']\\\n",
    "                        .nlargest(int(size/3)).index\n",
    "        losers = pd.DataFrame(valuefactor,columns = ['Tickers','Value']).set_index('Tickers')['Value']\\\n",
    "                        .nsmallest(int(size/3)).index\n",
    "        Weight = 1/len(list(winners)+list(losers))\n",
    "        for ticker in winners:\n",
    "            LongPortfolioReturns.loc[date,ticker] = Excess_Returns_1M.loc[date,ticker]*Weight\n",
    "        for ticker in losers:\n",
    "            ShortPortfolioReturns.loc[date,ticker] = -1*Excess_Returns_1M.loc[date,ticker]*Weight\n",
    "    return LongPortfolioReturns+ShortPortfolioReturns, LongPortfolioReturns, ShortPortfolioReturns\n",
    "ValueTradeTotal, ValueTradeLong, ValueTradeShort = ValueTrade()"
   ]
  },
  {
   "cell_type": "code",
   "execution_count": 179,
   "id": "a31e646a",
   "metadata": {},
   "outputs": [
    {
     "data": {
      "text/plain": [
       "[<matplotlib.lines.Line2D at 0x7fe5d4e20690>]"
      ]
     },
     "execution_count": 179,
     "metadata": {},
     "output_type": "execute_result"
    },
    {
     "data": {
      "image/png": "[encoded data removed]",
      "text/plain": [
       "<Figure size 432x288 with 1 Axes>"
      ]
     },
     "metadata": {
      "needs_background": "light"
     },
     "output_type": "display_data"
    }
   ],
   "source": [
    "plt.plot(ValueTradeTotal.T.sum().cumsum())"
   ]
  },
  {
   "cell_type": "markdown",
   "id": "0e46130a",
   "metadata": {},
   "source": [
    "# DOL Factor\n"
   ]
  },
  {
   "cell_type": "code",
   "execution_count": 350,
   "id": "b482a1da",
   "metadata": {},
   "outputs": [
    {
     "data": {
      "text/plain": [
       "[<matplotlib.lines.Line2D at 0x7fe5d582d850>]"
      ]
     },
     "execution_count": 350,
     "metadata": {},
     "output_type": "execute_result"
    },
    {
     "data": {
      "image/png": "[encoded data removed]",
      "text/plain": [
       "<Figure size 432x288 with 1 Axes>"
      ]
     },
     "metadata": {
      "needs_background": "light"
     },
     "output_type": "display_data"
    }
   ],
   "source": [
    "DOLReturns = Excess_Returns_1M.T.mean()\n",
    "plt.plot(DOLReturns.cumsum())"
   ]
  },
  {
   "cell_type": "markdown",
   "id": "a10dca8c",
   "metadata": {},
   "source": [
    "# cross section excess returns for factor modelling"
   ]
  },
  {
   "cell_type": "code",
   "execution_count": 348,
   "id": "19fe33ab",
   "metadata": {},
   "outputs": [],
   "source": [
    "def PortfolioReturns(weighting):    \n",
    "    PortfolioReturns1 = pd.DataFrame(0.,columns = Returns_1M.columns,index=Returns_1M.index)\n",
    "    for yeari in list(Yearly_EmergingCountries.index):\n",
    "        for country in list(Yearly_EmergingTickers.loc[yeari]):\n",
    "            if weighting == 'equal':\n",
    "                weight = 1/len(Yearly_EmergingTickers.loc[yeari][0])\n",
    "                for i in range(len(PortfolioReturns1)):\n",
    "                    if PortfolioReturns1.index[i].year == yeari:\n",
    "                        PortfolioReturns1.iloc[i].loc[country] = Excess_Returns_1M.iloc[i].loc[country]*weight\n",
    "            #elif weighting == 'return':\n",
    "            #    for i in range(len(PortfolioReturns)):\n",
    "            #        if PortfolioReturns.index[i].year == yeari:\n",
    "            #            weight = \n",
    "            #            PortfolioReturns.iloc[i].loc[country] = Excess_Returns_1M.iloc[i].loc[country]\n",
    "    return PortfolioReturns1"
   ]
  },
  {
   "cell_type": "code",
   "execution_count": 99,
   "id": "7d36ff3c",
   "metadata": {},
   "outputs": [],
   "source": [
    "PortfolioExcessReturns = PortfolioReturns('equal')"
   ]
  },
  {
   "cell_type": "code",
   "execution_count": 445,
   "id": "556d07d9",
   "metadata": {},
   "outputs": [
    {
     "data": {
      "text/plain": [
       "Dates\n",
       "1999-01-29   -3.951976\n",
       "1999-02-26   -1.485265\n",
       "1999-03-31   -0.158008\n",
       "1999-04-30   -0.231609\n",
       "1999-05-31   -2.067058\n",
       "                ...   \n",
       "2020-08-31    0.491311\n",
       "2020-09-30   -1.313475\n",
       "2020-10-30    0.172496\n",
       "2020-11-30    2.791318\n",
       "2020-12-31    1.834381\n",
       "Length: 264, dtype: float64"
      ]
     },
     "execution_count": 445,
     "metadata": {},
     "output_type": "execute_result"
    }
   ],
   "source": [
    "Excess_Returns_1M.T.mean()"
   ]
  },
  {
   "cell_type": "code",
   "execution_count": 446,
   "id": "30a83862",
   "metadata": {},
   "outputs": [],
   "source": [
    "#plt.plot(PortfolioExcessReturns.T.sum().cumsum());\n",
    "Excess_Returns_1M.T.mean().to_excel('Portfolios/Avg.xlsx')"
   ]
  },
  {
   "cell_type": "code",
   "execution_count": 209,
   "id": "118a43fa",
   "metadata": {},
   "outputs": [],
   "source": [
    "RegressionDataNew = pd.DataFrame([PortfolioExcessReturns[3:].T.sum(),BenchmarkTotal_3_1.T.sum(),TSTotal_1_1[2:].T.sum(),\\\n",
    "                    CarryTradeTotal[2:].T.sum(),ValueTradeTotal[2:].T.sum()],index = ['Portfolio Returns','XMOM_3_1','TSMOM','CarryTradeReturns','ValueTradeReturns']).T\n",
    "RegressionDataNew.to_excel(r\"/Users/abbasmahmood/Desktop/Dissertation/Portfolios/regression_new.xlsx\",index = True, header = True)\n"
   ]
  },
  {
   "cell_type": "markdown",
   "id": "16563929",
   "metadata": {},
   "source": [
    "# Regressions"
   ]
  },
  {
   "cell_type": "code",
   "execution_count": 321,
   "id": "f82cbfa5",
   "metadata": {},
   "outputs": [
    {
     "name": "stdout",
     "output_type": "stream",
     "text": [
      "0.04288674384208302 0.21425121097930572 [-0.13630401]\n"
     ]
    }
   ],
   "source": [
    "x = np.array(Excess_Returns_1M.T.mean()[1:]).reshape((-1, 1))\n",
    "y = np.array(BenchmarkTotal_1_1.T.sum())\n",
    "model = LinearRegression()\n",
    "model.fit(x,y)\n",
    "print(model.score(x,y),model.intercept_,model.coef_)"
   ]
  },
  {
   "cell_type": "code",
   "execution_count": 192,
   "id": "5673a3cd",
   "metadata": {},
   "outputs": [
    {
     "name": "stdout",
     "output_type": "stream",
     "text": [
      "0.6920395074757499 0.07938062645298227 [0.87374461]\n"
     ]
    }
   ],
   "source": [
    "x = np.array(BenchmarkTotal_1_1.T.sum()).reshape((-1, 1))\n",
    "y = np.array(TSTotal_1_1.T.sum().values)\n",
    "model = LinearRegression()\n",
    "model.fit(x,y)\n",
    "print(model.score(x,y),model.intercept_,model.coef_)"
   ]
  },
  {
   "cell_type": "code",
   "execution_count": 216,
   "id": "0000109f",
   "metadata": {},
   "outputs": [
    {
     "name": "stdout",
     "output_type": "stream",
     "text": [
      "0.0018600155329205892 0.2888165997584265 [-0.51870049]\n"
     ]
    }
   ],
   "source": [
    "x = np.array(BenchmarkTotal_1_1.T.sum()).reshape((-1, 1))\n",
    "y = np.array(CarryTradeTotal.T.sum().values)\n",
    "model = LinearRegression()\n",
    "model.fit(x,y)\n",
    "print(model.score(x,y),model.intercept_,model.coef_)"
   ]
  },
  {
   "cell_type": "code",
   "execution_count": 212,
   "id": "42646358",
   "metadata": {},
   "outputs": [
    {
     "name": "stdout",
     "output_type": "stream",
     "text": [
      "0.0014820724227144755 0.3860389462487904 [0.3000515]\n"
     ]
    }
   ],
   "source": [
    "x = np.array(BenchmarkTotal_3_1.T.sum()).reshape((-1, 1))\n",
    "y = np.array(ValueTradeTotal[2:].T.sum().values)\n",
    "model = LinearRegression()\n",
    "model.fit(x,y)\n",
    "print(model.score(x,y),model.intercept_,model.coef_)"
   ]
  },
  {
   "cell_type": "code",
   "execution_count": 194,
   "id": "8d6530d7",
   "metadata": {},
   "outputs": [
    {
     "data": {
      "text/plain": [
       "[<matplotlib.lines.Line2D at 0x7fdefeab8a10>]"
      ]
     },
     "execution_count": 194,
     "metadata": {},
     "output_type": "execute_result"
    },
    {
     "data": {
      "image/png": "[encoded data removed]",
      "text/plain": [
       "<Figure size 432x288 with 1 Axes>"
      ]
     },
     "metadata": {
      "needs_background": "light"
     },
     "output_type": "display_data"
    }
   ],
   "source": [
    "#plt.scatter(BenchmarkLong_3_1.T.sum(),TSLong_3_1.T.sum())\n",
    "#x = np.array(BenchmarkTotal_1_1.T.sum()).reshape((-1, 1))\n",
    "#y = np.array(TSTotal_1_1.T.sum().values)\n",
    "#model = LinearRegression()\n",
    "#model.fit(x,y)\n",
    "plt.scatter(BenchmarkTotal_3_1.T.sum(),TSTotal_3_1.T.sum())\n",
    "plt.plot(BenchmarkTotal_3_1.T.sum(),model.coef_*BenchmarkTotal_3_1.T.sum()+model.intercept_,'red')"
   ]
  },
  {
   "cell_type": "code",
   "execution_count": 217,
   "id": "618bd99c",
   "metadata": {},
   "outputs": [
    {
     "data": {
      "text/plain": [
       "<matplotlib.collections.PathCollection at 0x7fdeff16a750>"
      ]
     },
     "execution_count": 217,
     "metadata": {},
     "output_type": "execute_result"
    },
    {
     "data": {
      "image/png": "[encoded data removed]",
      "text/plain": [
       "<Figure size 432x288 with 1 Axes>"
      ]
     },
     "metadata": {
      "needs_background": "light"
     },
     "output_type": "display_data"
    }
   ],
   "source": [
    "plt.scatter(BenchmarkTotal_3_1.T.sum(),CarryTradeTotal[2:].T.sum())"
   ]
  },
  {
   "cell_type": "code",
   "execution_count": 213,
   "id": "5c9dab2c",
   "metadata": {},
   "outputs": [
    {
     "data": {
      "text/plain": [
       "<matplotlib.collections.PathCollection at 0x7fdefee23cd0>"
      ]
     },
     "execution_count": 213,
     "metadata": {},
     "output_type": "execute_result"
    },
    {
     "data": {
      "image/png": "[encoded data removed]",
      "text/plain": [
       "<Figure size 432x288 with 1 Axes>"
      ]
     },
     "metadata": {
      "needs_background": "light"
     },
     "output_type": "display_data"
    }
   ],
   "source": [
    "plt.scatter(BenchmarkTotal_1_1.T.sum(),ValueTradeTotal[:].T.sum())"
   ]
  },
  {
   "cell_type": "code",
   "execution_count": 221,
   "id": "f4da8301",
   "metadata": {},
   "outputs": [],
   "source": [
    "RegressionData = pd.DataFrame([Excess_Returns_1M.T.mean()[1:],BenchmarkTotal_1_1.T.sum(),TSTotal_1_1.T.sum(),\\\n",
    "                    CarryTradeTotal.T.sum(),ValueTradeTotal.T.sum()],index = ['DOL','MomReturns','TSReturns','CarryReturns','ValueReturns']).T\n",
    "#RegressionData.to_excel(r\"/Users/abbasmahmood/Desktop/Dissertation/Portfolios/regression_1_1.xlsx\",index = True, header = True)\n"
   ]
  },
  {
   "cell_type": "code",
   "execution_count": 322,
   "id": "ce131542",
   "metadata": {},
   "outputs": [],
   "source": [
    "RegressionData2 = pd.DataFrame([Excess_Returns_1M.T.mean()[3:],BenchmarkTotal_3_1.T.sum(),TSTotal_3_1.T.sum(),\\\n",
    "                    CarryTradeTotal[2:].T.sum(),ValueTradeTotal[2:].T.sum()],index = ['DOL','MomReturns','TSMOM','HML','VAL']).T\n",
    "#RegressionData2.to_excel(r\"/Users/abbasmahmood/Desktop/Dissertation/Portfolios/regression_3_1.xlsx\",index = True, header = True)\n"
   ]
  },
  {
   "cell_type": "code",
   "execution_count": 656,
   "id": "45597a8e",
   "metadata": {},
   "outputs": [],
   "source": [
    "#Regress over Long portfolio\n",
    "RegressionDataLong = pd.DataFrame([Excess_Returns_1M.T.mean()[3:],BenchmarkLong_3_1.T.sum(),TSLong_3_1.T.sum(),\\\n",
    "                    CarryTradeLong[2:].T.sum(),ValueTradeLong[2:].T.sum()],index = ['DOL','XMOM','TSMOM','HML','VAL']).T\n",
    "RegressionDataLong.to_excel(r\"/Users/abbasmahmood/Desktop/Dissertation/Portfolios/regression_3_1LONG.xlsx\",index = True, header = True)\n"
   ]
  },
  {
   "cell_type": "code",
   "execution_count": 657,
   "id": "e3a2f279",
   "metadata": {},
   "outputs": [],
   "source": [
    "#Regress over Short portfolio\n",
    "RegressionDataShort = pd.DataFrame([Excess_Returns_1M.T.mean()[3:],BenchmarkShort_3_1.T.sum(),TSShort_3_1.T.sum(),\\\n",
    "                    CarryTradeShort[2:].T.sum(),ValueTradeShort[2:].T.sum()],index = ['DOL','XMOM','TSMOM','HML','VAL']).T\n",
    "RegressionDataShort.to_excel(r\"/Users/abbasmahmood/Desktop/Dissertation/Portfolios/regression_3_1SHORT.xlsx\",index = True, header = True)\n",
    "\n"
   ]
  },
  {
   "cell_type": "markdown",
   "id": "88d30f69",
   "metadata": {},
   "source": [
    "# Descriptive Analysis"
   ]
  },
  {
   "cell_type": "code",
   "execution_count": 306,
   "id": "b8c56a12",
   "metadata": {},
   "outputs": [
    {
     "data": {
      "text/html": [
       "<div>\n",
       "<style scoped>\n",
       "    .dataframe tbody tr th:only-of-type {\n",
       "        vertical-align: middle;\n",
       "    }\n",
       "\n",
       "    .dataframe tbody tr th {\n",
       "        vertical-align: top;\n",
       "    }\n",
       "\n",
       "    .dataframe thead th {\n",
       "        text-align: right;\n",
       "    }\n",
       "</style>\n",
       "<table border=\"1\" class=\"dataframe\">\n",
       "  <thead>\n",
       "    <tr style=\"text-align: right;\">\n",
       "      <th></th>\n",
       "      <th>USDPLN Curncy</th>\n",
       "      <th>USDZAR Curncy</th>\n",
       "      <th>USDCLP Curncy</th>\n",
       "      <th>USDNGN Curncy</th>\n",
       "      <th>USDKRW Curncy</th>\n",
       "      <th>USDEUR Curncy</th>\n",
       "      <th>USDKZT Curncy</th>\n",
       "      <th>USDCNY Curncy</th>\n",
       "      <th>USDPHP Curncy</th>\n",
       "      <th>USDNZD Curncy</th>\n",
       "      <th>...</th>\n",
       "      <th>USDVND Curncy</th>\n",
       "      <th>USDILS Curncy</th>\n",
       "      <th>USDCZK Curncy</th>\n",
       "      <th>USDRUB Curncy</th>\n",
       "      <th>USDTHB Curncy</th>\n",
       "      <th>USDRON Curncy</th>\n",
       "      <th>USDUAH Curncy</th>\n",
       "      <th>USDTRY Curncy</th>\n",
       "      <th>USDPEN Curncy</th>\n",
       "      <th>USDPKR Curncy</th>\n",
       "    </tr>\n",
       "    <tr>\n",
       "      <th>Dates</th>\n",
       "      <th></th>\n",
       "      <th></th>\n",
       "      <th></th>\n",
       "      <th></th>\n",
       "      <th></th>\n",
       "      <th></th>\n",
       "      <th></th>\n",
       "      <th></th>\n",
       "      <th></th>\n",
       "      <th></th>\n",
       "      <th></th>\n",
       "      <th></th>\n",
       "      <th></th>\n",
       "      <th></th>\n",
       "      <th></th>\n",
       "      <th></th>\n",
       "      <th></th>\n",
       "      <th></th>\n",
       "      <th></th>\n",
       "      <th></th>\n",
       "      <th></th>\n",
       "    </tr>\n",
       "  </thead>\n",
       "  <tbody>\n",
       "    <tr>\n",
       "      <th>1998-12-31</th>\n",
       "      <td>0.284900</td>\n",
       "      <td>0.340861</td>\n",
       "      <td>0.000000</td>\n",
       "      <td>0.000000</td>\n",
       "      <td>0.000000</td>\n",
       "      <td>0.034994</td>\n",
       "      <td>0.000000</td>\n",
       "      <td>0.000000</td>\n",
       "      <td>0.000000</td>\n",
       "      <td>0.206448</td>\n",
       "      <td>...</td>\n",
       "      <td>0.028794</td>\n",
       "      <td>0.000000</td>\n",
       "      <td>0.132499</td>\n",
       "      <td>0.000000</td>\n",
       "      <td>0.272851</td>\n",
       "      <td>0.000000</td>\n",
       "      <td>0.000000</td>\n",
       "      <td>0.095087</td>\n",
       "      <td>0.095042</td>\n",
       "      <td>0.000000</td>\n",
       "    </tr>\n",
       "    <tr>\n",
       "      <th>1999-01-29</th>\n",
       "      <td>0.136277</td>\n",
       "      <td>0.156706</td>\n",
       "      <td>0.102218</td>\n",
       "      <td>0.000000</td>\n",
       "      <td>0.000000</td>\n",
       "      <td>0.022725</td>\n",
       "      <td>0.000000</td>\n",
       "      <td>0.000000</td>\n",
       "      <td>0.000000</td>\n",
       "      <td>6.658420</td>\n",
       "      <td>...</td>\n",
       "      <td>0.021611</td>\n",
       "      <td>0.000000</td>\n",
       "      <td>0.154088</td>\n",
       "      <td>0.435730</td>\n",
       "      <td>0.135740</td>\n",
       "      <td>0.000000</td>\n",
       "      <td>0.000000</td>\n",
       "      <td>0.059934</td>\n",
       "      <td>0.119367</td>\n",
       "      <td>0.100908</td>\n",
       "    </tr>\n",
       "    <tr>\n",
       "      <th>1999-02-26</th>\n",
       "      <td>2.534854</td>\n",
       "      <td>0.322971</td>\n",
       "      <td>0.199104</td>\n",
       "      <td>1.445087</td>\n",
       "      <td>0.245349</td>\n",
       "      <td>0.055145</td>\n",
       "      <td>0.000000</td>\n",
       "      <td>0.024158</td>\n",
       "      <td>1.026958</td>\n",
       "      <td>2.468617</td>\n",
       "      <td>...</td>\n",
       "      <td>0.722022</td>\n",
       "      <td>0.000000</td>\n",
       "      <td>0.070032</td>\n",
       "      <td>0.650054</td>\n",
       "      <td>0.000000</td>\n",
       "      <td>0.000000</td>\n",
       "      <td>0.000000</td>\n",
       "      <td>0.141123</td>\n",
       "      <td>0.586510</td>\n",
       "      <td>0.000000</td>\n",
       "    </tr>\n",
       "    <tr>\n",
       "      <th>1999-03-31</th>\n",
       "      <td>2.503129</td>\n",
       "      <td>0.121797</td>\n",
       "      <td>0.103040</td>\n",
       "      <td>0.000000</td>\n",
       "      <td>0.000000</td>\n",
       "      <td>0.043048</td>\n",
       "      <td>0.000000</td>\n",
       "      <td>0.020531</td>\n",
       "      <td>1.032258</td>\n",
       "      <td>6.741573</td>\n",
       "      <td>...</td>\n",
       "      <td>0.000000</td>\n",
       "      <td>0.000000</td>\n",
       "      <td>0.084215</td>\n",
       "      <td>0.603015</td>\n",
       "      <td>1.331558</td>\n",
       "      <td>0.000000</td>\n",
       "      <td>0.000000</td>\n",
       "      <td>1.608148</td>\n",
       "      <td>0.120012</td>\n",
       "      <td>0.000000</td>\n",
       "    </tr>\n",
       "    <tr>\n",
       "      <th>1999-04-30</th>\n",
       "      <td>0.126502</td>\n",
       "      <td>0.123532</td>\n",
       "      <td>0.103231</td>\n",
       "      <td>0.000000</td>\n",
       "      <td>0.000000</td>\n",
       "      <td>0.042279</td>\n",
       "      <td>0.000000</td>\n",
       "      <td>0.000000</td>\n",
       "      <td>0.000000</td>\n",
       "      <td>2.989829</td>\n",
       "      <td>...</td>\n",
       "      <td>0.000000</td>\n",
       "      <td>0.144207</td>\n",
       "      <td>0.084398</td>\n",
       "      <td>0.000000</td>\n",
       "      <td>0.269542</td>\n",
       "      <td>0.000000</td>\n",
       "      <td>0.000000</td>\n",
       "      <td>2.396907</td>\n",
       "      <td>0.059916</td>\n",
       "      <td>0.000000</td>\n",
       "    </tr>\n",
       "    <tr>\n",
       "      <th>...</th>\n",
       "      <td>...</td>\n",
       "      <td>...</td>\n",
       "      <td>...</td>\n",
       "      <td>...</td>\n",
       "      <td>...</td>\n",
       "      <td>...</td>\n",
       "      <td>...</td>\n",
       "      <td>...</td>\n",
       "      <td>...</td>\n",
       "      <td>...</td>\n",
       "      <td>...</td>\n",
       "      <td>...</td>\n",
       "      <td>...</td>\n",
       "      <td>...</td>\n",
       "      <td>...</td>\n",
       "      <td>...</td>\n",
       "      <td>...</td>\n",
       "      <td>...</td>\n",
       "      <td>...</td>\n",
       "      <td>...</td>\n",
       "      <td>...</td>\n",
       "    </tr>\n",
       "    <tr>\n",
       "      <th>2020-08-31</th>\n",
       "      <td>0.149282</td>\n",
       "      <td>0.080866</td>\n",
       "      <td>0.090131</td>\n",
       "      <td>0.199849</td>\n",
       "      <td>0.025256</td>\n",
       "      <td>NaN</td>\n",
       "      <td>0.311890</td>\n",
       "      <td>0.030664</td>\n",
       "      <td>0.146371</td>\n",
       "      <td>NaN</td>\n",
       "      <td>...</td>\n",
       "      <td>0.125183</td>\n",
       "      <td>0.095397</td>\n",
       "      <td>0.118174</td>\n",
       "      <td>0.076686</td>\n",
       "      <td>0.048204</td>\n",
       "      <td>0.165293</td>\n",
       "      <td>0.063541</td>\n",
       "      <td>0.575957</td>\n",
       "      <td>0.070568</td>\n",
       "      <td>0.445952</td>\n",
       "    </tr>\n",
       "    <tr>\n",
       "      <th>2020-09-30</th>\n",
       "      <td>0.230236</td>\n",
       "      <td>0.268085</td>\n",
       "      <td>0.084148</td>\n",
       "      <td>0.459161</td>\n",
       "      <td>0.017100</td>\n",
       "      <td>NaN</td>\n",
       "      <td>0.231214</td>\n",
       "      <td>0.035342</td>\n",
       "      <td>0.039186</td>\n",
       "      <td>NaN</td>\n",
       "      <td>...</td>\n",
       "      <td>0.012940</td>\n",
       "      <td>0.087558</td>\n",
       "      <td>0.216032</td>\n",
       "      <td>0.047016</td>\n",
       "      <td>0.126263</td>\n",
       "      <td>0.170743</td>\n",
       "      <td>1.033449</td>\n",
       "      <td>0.498983</td>\n",
       "      <td>0.194310</td>\n",
       "      <td>0.120736</td>\n",
       "    </tr>\n",
       "    <tr>\n",
       "      <th>2020-10-30</th>\n",
       "      <td>0.353812</td>\n",
       "      <td>0.576216</td>\n",
       "      <td>0.031013</td>\n",
       "      <td>0.542209</td>\n",
       "      <td>0.026428</td>\n",
       "      <td>NaN</td>\n",
       "      <td>0.124804</td>\n",
       "      <td>0.017933</td>\n",
       "      <td>0.020659</td>\n",
       "      <td>NaN</td>\n",
       "      <td>...</td>\n",
       "      <td>0.008629</td>\n",
       "      <td>1.087913</td>\n",
       "      <td>0.473273</td>\n",
       "      <td>0.029548</td>\n",
       "      <td>0.048119</td>\n",
       "      <td>0.282574</td>\n",
       "      <td>0.300698</td>\n",
       "      <td>1.385277</td>\n",
       "      <td>0.041490</td>\n",
       "      <td>0.004867</td>\n",
       "    </tr>\n",
       "    <tr>\n",
       "      <th>2020-11-30</th>\n",
       "      <td>0.282268</td>\n",
       "      <td>0.276698</td>\n",
       "      <td>0.091223</td>\n",
       "      <td>0.199545</td>\n",
       "      <td>0.018077</td>\n",
       "      <td>NaN</td>\n",
       "      <td>0.296227</td>\n",
       "      <td>0.088161</td>\n",
       "      <td>0.041597</td>\n",
       "      <td>NaN</td>\n",
       "      <td>...</td>\n",
       "      <td>0.125362</td>\n",
       "      <td>0.105833</td>\n",
       "      <td>0.228108</td>\n",
       "      <td>0.032594</td>\n",
       "      <td>0.132188</td>\n",
       "      <td>0.217732</td>\n",
       "      <td>0.704619</td>\n",
       "      <td>0.582859</td>\n",
       "      <td>0.069306</td>\n",
       "      <td>0.076932</td>\n",
       "    </tr>\n",
       "    <tr>\n",
       "      <th>2020-12-31</th>\n",
       "      <td>0.701792</td>\n",
       "      <td>0.181698</td>\n",
       "      <td>0.203715</td>\n",
       "      <td>1.349891</td>\n",
       "      <td>0.009205</td>\n",
       "      <td>NaN</td>\n",
       "      <td>0.313428</td>\n",
       "      <td>0.036769</td>\n",
       "      <td>0.010411</td>\n",
       "      <td>NaN</td>\n",
       "      <td>...</td>\n",
       "      <td>0.056282</td>\n",
       "      <td>0.202303</td>\n",
       "      <td>0.475445</td>\n",
       "      <td>0.034268</td>\n",
       "      <td>0.033389</td>\n",
       "      <td>0.422323</td>\n",
       "      <td>2.188006</td>\n",
       "      <td>0.825224</td>\n",
       "      <td>0.069099</td>\n",
       "      <td>0.291301</td>\n",
       "    </tr>\n",
       "  </tbody>\n",
       "</table>\n",
       "<p>265 rows × 31 columns</p>\n",
       "</div>"
      ],
      "text/plain": [
       "            USDPLN Curncy  USDZAR Curncy  USDCLP Curncy  USDNGN Curncy  \\\n",
       "Dates                                                                    \n",
       "1998-12-31       0.284900       0.340861       0.000000       0.000000   \n",
       "1999-01-29       0.136277       0.156706       0.102218       0.000000   \n",
       "1999-02-26       2.534854       0.322971       0.199104       1.445087   \n",
       "1999-03-31       2.503129       0.121797       0.103040       0.000000   \n",
       "1999-04-30       0.126502       0.123532       0.103231       0.000000   \n",
       "...                   ...            ...            ...            ...   \n",
       "2020-08-31       0.149282       0.080866       0.090131       0.199849   \n",
       "2020-09-30       0.230236       0.268085       0.084148       0.459161   \n",
       "2020-10-30       0.353812       0.576216       0.031013       0.542209   \n",
       "2020-11-30       0.282268       0.276698       0.091223       0.199545   \n",
       "2020-12-31       0.701792       0.181698       0.203715       1.349891   \n",
       "\n",
       "            USDKRW Curncy  USDEUR Curncy  USDKZT Curncy  USDCNY Curncy  \\\n",
       "Dates                                                                    \n",
       "1998-12-31       0.000000       0.034994       0.000000       0.000000   \n",
       "1999-01-29       0.000000       0.022725       0.000000       0.000000   \n",
       "1999-02-26       0.245349       0.055145       0.000000       0.024158   \n",
       "1999-03-31       0.000000       0.043048       0.000000       0.020531   \n",
       "1999-04-30       0.000000       0.042279       0.000000       0.000000   \n",
       "...                   ...            ...            ...            ...   \n",
       "2020-08-31       0.025256            NaN       0.311890       0.030664   \n",
       "2020-09-30       0.017100            NaN       0.231214       0.035342   \n",
       "2020-10-30       0.026428            NaN       0.124804       0.017933   \n",
       "2020-11-30       0.018077            NaN       0.296227       0.088161   \n",
       "2020-12-31       0.009205            NaN       0.313428       0.036769   \n",
       "\n",
       "            USDPHP Curncy  USDNZD Curncy  ...  USDVND Curncy  USDILS Curncy  \\\n",
       "Dates                                     ...                                 \n",
       "1998-12-31       0.000000       0.206448  ...       0.028794       0.000000   \n",
       "1999-01-29       0.000000       6.658420  ...       0.021611       0.000000   \n",
       "1999-02-26       1.026958       2.468617  ...       0.722022       0.000000   \n",
       "1999-03-31       1.032258       6.741573  ...       0.000000       0.000000   \n",
       "1999-04-30       0.000000       2.989829  ...       0.000000       0.144207   \n",
       "...                   ...            ...  ...            ...            ...   \n",
       "2020-08-31       0.146371            NaN  ...       0.125183       0.095397   \n",
       "2020-09-30       0.039186            NaN  ...       0.012940       0.087558   \n",
       "2020-10-30       0.020659            NaN  ...       0.008629       1.087913   \n",
       "2020-11-30       0.041597            NaN  ...       0.125362       0.105833   \n",
       "2020-12-31       0.010411            NaN  ...       0.056282       0.202303   \n",
       "\n",
       "            USDCZK Curncy  USDRUB Curncy  USDTHB Curncy  USDRON Curncy  \\\n",
       "Dates                                                                    \n",
       "1998-12-31       0.132499       0.000000       0.272851       0.000000   \n",
       "1999-01-29       0.154088       0.435730       0.135740       0.000000   \n",
       "1999-02-26       0.070032       0.650054       0.000000       0.000000   \n",
       "1999-03-31       0.084215       0.603015       1.331558       0.000000   \n",
       "1999-04-30       0.084398       0.000000       0.269542       0.000000   \n",
       "...                   ...            ...            ...            ...   \n",
       "2020-08-31       0.118174       0.076686       0.048204       0.165293   \n",
       "2020-09-30       0.216032       0.047016       0.126263       0.170743   \n",
       "2020-10-30       0.473273       0.029548       0.048119       0.282574   \n",
       "2020-11-30       0.228108       0.032594       0.132188       0.217732   \n",
       "2020-12-31       0.475445       0.034268       0.033389       0.422323   \n",
       "\n",
       "            USDUAH Curncy  USDTRY Curncy  USDPEN Curncy  USDPKR Curncy  \n",
       "Dates                                                                   \n",
       "1998-12-31       0.000000       0.095087       0.095042       0.000000  \n",
       "1999-01-29       0.000000       0.059934       0.119367       0.100908  \n",
       "1999-02-26       0.000000       0.141123       0.586510       0.000000  \n",
       "1999-03-31       0.000000       1.608148       0.120012       0.000000  \n",
       "1999-04-30       0.000000       2.396907       0.059916       0.000000  \n",
       "...                   ...            ...            ...            ...  \n",
       "2020-08-31       0.063541       0.575957       0.070568       0.445952  \n",
       "2020-09-30       1.033449       0.498983       0.194310       0.120736  \n",
       "2020-10-30       0.300698       1.385277       0.041490       0.004867  \n",
       "2020-11-30       0.704619       0.582859       0.069306       0.076932  \n",
       "2020-12-31       2.188006       0.825224       0.069099       0.291301  \n",
       "\n",
       "[265 rows x 31 columns]"
      ]
     },
     "execution_count": 306,
     "metadata": {},
     "output_type": "execute_result"
    }
   ],
   "source": [
    "Spread_pct"
   ]
  },
  {
   "cell_type": "code",
   "execution_count": 320,
   "id": "9d4bd48a",
   "metadata": {
    "scrolled": false
   },
   "outputs": [],
   "source": [
    "DescriptiveStats = pd.DataFrame((((((Excess_Returns_1M.mean()/100)+1)**12)-1)*100),columns = ['Annualised mean ExRets pct'])\n",
    "DescriptiveStats['Country'] = Unique_Countries\n",
    "DescriptiveStats = DescriptiveStats.reset_index().set_index('Country')\n",
    "DescriptiveStats['Annualised std ExRets pct'] = np.array(Returns_1M.std()*np.sqrt(12))\n",
    "DescriptiveStats['Avgspreadpct'] = ((((((np.array(Spread_pct.mean())/100)+1)**12)-1)*100))\n",
    "DescriptiveStats['Stdspreadpct'] = np.array(Spread_pct.std()*np.sqrt(12))\n",
    "#DescriptiveStats['Max'] = np.array((Excess_Returns_1M).max()) #(((((Excess_Returns_1M/100)+1)**12)-1)*100).max()\n",
    "#DescriptiveStats['Min'] = np.array((Excess_Returns_1M).min())\n",
    "DescriptiveStats = DescriptiveStats.sort_index()\n",
    "DescriptiveStats['Avg annualised IRD'] = IRD_12M.T.mean()\n",
    "DescriptiveStats['std annualised IRD'] = IRD_12M.T.std()\n",
    "\n",
    "#DescriptiveStats.to_excel('Portfolios/DescriptiveStats1.xlsx')\n"
   ]
  },
  {
   "cell_type": "code",
   "execution_count": 321,
   "id": "871a3a1b",
   "metadata": {
    "scrolled": true
   },
   "outputs": [
    {
     "data": {
      "text/html": [
       "<div>\n",
       "<style scoped>\n",
       "    .dataframe tbody tr th:only-of-type {\n",
       "        vertical-align: middle;\n",
       "    }\n",
       "\n",
       "    .dataframe tbody tr th {\n",
       "        vertical-align: top;\n",
       "    }\n",
       "\n",
       "    .dataframe thead th {\n",
       "        text-align: right;\n",
       "    }\n",
       "</style>\n",
       "<table border=\"1\" class=\"dataframe\">\n",
       "  <thead>\n",
       "    <tr style=\"text-align: right;\">\n",
       "      <th></th>\n",
       "      <th>index</th>\n",
       "      <th>Annualised mean ExRets pct</th>\n",
       "      <th>Annualised std ExRets pct</th>\n",
       "      <th>Avgspreadpct</th>\n",
       "      <th>Stdspreadpct</th>\n",
       "      <th>Avg annualised IRD</th>\n",
       "      <th>std annualised IRD</th>\n",
       "    </tr>\n",
       "    <tr>\n",
       "      <th>Country</th>\n",
       "      <th></th>\n",
       "      <th></th>\n",
       "      <th></th>\n",
       "      <th></th>\n",
       "      <th></th>\n",
       "      <th></th>\n",
       "      <th></th>\n",
       "    </tr>\n",
       "  </thead>\n",
       "  <tbody>\n",
       "    <tr>\n",
       "      <th>Algeria</th>\n",
       "      <td>USDDZD Curncy</td>\n",
       "      <td>1.878484</td>\n",
       "      <td>6.805727</td>\n",
       "      <td>24.991739</td>\n",
       "      <td>7.347180</td>\n",
       "      <td>5.914240</td>\n",
       "      <td>2.936348</td>\n",
       "    </tr>\n",
       "    <tr>\n",
       "      <th>Argentina</th>\n",
       "      <td>USDARS Curncy</td>\n",
       "      <td>-7.410760</td>\n",
       "      <td>23.285699</td>\n",
       "      <td>1.448601</td>\n",
       "      <td>1.125408</td>\n",
       "      <td>17.050390</td>\n",
       "      <td>16.198937</td>\n",
       "    </tr>\n",
       "    <tr>\n",
       "      <th>Bangladesh</th>\n",
       "      <td>USDBDT Curncy</td>\n",
       "      <td>0.705653</td>\n",
       "      <td>3.649689</td>\n",
       "      <td>4.056364</td>\n",
       "      <td>2.133604</td>\n",
       "      <td>3.437500</td>\n",
       "      <td>1.707716</td>\n",
       "    </tr>\n",
       "    <tr>\n",
       "      <th>Brazil</th>\n",
       "      <td>USDBRL Curncy</td>\n",
       "      <td>0.847138</td>\n",
       "      <td>23.099887</td>\n",
       "      <td>0.957941</td>\n",
       "      <td>0.295013</td>\n",
       "      <td>10.484037</td>\n",
       "      <td>5.151662</td>\n",
       "    </tr>\n",
       "    <tr>\n",
       "      <th>Chile</th>\n",
       "      <td>USDCLP Curncy</td>\n",
       "      <td>-0.581958</td>\n",
       "      <td>12.033954</td>\n",
       "      <td>1.248382</td>\n",
       "      <td>0.423652</td>\n",
       "      <td>2.028409</td>\n",
       "      <td>2.342647</td>\n",
       "    </tr>\n",
       "    <tr>\n",
       "      <th>China</th>\n",
       "      <td>USDCNY Curncy</td>\n",
       "      <td>1.672033</td>\n",
       "      <td>2.723182</td>\n",
       "      <td>0.415092</td>\n",
       "      <td>0.217462</td>\n",
       "      <td>0.610227</td>\n",
       "      <td>2.026736</td>\n",
       "    </tr>\n",
       "    <tr>\n",
       "      <th>Colombia</th>\n",
       "      <td>USDCOP Curncy</td>\n",
       "      <td>-0.267039</td>\n",
       "      <td>13.188387</td>\n",
       "      <td>1.608136</td>\n",
       "      <td>0.492551</td>\n",
       "      <td>4.369318</td>\n",
       "      <td>1.979988</td>\n",
       "    </tr>\n",
       "    <tr>\n",
       "      <th>Czech Republic</th>\n",
       "      <td>USDCZK Curncy</td>\n",
       "      <td>0.865104</td>\n",
       "      <td>12.062658</td>\n",
       "      <td>2.965825</td>\n",
       "      <td>0.708394</td>\n",
       "      <td>0.028409</td>\n",
       "      <td>1.289802</td>\n",
       "    </tr>\n",
       "    <tr>\n",
       "      <th>Greece</th>\n",
       "      <td>USDEUR Curncy.1</td>\n",
       "      <td>0.332921</td>\n",
       "      <td>9.718159</td>\n",
       "      <td>0.424541</td>\n",
       "      <td>0.126566</td>\n",
       "      <td>0.588799</td>\n",
       "      <td>1.483901</td>\n",
       "    </tr>\n",
       "    <tr>\n",
       "      <th>Hungary</th>\n",
       "      <td>USDHUF Curncy</td>\n",
       "      <td>1.700682</td>\n",
       "      <td>13.756321</td>\n",
       "      <td>4.303915</td>\n",
       "      <td>0.961136</td>\n",
       "      <td>4.239773</td>\n",
       "      <td>3.717852</td>\n",
       "    </tr>\n",
       "    <tr>\n",
       "      <th>India</th>\n",
       "      <td>USDINR Curncy</td>\n",
       "      <td>2.317694</td>\n",
       "      <td>7.045661</td>\n",
       "      <td>0.724241</td>\n",
       "      <td>0.413401</td>\n",
       "      <td>5.189394</td>\n",
       "      <td>2.150715</td>\n",
       "    </tr>\n",
       "    <tr>\n",
       "      <th>Indonesia</th>\n",
       "      <td>USDIDR Curncy</td>\n",
       "      <td>1.908592</td>\n",
       "      <td>13.332033</td>\n",
       "      <td>3.043551</td>\n",
       "      <td>1.182317</td>\n",
       "      <td>5.580227</td>\n",
       "      <td>1.764660</td>\n",
       "    </tr>\n",
       "    <tr>\n",
       "      <th>Israel</th>\n",
       "      <td>USDILS Curncy</td>\n",
       "      <td>2.210555</td>\n",
       "      <td>7.572294</td>\n",
       "      <td>2.770054</td>\n",
       "      <td>0.549693</td>\n",
       "      <td>1.353732</td>\n",
       "      <td>2.410237</td>\n",
       "    </tr>\n",
       "    <tr>\n",
       "      <th>Kazakhstan</th>\n",
       "      <td>USDKZT Curncy</td>\n",
       "      <td>-1.320484</td>\n",
       "      <td>13.392539</td>\n",
       "      <td>0.930258</td>\n",
       "      <td>0.383753</td>\n",
       "      <td>7.160227</td>\n",
       "      <td>2.850487</td>\n",
       "    </tr>\n",
       "    <tr>\n",
       "      <th>Korea, Rep.</th>\n",
       "      <td>USDKRW Curncy</td>\n",
       "      <td>0.954822</td>\n",
       "      <td>10.538489</td>\n",
       "      <td>0.865240</td>\n",
       "      <td>0.544432</td>\n",
       "      <td>1.043561</td>\n",
       "      <td>1.607917</td>\n",
       "    </tr>\n",
       "    <tr>\n",
       "      <th>Malaysia</th>\n",
       "      <td>USDMYR Curncy</td>\n",
       "      <td>0.892235</td>\n",
       "      <td>6.261262</td>\n",
       "      <td>0.973403</td>\n",
       "      <td>0.234313</td>\n",
       "      <td>1.352333</td>\n",
       "      <td>2.033295</td>\n",
       "    </tr>\n",
       "    <tr>\n",
       "      <th>Mexico</th>\n",
       "      <td>USDMXN Curncy</td>\n",
       "      <td>0.280144</td>\n",
       "      <td>11.571140</td>\n",
       "      <td>1.819590</td>\n",
       "      <td>0.618044</td>\n",
       "      <td>4.248648</td>\n",
       "      <td>2.000053</td>\n",
       "    </tr>\n",
       "    <tr>\n",
       "      <th>New Zealand</th>\n",
       "      <td>USDNZD Curncy</td>\n",
       "      <td>2.640456</td>\n",
       "      <td>12.925666</td>\n",
       "      <td>42.371312</td>\n",
       "      <td>9.592368</td>\n",
       "      <td>2.103084</td>\n",
       "      <td>1.829563</td>\n",
       "    </tr>\n",
       "    <tr>\n",
       "      <th>Nigeria</th>\n",
       "      <td>USDNGN Curncy</td>\n",
       "      <td>1.352346</td>\n",
       "      <td>12.787787</td>\n",
       "      <td>8.173923</td>\n",
       "      <td>4.658888</td>\n",
       "      <td>9.531656</td>\n",
       "      <td>2.802062</td>\n",
       "    </tr>\n",
       "    <tr>\n",
       "      <th>Pakistan</th>\n",
       "      <td>USDPKR Curncy</td>\n",
       "      <td>0.436243</td>\n",
       "      <td>5.703181</td>\n",
       "      <td>1.516473</td>\n",
       "      <td>0.641027</td>\n",
       "      <td>6.168561</td>\n",
       "      <td>2.365966</td>\n",
       "    </tr>\n",
       "    <tr>\n",
       "      <th>Peru</th>\n",
       "      <td>USDPEN Curncy</td>\n",
       "      <td>0.905944</td>\n",
       "      <td>5.095259</td>\n",
       "      <td>1.144307</td>\n",
       "      <td>0.848675</td>\n",
       "      <td>1.680816</td>\n",
       "      <td>2.257565</td>\n",
       "    </tr>\n",
       "    <tr>\n",
       "      <th>Philippines</th>\n",
       "      <td>USDPHP Curncy</td>\n",
       "      <td>1.750505</td>\n",
       "      <td>6.188540</td>\n",
       "      <td>1.699646</td>\n",
       "      <td>0.559655</td>\n",
       "      <td>2.973385</td>\n",
       "      <td>1.867190</td>\n",
       "    </tr>\n",
       "    <tr>\n",
       "      <th>Poland</th>\n",
       "      <td>USDPLN Curncy</td>\n",
       "      <td>1.984409</td>\n",
       "      <td>13.414782</td>\n",
       "      <td>3.219010</td>\n",
       "      <td>1.111883</td>\n",
       "      <td>3.294318</td>\n",
       "      <td>3.759480</td>\n",
       "    </tr>\n",
       "    <tr>\n",
       "      <th>Portugal</th>\n",
       "      <td>USDEUR Curncy</td>\n",
       "      <td>0.332921</td>\n",
       "      <td>9.718159</td>\n",
       "      <td>0.424541</td>\n",
       "      <td>0.126566</td>\n",
       "      <td>0.588799</td>\n",
       "      <td>1.483901</td>\n",
       "    </tr>\n",
       "    <tr>\n",
       "      <th>Romania</th>\n",
       "      <td>USDRON Curncy</td>\n",
       "      <td>0.342955</td>\n",
       "      <td>11.462251</td>\n",
       "      <td>2.623262</td>\n",
       "      <td>0.782963</td>\n",
       "      <td>7.522727</td>\n",
       "      <td>8.483561</td>\n",
       "    </tr>\n",
       "    <tr>\n",
       "      <th>Russian Federation</th>\n",
       "      <td>USDRUB Curncy</td>\n",
       "      <td>1.367042</td>\n",
       "      <td>14.121548</td>\n",
       "      <td>1.312922</td>\n",
       "      <td>0.868477</td>\n",
       "      <td>8.644438</td>\n",
       "      <td>4.235771</td>\n",
       "    </tr>\n",
       "    <tr>\n",
       "      <th>South Africa</th>\n",
       "      <td>USDZAR Curncy</td>\n",
       "      <td>0.232182</td>\n",
       "      <td>16.533842</td>\n",
       "      <td>4.790126</td>\n",
       "      <td>1.297216</td>\n",
       "      <td>6.005682</td>\n",
       "      <td>2.234230</td>\n",
       "    </tr>\n",
       "    <tr>\n",
       "      <th>Thailand</th>\n",
       "      <td>USDTHB Curncy</td>\n",
       "      <td>1.136282</td>\n",
       "      <td>6.194769</td>\n",
       "      <td>1.908220</td>\n",
       "      <td>1.043870</td>\n",
       "      <td>0.397727</td>\n",
       "      <td>1.785101</td>\n",
       "    </tr>\n",
       "    <tr>\n",
       "      <th>Turkey</th>\n",
       "      <td>USDTRY Curncy</td>\n",
       "      <td>2.255785</td>\n",
       "      <td>18.595011</td>\n",
       "      <td>4.687580</td>\n",
       "      <td>2.303514</td>\n",
       "      <td>23.762065</td>\n",
       "      <td>38.141771</td>\n",
       "    </tr>\n",
       "    <tr>\n",
       "      <th>Ukraine</th>\n",
       "      <td>USDUAH Curncy</td>\n",
       "      <td>-0.708913</td>\n",
       "      <td>19.174494</td>\n",
       "      <td>13.940964</td>\n",
       "      <td>7.034113</td>\n",
       "      <td>11.357955</td>\n",
       "      <td>8.155145</td>\n",
       "    </tr>\n",
       "    <tr>\n",
       "      <th>Vietnam</th>\n",
       "      <td>USDVND Curncy</td>\n",
       "      <td>2.511631</td>\n",
       "      <td>2.561491</td>\n",
       "      <td>1.394804</td>\n",
       "      <td>0.562314</td>\n",
       "      <td>5.021591</td>\n",
       "      <td>3.616088</td>\n",
       "    </tr>\n",
       "  </tbody>\n",
       "</table>\n",
       "</div>"
      ],
      "text/plain": [
       "                              index  Annualised mean ExRets pct  \\\n",
       "Country                                                           \n",
       "Algeria               USDDZD Curncy                    1.878484   \n",
       "Argentina             USDARS Curncy                   -7.410760   \n",
       "Bangladesh            USDBDT Curncy                    0.705653   \n",
       "Brazil                USDBRL Curncy                    0.847138   \n",
       "Chile                 USDCLP Curncy                   -0.581958   \n",
       "China                 USDCNY Curncy                    1.672033   \n",
       "Colombia              USDCOP Curncy                   -0.267039   \n",
       "Czech Republic        USDCZK Curncy                    0.865104   \n",
       "Greece              USDEUR Curncy.1                    0.332921   \n",
       "Hungary               USDHUF Curncy                    1.700682   \n",
       "India                 USDINR Curncy                    2.317694   \n",
       "Indonesia             USDIDR Curncy                    1.908592   \n",
       "Israel                USDILS Curncy                    2.210555   \n",
       "Kazakhstan            USDKZT Curncy                   -1.320484   \n",
       "Korea, Rep.           USDKRW Curncy                    0.954822   \n",
       "Malaysia              USDMYR Curncy                    0.892235   \n",
       "Mexico                USDMXN Curncy                    0.280144   \n",
       "New Zealand           USDNZD Curncy                    2.640456   \n",
       "Nigeria               USDNGN Curncy                    1.352346   \n",
       "Pakistan              USDPKR Curncy                    0.436243   \n",
       "Peru                  USDPEN Curncy                    0.905944   \n",
       "Philippines           USDPHP Curncy                    1.750505   \n",
       "Poland                USDPLN Curncy                    1.984409   \n",
       "Portugal              USDEUR Curncy                    0.332921   \n",
       "Romania               USDRON Curncy                    0.342955   \n",
       "Russian Federation    USDRUB Curncy                    1.367042   \n",
       "South Africa          USDZAR Curncy                    0.232182   \n",
       "Thailand              USDTHB Curncy                    1.136282   \n",
       "Turkey                USDTRY Curncy                    2.255785   \n",
       "Ukraine               USDUAH Curncy                   -0.708913   \n",
       "Vietnam               USDVND Curncy                    2.511631   \n",
       "\n",
       "                    Annualised std ExRets pct  Avgspreadpct  Stdspreadpct  \\\n",
       "Country                                                                     \n",
       "Algeria                              6.805727     24.991739      7.347180   \n",
       "Argentina                           23.285699      1.448601      1.125408   \n",
       "Bangladesh                           3.649689      4.056364      2.133604   \n",
       "Brazil                              23.099887      0.957941      0.295013   \n",
       "Chile                               12.033954      1.248382      0.423652   \n",
       "China                                2.723182      0.415092      0.217462   \n",
       "Colombia                            13.188387      1.608136      0.492551   \n",
       "Czech Republic                      12.062658      2.965825      0.708394   \n",
       "Greece                               9.718159      0.424541      0.126566   \n",
       "Hungary                             13.756321      4.303915      0.961136   \n",
       "India                                7.045661      0.724241      0.413401   \n",
       "Indonesia                           13.332033      3.043551      1.182317   \n",
       "Israel                               7.572294      2.770054      0.549693   \n",
       "Kazakhstan                          13.392539      0.930258      0.383753   \n",
       "Korea, Rep.                         10.538489      0.865240      0.544432   \n",
       "Malaysia                             6.261262      0.973403      0.234313   \n",
       "Mexico                              11.571140      1.819590      0.618044   \n",
       "New Zealand                         12.925666     42.371312      9.592368   \n",
       "Nigeria                             12.787787      8.173923      4.658888   \n",
       "Pakistan                             5.703181      1.516473      0.641027   \n",
       "Peru                                 5.095259      1.144307      0.848675   \n",
       "Philippines                          6.188540      1.699646      0.559655   \n",
       "Poland                              13.414782      3.219010      1.111883   \n",
       "Portugal                             9.718159      0.424541      0.126566   \n",
       "Romania                             11.462251      2.623262      0.782963   \n",
       "Russian Federation                  14.121548      1.312922      0.868477   \n",
       "South Africa                        16.533842      4.790126      1.297216   \n",
       "Thailand                             6.194769      1.908220      1.043870   \n",
       "Turkey                              18.595011      4.687580      2.303514   \n",
       "Ukraine                             19.174494     13.940964      7.034113   \n",
       "Vietnam                              2.561491      1.394804      0.562314   \n",
       "\n",
       "                    Avg annualised IRD  std annualised IRD  \n",
       "Country                                                     \n",
       "Algeria                       5.914240            2.936348  \n",
       "Argentina                    17.050390           16.198937  \n",
       "Bangladesh                    3.437500            1.707716  \n",
       "Brazil                       10.484037            5.151662  \n",
       "Chile                         2.028409            2.342647  \n",
       "China                         0.610227            2.026736  \n",
       "Colombia                      4.369318            1.979988  \n",
       "Czech Republic                0.028409            1.289802  \n",
       "Greece                        0.588799            1.483901  \n",
       "Hungary                       4.239773            3.717852  \n",
       "India                         5.189394            2.150715  \n",
       "Indonesia                     5.580227            1.764660  \n",
       "Israel                        1.353732            2.410237  \n",
       "Kazakhstan                    7.160227            2.850487  \n",
       "Korea, Rep.                   1.043561            1.607917  \n",
       "Malaysia                      1.352333            2.033295  \n",
       "Mexico                        4.248648            2.000053  \n",
       "New Zealand                   2.103084            1.829563  \n",
       "Nigeria                       9.531656            2.802062  \n",
       "Pakistan                      6.168561            2.365966  \n",
       "Peru                          1.680816            2.257565  \n",
       "Philippines                   2.973385            1.867190  \n",
       "Poland                        3.294318            3.759480  \n",
       "Portugal                      0.588799            1.483901  \n",
       "Romania                       7.522727            8.483561  \n",
       "Russian Federation            8.644438            4.235771  \n",
       "South Africa                  6.005682            2.234230  \n",
       "Thailand                      0.397727            1.785101  \n",
       "Turkey                       23.762065           38.141771  \n",
       "Ukraine                      11.357955            8.155145  \n",
       "Vietnam                       5.021591            3.616088  "
      ]
     },
     "execution_count": 321,
     "metadata": {},
     "output_type": "execute_result"
    }
   ],
   "source": [
    "DescriptiveStats"
   ]
  },
  {
   "cell_type": "code",
   "execution_count": 23,
   "id": "4158896f",
   "metadata": {},
   "outputs": [
    {
     "data": {
      "text/plain": [
       "USDPLN Curncy      1.891055\n",
       "USDZAR Curncy      0.115692\n",
       "USDCLP Curncy      0.967774\n",
       "USDNGN Curncy      0.755169\n",
       "USDKRW Curncy      0.419732\n",
       "USDEUR Curncy      0.151501\n",
       "USDKZT Curncy      0.394597\n",
       "USDCNY Curncy      0.226759\n",
       "USDPHP Curncy      0.209885\n",
       "USDNZD Curncy      0.184433\n",
       "USDINR Curncy      0.774256\n",
       "USDBDT Curncy      0.005950\n",
       "USDMYR Curncy      0.337626\n",
       "USDIDR Curncy      0.579612\n",
       "USDCOP Curncy      1.130509\n",
       "USDMXN Curncy      0.336601\n",
       "USDDZD Curncy      0.115702\n",
       "USDEUR Curncy.1    0.013532\n",
       "USDARS Curncy      0.657915\n",
       "USDBRL Curncy      0.536959\n",
       "USDHUF Curncy      0.674145\n",
       "USDVND Curncy      0.022901\n",
       "USDILS Curncy      0.221709\n",
       "USDCZK Curncy      1.086764\n",
       "USDRUB Curncy      0.993702\n",
       "USDTHB Curncy      0.334840\n",
       "USDRON Curncy      0.613515\n",
       "USDUAH Curncy      0.337108\n",
       "USDTRY Curncy      1.698605\n",
       "USDPEN Curncy      0.093222\n",
       "USDPKR Curncy      0.594318\n",
       "dtype: float64"
      ]
     },
     "execution_count": 23,
     "metadata": {},
     "output_type": "execute_result"
    }
   ],
   "source": [
    "(((((BenchmarkTotal_3_1.mean()/100)+1)**12)-1)*100)"
   ]
  },
  {
   "cell_type": "markdown",
   "id": "9a89c7ae",
   "metadata": {},
   "source": [
    "# Different Split sizes"
   ]
  },
  {
   "cell_type": "code",
   "execution_count": 318,
   "id": "2841b3fe",
   "metadata": {},
   "outputs": [],
   "source": [
    "#Excess Returns with different splits. Change split inside loop.\n",
    "Rets = [[1,Excess_Returns_1M,RollingVolatility_1M],[3,Excess_Returns_3M,RollingVolatility_3M],\\\n",
    "        [6,Excess_Returns_6M,RollingVolatility_6M],[9,Excess_Returns_9M,RollingVolatility_9M],\\\n",
    "        [12,Excess_Returns_12M,RollingVolatility_12M]]\n",
    "\n",
    "TotalAverageReturns_df = pd.DataFrame(0.,columns = [1,3,6,9,12],index=[1,3,6,9,12])\n",
    "LongAverageReturns_df = pd.DataFrame(0.,columns = [1,3,6,9,12],index=[1,3,6,9,12])\n",
    "ShortAverageReturns_df = pd.DataFrame(0.,columns = [1,3,6,9,12],index=[1,3,6,9,12])\n",
    "TotalPval = pd.DataFrame(columns = [1,3,6,9,12],index=[1,3,6,9,12])\n",
    "LongPval = pd.DataFrame(columns = [1,3,6,9,12],index=[1,3,6,9,12])\n",
    "ShortPval = pd.DataFrame(columns = [1,3,6,9,12],index=[1,3,6,9,12])\n",
    "\n",
    "AnnualizedSharpeRatiosTotal_df = pd.DataFrame(0.,columns = [1,3,6,9,12],index=[1,3,6,9,12])\n",
    "AnnualizedSharpeRatiosLong_df = pd.DataFrame(0.,columns = [1,3,6,9,12],index=[1,3,6,9,12])\n",
    "AnnualizedSharpeRatiosShort_df = pd.DataFrame(0.,columns = [1,3,6,9,12],index=[1,3,6,9,12])\n",
    "SharpeTotalpval = pd.DataFrame(columns = [1,3,6,9,12],index=[1,3,6,9,12])\n",
    "SharpeLongpval = pd.DataFrame(columns = [1,3,6,9,12],index=[1,3,6,9,12])\n",
    "SharpeShortpval = pd.DataFrame(columns = [1,3,6,9,12],index=[1,3,6,9,12])\n",
    "\n",
    "\n",
    "for i in range(5): #f\n",
    "    for j in range(5): #h\n",
    "        total,long,short = CurrencyMomentumPortfolios(Yearly_EmergingTickers,Rets[i][1],\\\n",
    "                            Rets[j][1],Rets[i][0],Rets[j][0],9,Rets[i][2],'returns','equal')\n",
    "\n",
    "        TotalAverageReturns_df.iloc[i,j] = ((((total.T.sum().mean()/100)+1)**(12/Rets[j][0])-1)*100)\n",
    "        LongAverageReturns_df.iloc[i,j] = ((((long.T.sum().mean()/100)+1)**(12/Rets[j][0])-1)*100)\n",
    "        ShortAverageReturns_df.iloc[i,j] = ((((short.T.sum().mean()/100)+1)**(12/Rets[j][0])-1)*100)        \n",
    "        TotalPval.iat[i,j] = st.ttest_1samp(total.T.sum(),0)[1]\n",
    "        LongPval.iat[i,j] = st.ttest_1samp(long.T.sum(),0)[1]\n",
    "        ShortPval.iat[i,j] = st.ttest_1samp(short.T.sum(),0)[1]\n",
    "        \n",
    "        AnnualizedSharpeRatiosTotal_df.iloc[i,j] = ((((total.T.sum().mean()/100)+1)**(12/Rets[j][0])-1)*100)/(total.T.sum().std()*np.sqrt(12/Rets[j][0]))\n",
    "        AnnualizedSharpeRatiosLong_df.iloc[i,j] = ((((long.T.sum().mean()/100)+1)**(12/Rets[j][0])-1)*100)/(long.T.sum().std()*np.sqrt(12/Rets[j][0]))\n",
    "        AnnualizedSharpeRatiosShort_df.iloc[i,j] = ((((short.T.sum().mean()/100)+1)**(12/Rets[j][0])-1)*100)/(short.T.sum().std()*np.sqrt(12/Rets[j][0]))\n",
    "        SharpeTotalpval.iloc[i,j] = st.ttest_1samp(total.T.sum()/total.T.std(),0)[1]\n",
    "        SharpeLongpval.iloc[i,j] = st.ttest_1samp(long.T.sum()/long.T.std(),0)[1]\n",
    "        SharpeShortpval.iloc[i,j] = st.ttest_1samp(short.T.sum()/short.T.std(),0)[1]"
   ]
  },
  {
   "cell_type": "code",
   "execution_count": 319,
   "id": "8478fcf2",
   "metadata": {},
   "outputs": [],
   "source": [
    "TotalAverageReturns_df.to_excel('Portfolios/TotalReturnsSplit.xlsx',sheet_name='9Split')\n",
    "ShortAverageReturns_df.to_excel('Portfolios/Short.xlsx',sheet_name='Short')\n",
    "LongAverageReturns_df.to_excel('Portfolios/Long.xlsx',sheet_name='Long')\n",
    "TotalPval.to_excel('Portfolios/TotalP.xlsx',sheet_name='Long')\n",
    "LongPval.to_excel('Portfolios/LongP.xlsx',sheet_name='Long')\n",
    "ShortPval.to_excel('Portfolios/ShortP.xlsx',sheet_name='Long')\n",
    "\n",
    "AnnualizedSharpeRatiosTotal_df.to_excel('Portfolios/TotalSharpe.xlsx',sheet_name='Long')\n",
    "AnnualizedSharpeRatiosLong_df.to_excel('Portfolios/LongSharpe.xlsx',sheet_name='Long')\n",
    "AnnualizedSharpeRatiosShort_df.to_excel('Portfolios/ShortSharpe.xlsx',sheet_name='Long')\n",
    "SharpeTotalpval.to_excel('Portfolios/TotalSharpePVAL.xlsx',sheet_name='Long')\n",
    "SharpeLongpval.to_excel('Portfolios/LongSharpePVAL.xlsx',sheet_name='Long')\n",
    "SharpeShortpval.to_excel('Portfolios/ShortSharpePVAL.xlsx',sheet_name='Long')"
   ]
  },
  {
   "cell_type": "markdown",
   "id": "649da330",
   "metadata": {},
   "source": [
    "# Results after removing pegged"
   ]
  },
  {
   "cell_type": "code",
   "execution_count": 287,
   "id": "a79405b5",
   "metadata": {},
   "outputs": [],
   "source": [
    "#Excess returns after removing pegged countries - based on /compared to benchmark only. Change peg setting within loop.\n",
    "\n",
    "Rets = [[1,Excess_Returns_1M,RollingVolatility_1M],[3,Excess_Returns_3M,RollingVolatility_3M],\\\n",
    "        [6,Excess_Returns_6M,RollingVolatility_6M],[9,Excess_Returns_9M,RollingVolatility_9M],\\\n",
    "        [12,Excess_Returns_12M,RollingVolatility_12M]]\n",
    "\n",
    "TotalAverageReturns_df = pd.DataFrame(0.,columns = [1,3,6,9,12],index=[1,3,6,9,12])\n",
    "LongAverageReturns_df = pd.DataFrame(0.,columns = [1,3,6,9,12],index=[1,3,6,9,12])\n",
    "ShortAverageReturns_df = pd.DataFrame(0.,columns = [1,3,6,9,12],index=[1,3,6,9,12])\n",
    "TotalPval = pd.DataFrame(columns = [1,3,6,9,12],index=[1,3,6,9,12])\n",
    "LongPval = pd.DataFrame(columns = [1,3,6,9,12],index=[1,3,6,9,12])\n",
    "ShortPval = pd.DataFrame(columns = [1,3,6,9,12],index=[1,3,6,9,12])\n",
    "\n",
    "AnnualizedSharpeRatiosTotal_df = pd.DataFrame(0.,columns = [1,3,6,9,12],index=[1,3,6,9,12])\n",
    "AnnualizedSharpeRatiosLong_df = pd.DataFrame(0.,columns = [1,3,6,9,12],index=[1,3,6,9,12])\n",
    "AnnualizedSharpeRatiosShort_df = pd.DataFrame(0.,columns = [1,3,6,9,12],index=[1,3,6,9,12])\n",
    "SharpeTotalpval = pd.DataFrame(columns = [1,3,6,9,12],index=[1,3,6,9,12])\n",
    "SharpeLongpval = pd.DataFrame(columns = [1,3,6,9,12],index=[1,3,6,9,12])\n",
    "SharpeShortpval = pd.DataFrame(columns = [1,3,6,9,12],index=[1,3,6,9,12])\n",
    "\n",
    "\n",
    "for i in range(5): #f\n",
    "    for j in range(5): #h\n",
    "        total,long,short = CurrencyMomentumPortfolios(Yearly_Unpegged1and2Tickers,Rets[i][1],\\\n",
    "                            Rets[j][1],Rets[i][0],Rets[j][0],3,Rets[i][2],'returns','equal')\n",
    "        \n",
    "        TotalAverageReturns_df.iloc[i,j] = ((((total.T.sum().mean()/100)+1)**(12/Rets[j][0])-1)*100)\n",
    "        LongAverageReturns_df.iloc[i,j] = ((((long.T.sum().mean()/100)+1)**(12/Rets[j][0])-1)*100)\n",
    "        ShortAverageReturns_df.iloc[i,j] = ((((short.T.sum().mean()/100)+1)**(12/Rets[j][0])-1)*100)        \n",
    "        TotalPval.iat[i,j] = st.ttest_1samp(total.T.sum(),0)[1]\n",
    "        LongPval.iat[i,j] = st.ttest_1samp(long.T.sum(),0)[1]\n",
    "        ShortPval.iat[i,j] = st.ttest_1samp(short.T.sum(),0)[1]\n",
    "        \n",
    "        AnnualizedSharpeRatiosTotal_df.iloc[i,j] = ((((total.T.sum().mean()/100)+1)**(12/Rets[j][0])-1)*100)/(total.T.sum().std()*np.sqrt(12/Rets[j][0]))\n",
    "        AnnualizedSharpeRatiosLong_df.iloc[i,j] = ((((long.T.sum().mean()/100)+1)**(12/Rets[j][0])-1)*100)/(long.T.sum().std()*np.sqrt(12/Rets[j][0]))\n",
    "        AnnualizedSharpeRatiosShort_df.iloc[i,j] = ((((short.T.sum().mean()/100)+1)**(12/Rets[j][0])-1)*100)/(short.T.sum().std()*np.sqrt(12/Rets[j][0]))\n",
    "        SharpeTotalpval.iloc[i,j] = st.ttest_1samp(total.T.sum()/total.T.std(),0)[1]\n",
    "        SharpeLongpval.iloc[i,j] = st.ttest_1samp(long.T.sum()/long.T.std(),0)[1]\n",
    "        SharpeShortpval.iloc[i,j] = st.ttest_1samp(short.T.sum()/short.T.std(),0)[1]\n",
    "                "
   ]
  },
  {
   "cell_type": "code",
   "execution_count": 289,
   "id": "cf21bef9",
   "metadata": {},
   "outputs": [],
   "source": [
    "TotalAverageReturns_df.to_excel('Portfolios/TotalReturnsUnpegged.xlsx',sheet_name='Total')\n",
    "ShortAverageReturns_df.to_excel('Portfolios/Short.xlsx',sheet_name='Short')\n",
    "LongAverageReturns_df.to_excel('Portfolios/Long.xlsx',sheet_name='Long')\n",
    "TotalPval.to_excel('Portfolios/TotalP.xlsx',sheet_name='Long')\n",
    "LongPval.to_excel('Portfolios/LongP.xlsx',sheet_name='Long')\n",
    "ShortPval.to_excel('Portfolios/ShortP.xlsx',sheet_name='Long')\n",
    "\n",
    "AnnualizedSharpeRatiosTotal_df.to_excel('Portfolios/TotalSharpe.xlsx',sheet_name='Long')\n",
    "AnnualizedSharpeRatiosLong_df.to_excel('Portfolios/LongSharpe.xlsx',sheet_name='Long')\n",
    "AnnualizedSharpeRatiosShort_df.to_excel('Portfolios/ShortSharpe.xlsx',sheet_name='Long')\n",
    "SharpeTotalpval.to_excel('Portfolios/TotalSharpePVAL.xlsx',sheet_name='Long')\n",
    "SharpeLongpval.to_excel('Portfolios/LongSharpePVAL.xlsx',sheet_name='Long')\n",
    "SharpeShortpval.to_excel('Portfolios/ShortSharpePVAL.xlsx',sheet_name='Long')\n"
   ]
  },
  {
   "cell_type": "markdown",
   "id": "8a23ec96",
   "metadata": {},
   "source": [
    "# Double Sort by volatility"
   ]
  },
  {
   "cell_type": "code",
   "execution_count": 357,
   "id": "0ff7bf55",
   "metadata": {
    "scrolled": true
   },
   "outputs": [],
   "source": [
    "YearlyEmergingHighVol = []\n",
    "YearlyEmergingLowVol = []\n",
    "list98on = [1998]+list(Yearly_EmergingCountries.index[:-1])\n",
    "list99on =  list(Yearly_EmergingCountries.index)\n",
    "for i in range(len(Yearly_EmergingCountries.index)):\n",
    "    VolList = []\n",
    "    for date in RollingVolatility_12MRAW.index:\n",
    "        if (date.year == list98on[i])&(date.month == 12):\n",
    "            for ticker in Yearly_EmergingTickers.loc[list99on[i]]['EmergingCountries']:\n",
    "                #print(RollingVolatility_12MRAW.loc[date,ticker])\n",
    "                VolList.append([ticker,RollingVolatility_12MRAW.loc[date,ticker]])\n",
    "    lengthi = len(Yearly_EmergingCountries.iloc[i]['EmergingCountries'])\n",
    "    EmergingCountryVol = pd.DataFrame(VolList,columns = ['tickers','values']).set_index('tickers')\n",
    "    winners = list(EmergingCountryVol['values'].nlargest(int(np.floor(lengthi/2))).index)\n",
    "    losers = list(EmergingCountryVol['values'].nsmallest(int(np.floor(lengthi/2))).index)\n",
    "    YearlyEmergingHighVol.append([list99on[i],winners])\n",
    "    YearlyEmergingLowVol.append([list99on[i],losers])\n",
    "    \n",
    "Yearly_EmergingHighVol = pd.DataFrame(YearlyEmergingHighVol,columns = ['year','tickers']).set_index('year')\n",
    "Yearly_EmergingLowVol = pd.DataFrame(YearlyEmergingLowVol,columns = ['year','tickers']).set_index('year')"
   ]
  },
  {
   "cell_type": "markdown",
   "id": "2b4afb64",
   "metadata": {},
   "source": [
    "# Volatility Factor"
   ]
  },
  {
   "cell_type": "code",
   "execution_count": 471,
   "id": "d3b1d358",
   "metadata": {},
   "outputs": [
    {
     "data": {
      "text/plain": [
       "['USDCNY Curncy', 'USDARS Curncy', 'USDCLP Curncy', 'USDMYR Curncy']"
      ]
     },
     "execution_count": 471,
     "metadata": {},
     "output_type": "execute_result"
    }
   ],
   "source": [
    "Yearly_EmergingLowVol.loc[2000][0]"
   ]
  },
  {
   "cell_type": "code",
   "execution_count": 486,
   "id": "8f9b7579",
   "metadata": {},
   "outputs": [],
   "source": [
    "VOLFactor = []\n",
    "for yr in Yearly_EmergingHighVol['tickers'].index:\n",
    "    weight = 1/(len(Yearly_EmergingHighVol['tickers'][year])*2)\n",
    "    LosersReturns = Excess_Returns_1M[Yearly_EmergingHighVol.loc[yr][0]].T.sum()\\\n",
    "                [Excess_Returns_1M[Yearly_EmergingHighVol.loc[yr][0]].T.sum().index.year == yr]\n",
    "    WinnersReturns = Excess_Returns_1M[Yearly_EmergingLowVol.loc[yr][0]].T.sum()\\\n",
    "                [Excess_Returns_1M[Yearly_EmergingLowVol.loc[yr][0]].T.sum().index.year == yr]\n",
    "    for i in range(len(WinnersReturns)):\n",
    "        VOLFactor.append(weight*WinnersReturns[i]-(weight*LosersReturns[i]))"
   ]
  },
  {
   "cell_type": "code",
   "execution_count": 491,
   "id": "f4cdca27",
   "metadata": {},
   "outputs": [],
   "source": [
    "pd.DataFrame(VOLFactor).to_excel('Portfolios/VOLFactor.xlsx')"
   ]
  },
  {
   "cell_type": "code",
   "execution_count": 490,
   "id": "0d4fcb5a",
   "metadata": {},
   "outputs": [
    {
     "data": {
      "text/plain": [
       "<AxesSubplot:>"
      ]
     },
     "execution_count": 490,
     "metadata": {},
     "output_type": "execute_result"
    },
    {
     "data": {
      "image/png": "[encoded data removed]",
      "text/plain": [
       "<Figure size 432x288 with 1 Axes>"
      ]
     },
     "metadata": {
      "needs_background": "light"
     },
     "output_type": "display_data"
    }
   ],
   "source": [
    "pd.DataFrame(VOLFactor).cumsum().plot()"
   ]
  },
  {
   "cell_type": "code",
   "execution_count": 596,
   "id": "fdc47f48",
   "metadata": {},
   "outputs": [],
   "source": [
    "#Running Momentum Equal weight ExcessReturns on HighVol and LowVol - change ticker setting inside loop for highvol vs lowvol.\n",
    "Rets = [[1,Excess_Returns_1M,RollingVolatility_1M],[3,Excess_Returns_3M,RollingVolatility_3M],\\\n",
    "        [6,Excess_Returns_6M,RollingVolatility_6M],[9,Excess_Returns_9M,RollingVolatility_9M],\\\n",
    "        [12,Excess_Returns_12M,RollingVolatility_12M]]\n",
    "\n",
    "TotalAverageReturns_df = pd.DataFrame(0.,columns = [1,3,6,9,12],index=[1,3,6,9,12])\n",
    "LongAverageReturns_df = pd.DataFrame(0.,columns = [1,3,6,9,12],index=[1,3,6,9,12])\n",
    "ShortAverageReturns_df = pd.DataFrame(0.,columns = [1,3,6,9,12],index=[1,3,6,9,12])\n",
    "TotalPval = pd.DataFrame(columns = [1,3,6,9,12],index=[1,3,6,9,12])\n",
    "LongPval = pd.DataFrame(columns = [1,3,6,9,12],index=[1,3,6,9,12])\n",
    "ShortPval = pd.DataFrame(columns = [1,3,6,9,12],index=[1,3,6,9,12])\n",
    "\n",
    "AnnualizedSharpeRatiosTotal_df = pd.DataFrame(0.,columns = [1,3,6,9,12],index=[1,3,6,9,12])\n",
    "AnnualizedSharpeRatiosLong_df = pd.DataFrame(0.,columns = [1,3,6,9,12],index=[1,3,6,9,12])\n",
    "AnnualizedSharpeRatiosShort_df = pd.DataFrame(0.,columns = [1,3,6,9,12],index=[1,3,6,9,12])\n",
    "SharpeTotalpval = pd.DataFrame(columns = [1,3,6,9,12],index=[1,3,6,9,12])\n",
    "SharpeLongpval = pd.DataFrame(columns = [1,3,6,9,12],index=[1,3,6,9,12])\n",
    "SharpeShortpval = pd.DataFrame(columns = [1,3,6,9,12],index=[1,3,6,9,12])\n",
    "\n",
    "\n",
    "for i in range(5): #f\n",
    "    for j in range(5): #h\n",
    "        total,long,short = CurrencyMomentumPortfolios(Yearly_EmergingLowVol,Rets[i][1],\\\n",
    "                            Rets[j][1],Rets[i][0],Rets[j][0],3,Rets[i][2],'returns','equal')\n",
    "        \n",
    "        TotalAverageReturns_df.iloc[i,j] = ((((total.T.sum().mean()/100)+1)**(12/Rets[j][0])-1)*100)\n",
    "        LongAverageReturns_df.iloc[i,j] = ((((long.T.sum().mean()/100)+1)**(12/Rets[j][0])-1)*100)\n",
    "        ShortAverageReturns_df.iloc[i,j] = ((((short.T.sum().mean()/100)+1)**(12/Rets[j][0])-1)*100)        \n",
    "        TotalPval.iat[i,j] = st.ttest_1samp(total.T.sum(),0)[1]\n",
    "        LongPval.iat[i,j] = st.ttest_1samp(long.T.sum(),0)[1]\n",
    "        ShortPval.iat[i,j] = st.ttest_1samp(short.T.sum(),0)[1]\n",
    "        \n",
    "        AnnualizedSharpeRatiosTotal_df.iloc[i,j] = ((((total.T.sum().mean()/100)+1)**(12/Rets[j][0])-1)*100)/(total.T.sum().std()*np.sqrt(12/Rets[j][0]))\n",
    "        AnnualizedSharpeRatiosLong_df.iloc[i,j] = ((((long.T.sum().mean()/100)+1)**(12/Rets[j][0])-1)*100)/(long.T.sum().std()*np.sqrt(12/Rets[j][0]))\n",
    "        AnnualizedSharpeRatiosShort_df.iloc[i,j] = ((((short.T.sum().mean()/100)+1)**(12/Rets[j][0])-1)*100)/(short.T.sum().std()*np.sqrt(12/Rets[j][0]))\n",
    "        SharpeTotalpval.iloc[i,j] = st.ttest_1samp(total.T.sum()/total.T.std(),0)[1]\n",
    "        SharpeLongpval.iloc[i,j] = st.ttest_1samp(long.T.sum()/long.T.std(),0)[1]\n",
    "        SharpeShortpval.iloc[i,j] = st.ttest_1samp(short.T.sum()/short.T.std(),0)[1]"
   ]
  },
  {
   "cell_type": "code",
   "execution_count": 597,
   "id": "3dac4482",
   "metadata": {},
   "outputs": [],
   "source": [
    "TotalAverageReturns_df.to_excel('Portfolios/TotalReturnsLowVol.xlsx',sheet_name='Total')\n",
    "ShortAverageReturns_df.to_excel('Portfolios/Short.xlsx',sheet_name='Short')\n",
    "LongAverageReturns_df.to_excel('Portfolios/Long.xlsx',sheet_name='Long')\n",
    "TotalPval.to_excel('Portfolios/TotalP.xlsx',sheet_name='Long')\n",
    "LongPval.to_excel('Portfolios/LongP.xlsx',sheet_name='Long')\n",
    "ShortPval.to_excel('Portfolios/ShortP.xlsx',sheet_name='Long')\n",
    "\n",
    "AnnualizedSharpeRatiosTotal_df.to_excel('Portfolios/TotalSharpe.xlsx',sheet_name='Long')\n",
    "AnnualizedSharpeRatiosLong_df.to_excel('Portfolios/LongSharpe.xlsx',sheet_name='Long')\n",
    "AnnualizedSharpeRatiosShort_df.to_excel('Portfolios/ShortSharpe.xlsx',sheet_name='Long')\n",
    "SharpeTotalpval.to_excel('Portfolios/TotalSharpePVAL.xlsx',sheet_name='Long')\n",
    "SharpeLongpval.to_excel('Portfolios/LongSharpePVAL.xlsx',sheet_name='Long')\n",
    "SharpeShortpval.to_excel('Portfolios/ShortSharpePVAL.xlsx',sheet_name='Long')"
   ]
  },
  {
   "cell_type": "markdown",
   "id": "76b45cd9",
   "metadata": {},
   "source": [
    "# Structural break and cumulative analysis"
   ]
  },
  {
   "cell_type": "code",
   "execution_count": 654,
   "id": "c3f51a92",
   "metadata": {},
   "outputs": [],
   "source": [
    "(BenchmarkTotal_1_1.T.sum().cumsum()).to_excel('Portfolios/Mom_1_1Analysis.xlsx')\n",
    "#(BenchmarkTotal_3_1.T.sum().cumsum()).to_excel('Portfolios/Mom_3_1Analysis.xlsx')"
   ]
  },
  {
   "cell_type": "code",
   "execution_count": 622,
   "id": "7407e08c",
   "metadata": {},
   "outputs": [
    {
     "data": {
      "text/plain": [
       "[<matplotlib.lines.Line2D at 0x7fdf0219b050>]"
      ]
     },
     "execution_count": 622,
     "metadata": {},
     "output_type": "execute_result"
    },
    {
     "data": {
      "image/png": "[encoded data removed]",
      "text/plain": [
       "<Figure size 432x288 with 1 Axes>"
      ]
     },
     "metadata": {
      "needs_background": "light"
     },
     "output_type": "display_data"
    }
   ],
   "source": [
    "plt.plot(BenchmarkTotal_1_1.T.sum().cumsum())"
   ]
  },
  {
   "cell_type": "code",
   "execution_count": 649,
   "id": "49612db0",
   "metadata": {
    "scrolled": true
   },
   "outputs": [],
   "source": [
    "PctUp = 100*np.sum(BenchmarkTotal_1_1.T.sum()>0)/len(BenchmarkTotal_1_1.T.sum())\n",
    "PctDown = 100*np.sum(BenchmarkTotal_1_1.T.sum()<0)/len(BenchmarkTotal_1_1.T.sum())"
   ]
  },
  {
   "cell_type": "markdown",
   "id": "271aacfd",
   "metadata": {},
   "source": [
    "# Exploring the different the ranking method"
   ]
  },
  {
   "cell_type": "code",
   "execution_count": null,
   "id": "4f251c47",
   "metadata": {},
   "outputs": [],
   "source": []
  }
 ],
 "metadata": {
  "kernelspec": {
   "display_name": "Python 3",
   "language": "python",
   "name": "python3"
  },
  "language_info": {
   "codemirror_mode": {
    "name": "ipython",
    "version": 3
   },
   "file_extension": ".py",
   "mimetype": "text/x-python",
   "name": "python",
   "nbconvert_exporter": "python",
   "pygments_lexer": "ipython3",
   "version": "3.7.10"
  }
 },
 "nbformat": 4,
 "nbformat_minor": 5
}
